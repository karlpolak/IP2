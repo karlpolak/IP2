{
 "cells": [
  {
   "cell_type": "code",
   "execution_count": 1,
   "metadata": {},
   "outputs": [],
   "source": [
    "import warnings\n",
    "warnings.filterwarnings('ignore') # hide warnings\n",
    "import sys\n",
    "sys.path.append(\"..\")\n",
    "import geopandas as gpd\n",
    "import pandas as pd\n",
    "import numpy as np\n",
    "from sklearn.cluster import KMeans"
   ]
  },
  {
   "cell_type": "code",
   "execution_count": 2,
   "metadata": {},
   "outputs": [],
   "source": [
    "# OVERVIEW:\n",
    "# Step 1: Relabel the zonenumbers to our actual numbers (such that zone 3 has id 3, not id 7 for example)\n",
    "# Step 2: Split the shapefile into the different zones\n",
    "# Step 3: Clustering + retrieving for each original zone to which cluster it belongs\n",
    "# Step 4: Update the centroids and the OD-matrix"
   ]
  },
  {
   "cell_type": "code",
   "execution_count": 3,
   "metadata": {},
   "outputs": [],
   "source": [
    "# STEP 1\n",
    "city = \"BRUSSEL\"\n",
    "radius = \"40\"\n",
    "\n",
    "path_orig_shapefile = f\"STA_prep/shapefile_data/{city}_{radius}_10/{city}_{radius}_10.shp\"\n",
    "qgis_path = f\"QGIS/{city}_V2_{radius}_10.shp\"\n",
    "shapefile = gpd.read_file(path_orig_shapefile)\n",
    "shapefile[\"ZONENUMMER\"] = list(range(1,len(shapefile)+1))\n",
    "shapefile.to_file(qgis_path)"
   ]
  },
  {
   "cell_type": "code",
   "execution_count": 4,
   "metadata": {},
   "outputs": [],
   "source": [
    "# STEP 2: QGIS\n",
    "# Find centroid of whole area --> Split circle into bands with inner and outer radiuses 0-10, 10-20, 20-40 \n",
    "# For radius 0-10: Vector --> Research tools --> Select by location: Select features from Brussel_40_10 by comparing to radius_0-10 based on intersect\n",
    "#                  Right click Brussel_40_10 layer and export the selected features to a new layer brussel_40_10_0-10\n",
    "# For radius 10-20: Vector --> Research tools --> Select by location: 3 operations:\n",
    "#                       1) \"creating new selection\" from brussel_40_10 intersect with radius 10-20\n",
    "#                       2) \"removing from current selection\" from brussel_40-10 equal with brussel_40_10_0-10 (to make sure that no zones is included in multiple bands)\n",
    "#                       3) Export selected features to brussel_40_10_10-20\n",
    "# For radius 20-40: Vector --> Research tools --> Select by location: 4 operations: \n",
    "#                       1) Select all features (such that some small zones from outside the 40 radius are also included)\n",
    "#                       3) \"Remove from current selection\" from brussel_40-10 equal to brussel_40_10_10-20\n",
    "#                       4) \"Remove from current selection\" from brussel_40-10 equal to brussel_40_10_0-10\n",
    "#                       5) Export selected features to brussel_40_10_20-40\n",
    "\n",
    "\n",
    "# TODO: this code is not error proof... 1 zone was included in both 10-20 and 20-40\n",
    "# I removed it manually. Karls' way of working might be easier to use! "
   ]
  },
  {
   "cell_type": "code",
   "execution_count": 5,
   "metadata": {},
   "outputs": [
    {
     "name": "stdout",
     "output_type": "stream",
     "text": [
      "Aggregation of 233 zones into 59 clusters.\n",
      "Basic statistics of zone aggregation:\n",
      "count    59.000000\n",
      "mean      3.949153\n",
      "std       2.136899\n",
      "min       1.000000\n",
      "25%       2.000000\n",
      "50%       4.000000\n",
      "75%       5.000000\n",
      "max      11.000000\n",
      "dtype: float64\n",
      "\n",
      "Aggregation of 917 zones into 58 clusters.\n",
      "Basic statistics of zone aggregation:\n",
      "count    58.000000\n",
      "mean     15.810345\n",
      "std      10.320235\n",
      "min       6.000000\n",
      "25%       9.000000\n",
      "50%      13.000000\n",
      "75%      20.500000\n",
      "max      67.000000\n",
      "dtype: float64\n",
      "\n"
     ]
    }
   ],
   "source": [
    "# STEP 3: clustering\n",
    "\n",
    "# settings\n",
    "radius1 = \"0-10\"\n",
    "radius2 = \"10-20\"\n",
    "radius3 = \"20-40\"\n",
    "# groupSize1 = 1 not needed\n",
    "groupSize2 = 4\n",
    "groupSize3 = 16\n",
    "\n",
    "# TODO make code more waterproof (naming of input and outputfile)\n",
    "def aggregate_zones(city = city, radius = radius2, idealNbZonesPerCluster = groupSize2):\n",
    "    '''\n",
    "    original shapefile will change: 'cluster' column containing the cluster to which each zone belongs\n",
    "    new shapefill will be created: shapefile consisting of aggregated zones\n",
    "\n",
    "    Note:\n",
    "    code not waterproof: always looks in folder \"QGIS\"\n",
    "    '''\n",
    "    inputFile = f\"QGIS/{city}_V2_40_10_{radius}.shp\"\n",
    "    outputFile = f\"QGIS/{city}_V2_40_10_{radius}_knn.shp\"\n",
    "    shapefile = gpd.read_file(inputFile)\n",
    "\n",
    "    points = np.array(shapefile.centroid.apply(lambda p: [p.x, p.y]).tolist())\n",
    "\n",
    "    k =  int(np.ceil(len(shapefile) / idealNbZonesPerCluster))  # number of clusters to create\n",
    "    print(f'Aggregation of {len(shapefile)} zones into {k} clusters.')\n",
    "    kmeans = KMeans(n_clusters=k, random_state=0).fit(points) \n",
    "\n",
    "    shapefile[\"cluster\"] = kmeans.labels_\n",
    "    aggregated = shapefile.dissolve(by=\"cluster\").reset_index()\n",
    "    basicStatisticsZoneSizes = shapefile.groupby('cluster').size().describe() # contains\n",
    "    print(f\"Basic statistics of zone aggregation:\\n{basicStatisticsZoneSizes}\\n\")\n",
    "\n",
    "    # Create a new attribute column to store which elements each cluster contains\n",
    "    aggregated[\"elements_1\"] = \"\"\n",
    "    aggregated[\"elements_2\"] = \"\"\n",
    "\n",
    "    # Retrieve which zones are clustered into which cluster\n",
    "    cluster_groups = shapefile.groupby(\"cluster\")\n",
    "    cluster_elements = {}\n",
    "    for cluster_id, group in cluster_groups:\n",
    "        element_ids = group[\"ZONENUMMER\"].tolist()\n",
    "        cluster_elements[cluster_id] = element_ids\n",
    "\n",
    "    # Update the attribute column with the zonenummers for each cluster. Since the attribute columns are limited in size, \n",
    "    # a second column is used if more than 40 zones are clustered into one aggregated zone. \n",
    "    for index, row in aggregated.iterrows():\n",
    "        cluster_id = row[\"cluster\"]\n",
    "        element_ids = cluster_elements.get(cluster_id, [])\n",
    "        if len(element_ids) > 40:\n",
    "            element_ids1 = element_ids[0:40]\n",
    "            element_ids2 = element_ids[40:]\n",
    "            aggregated.at[index, \"elements_1\"] = \", \".join(str(e) for e in element_ids1)\n",
    "            aggregated.at[index, \"elements_2\"] = \", \".join(str(e) for e in element_ids2)\n",
    "        else: \n",
    "            aggregated.at[index, \"elements_1\"] = \", \".join(str(e) for e in element_ids)\n",
    "    \n",
    "    # Save the new shapefile to a file & update the original file\n",
    "    shapefile.to_file(inputFile)\n",
    "    aggregated.to_file(outputFile)\n",
    "\n",
    "    # Return aggregated shapefile\n",
    "    return aggregated\n",
    "\n",
    "agg_shapefile1 = aggregate_zones()\n",
    "agg_shapefile2 = aggregate_zones(radius = radius3, idealNbZonesPerCluster = groupSize3)"
   ]
  },
  {
   "attachments": {},
   "cell_type": "markdown",
   "metadata": {},
   "source": [
    "#### Try OD matrix"
   ]
  },
  {
   "cell_type": "code",
   "execution_count": 6,
   "metadata": {},
   "outputs": [],
   "source": [
    "# STEP 4: Update centroids & OD. First we do some processing to make things easier. \n",
    "\n",
    "# After-market fix: add 'cluster' column to unclustered 0-10 radius such that later we have a cluster value for all zones in radius 0-40\n",
    "shapefile0 = gpd.read_file(f'QGIS/{city}_V2_40_10_{radius1}.shp')\n",
    "\n",
    "# no k-nearest neighbour is ran on the smallest radius, but just for naming convention some processing is done \n",
    "shapefile0['cluster'] = range(shapefile0.shape[0])\n",
    "shapefile0['elements_1'] = shapefile0['ZONENUMMER']\n",
    "shapefile0.to_file(f'QGIS/{city}_V2_40_10_{radius1}_knn.shp') \n",
    "\n",
    "# Concatenate shapefiles\n",
    "shapefile1 = gpd.read_file(f'QGIS/{city}_V2_40_10_0-10_knn.shp')\n",
    "shapefile2 = gpd.read_file(f'QGIS/{city}_V2_40_10_{radius2}_knn.shp')\n",
    "shapefile3 = gpd.read_file(f'QGIS/{city}_V2_40_10_{radius3}_knn.shp')\n",
    "\n",
    "# add scalar to cluster numbers before concatenating shapefiles into combined shapefile\n",
    "shapefile2['cluster'] = shapefile2['cluster'] + (shapefile1.cluster.max()+1)\n",
    "shapefile3['cluster'] = shapefile3['cluster'] + (shapefile2.cluster.max()+1)\n",
    "\n",
    "# Save combined shapefile\n",
    "combined_shapefile = gpd.GeoDataFrame(pd.concat([shapefile1, shapefile2, shapefile3]))\n",
    "combined_shapefile.to_file(f'QGIS/{city}_40_10_aggr_comb.shp')"
   ]
  },
  {
   "cell_type": "code",
   "execution_count": 7,
   "metadata": {},
   "outputs": [],
   "source": [
    "# Retrieve original OD matrix, original centroids and aggregated shapefile. \n",
    "original_od_matrix = pd.read_excel(\"STA_prep/od_matrix_data/BRUSSEL_40_9_.xlsx\") # TODO define dynamically\n",
    "combined_shapefile = gpd.read_file(f'QGIS/{city}_40_10_aggr_comb.shp')\n",
    "original_shapefile = gpd.read_file(f'QGIS/{city}_V2_40_10.shp')\n",
    "x_centroids = original_shapefile[\"centroid_x\"]\n",
    "y_centroids = original_shapefile[\"centroid_y\"]"
   ]
  },
  {
   "cell_type": "code",
   "execution_count": 13,
   "metadata": {},
   "outputs": [
    {
     "name": "stdout",
     "output_type": "stream",
     "text": [
      "[[336], [337], [338], [339], [340], [341], [342], [343], [344], [345], [346], [347], [348], [349], [350], [351], [352], [353], [354], [355], [356], [357], [358], [359], [360], [361], [362], [363], [364], [365], [366], [367], [368], [369], [370], [371], [372], [373], [374], [375], [376], [377], [378], [379], [380], [381], [382], [383], [384], [385], [386], [387], [388], [389], [390], [391], [392], [393], [394], [395], [396], [397], [398], [399], [400], [401], [402], [403], [404], [405], [406], [407], [408], [409], [410], [411], [412], [413], [414], [415], [416], [417], [418], [419], [420], [421], [422], [423], [424], [425], [426], [427], [428], [429], [430], [431], [432], [433], [434], [435], [436], [437], [438], [439], [440], [441], [442], [443], [444], [445], [446], [447], [448], [449], [450], [451], [452], [453], [454], [455], [456], [457], [458], [459], [460], [461], [462], [463], [464], [465], [466], [467], [468], [469], [470], [471], [472], [473], [474], [475], [476], [477], [478], [479], [480], [481], [482], [483], [484], [485], [486], [487], [488], [489], [490], [491], [492], [493], [494], [495], [496], [497], [498], [499], [500], [501], [502], [503], [504], [505], [506], [507], [508], [509], [510], [511], [512], [513], [514], [515], [516], [517], [518], [519], [520], [521], [522], [523], [524], [525], [526], [527], [528], [529], [530], [531], [532], [533], [534], [535], [536], [537], [538], [539], [540], [541], [542], [543], [544], [545], [546], [547], [548], [549], [550], [551], [552], [553], [554], [555], [556], [557], [558], [559], [560], [561], [562], [563], [564], [565], [566], [567], [568], [569], [570], [571], [572], [573], [574], [575], [576], [577], [578], [579], [580], [581], [582], [583], [584], [585], [586], [587], [588], [589], [590], [591], [592], [593], [594], [595], [596], [597], [598], [599], [600], [601], [602], [603], [604], [605], [606], [607], [608], [609], [610], [611], [612], [613], [614], [615], [616], [617], [618], [619], [620], [621], [622], [623], [624], [625], [626], [627], [628], [629], [630], [631], [632], [633], [634], [635], [636], [637], [638], [639], [640], [641], [642], [643], [644], [645], [646], [647], [648], [649], [650], [651], [652], [653], [654], [655], [656], [657], [658], [659], [660], [661], [662], [663], [664], [665], [666], [667], [668], [669], [670], [671], [672], [673], [674], [675], [676], [677], [678], [679], [680], [681], [682], [683], [684], [685], [686], [687], [688], [689], [690], [691], [692], [693], [694], [695], [696], [697], [698], [699], [700], [701], [702], [703], [704], [705], [706], [707], [708], [709], [710], [711], [712], [713], [714], [715], [716], [717], [718], [719], [720], [721], [722], [723], [724], [725], [732], [737], [738], [739], [740], [741], [742], [743], [744], [752], [753], [754], [755], [756], [757], [758], [759], [760], [761], [762], [763], [764], [772], [773], [774], [775], [776], [778], [779], [780], [781], [782], [783], [784], [828], [829], [830], [831], [832], [833], [834], [835], [836], [837], [838], [839], [840], [841], [848], [849], [872], [873], [875], [876], [877], [880], [881], [882], [885], [886], [887], [894], [895], [896], [897], [898], [899], [900], [901], [902], [903], [904], [905], [908], [909], [910], [911], [912], [913], [914], [915], [916], [917], [918], [919], [920], [921], [922], [923], [924], [925], [926], [927], [928], [929], [930], [931], [932], [933], [934], [935], [936], [937], [948], [949], [950], [951], [952], [953], [954], [955], [962], [964], [965], [966], [967], [968], [969], [970], [971], [972], [1101], [1104], [1516, 1517, 1521, 1568], [726, 727, 728, 729, 730, 731, 733, 734, 735, 736], [262, 263, 264, 273, 274, 275, 276, 277, 280, 281, 284], [793, 794, 795, 799, 800], [1019, 1020, 1021], [1428, 1434, 1435, 1436, 1437, 1438, 1546], [820, 892, 946, 947], [1029, 1030, 1031, 1095], [821, 822, 823, 825, 827], [853, 856, 1154, 1155], [940, 941, 942], [808, 963, 1492], [817, 818, 819, 1162, 1163], [867, 878, 879, 975], [883, 884], [850, 851, 855, 1265, 1299], [310, 330, 814, 816, 824], [1102, 1103, 1106, 1107], [858, 859, 861, 862, 1566], [745, 956, 957, 958, 960, 961, 1440], [1003], [1431, 1433, 1439, 1543, 1545, 1547, 1549], [801, 1525, 1526], [994, 995, 996, 1077, 1081], [857, 860, 864], [813, 888], [769, 771], [1576, 1580], [285, 938], [844, 845, 846, 854], [976, 977, 980, 1158], [796, 1445, 1446, 1447], [826, 1261, 1262, 1264], [866, 868, 869, 870], [1423, 1424, 1425, 1426, 1427, 1429, 1430, 1432, 1442], [786, 787, 788, 789, 790, 791, 792, 798], [997, 1040, 1041, 1042, 1105], [777, 785], [809, 810, 811], [973, 974], [805, 806, 807, 865, 1493], [959, 1541, 1542, 1548, 1550, 1551], [889, 890, 891], [1032, 1033], [812, 1039], [906, 907, 943], [291, 292, 939, 1004], [1544, 1581], [283, 286, 288], [863, 1490, 1491, 1518, 1519, 1520], [1153], [893, 978, 979], [944, 945], [847, 852], [815, 842, 843], [768], [746, 747, 748, 749, 750], [797, 874], [1037, 1038], [1377, 1378, 1379, 1380, 1381, 1382, 1383, 1384, 1385, 1386, 1387, 1388, 1389, 1390, 1391, 1392, 1393, 1394, 1395, 1396, 1397, 1398, 1399, 1400, 1401, 1402, 1403, 1406, 1409, 1410, 1411, 1412, 1413, 1416], [1449, 1454, 1494, 1495, 1569, 1570, 1583, 1584, 1585, 1586, 1587, 1588, 1589, 1590, 1591, 1592, 1593, 1594, 1595, 1596, 1597], [1207, 1208, 1209, 1210, 1211, 1213, 1214, 1215, 1216, 1217, 1218, 1219, 1221, 1222], [118, 143, 146, 147, 149, 151, 152, 153, 154, 155, 156, 173, 174, 213, 214, 215, 216, 217, 218, 220, 221, 249, 251], [1022, 1108, 1109, 1110, 1111, 1112, 1113, 1114, 1115, 1116, 1487], [1012, 1086, 1096, 1097, 1098, 1099, 1100, 1117, 1119], [1607, 1608, 1609, 1610, 1611, 1612, 1613, 1614, 1615, 1616, 1617, 1618, 1620, 1621, 1622, 1655], [1151, 1199, 1200, 1201, 1202, 1203, 1204, 1205, 1248, 1258, 1283, 1320, 1321, 1322], [1000, 1069, 1070, 1071, 1072, 1073, 1074, 1075, 1076, 1080, 1082, 1083, 1084, 1085, 1091, 1092, 1093, 1094], [8, 9, 10, 11, 12, 13, 14, 15, 16, 17, 18, 19, 20, 22, 23, 24, 25, 26, 27, 28, 29, 30, 31, 32, 33, 34, 35, 36, 37, 38, 39, 40, 41, 42, 43, 44, 45, 46, 47, 54, 55, 56, 57, 58, 62, 63, 65, 68, 69, 70, 71, 72, 73, 74, 75, 76, 77, 78, 79, 80, 81, 82, 83, 86, 87, 88, 89], [1167, 1168, 1169, 1170, 1171, 1172, 1173, 1174, 1183, 1335, 1338, 1628], [1640, 1641, 1643, 1644, 1645, 1647], [194, 195, 294, 295, 296, 297, 298, 299, 331], [751, 804, 1184, 1627, 1629, 1634], [1266, 1267, 1268, 1269, 1270, 1271, 1272, 1273, 1274, 1275, 1276, 1277, 1278, 1279, 1280, 1281, 1282, 1296, 1297, 1298, 1300, 1301, 1302], [121, 122, 123, 124, 125, 126, 127, 128, 172, 175, 176, 287, 306, 307, 308, 309, 321, 322, 323, 324, 325, 326, 327, 328, 329], [1448, 1452, 1453, 1467, 1471, 1473, 1474, 1475], [1175, 1176, 1177, 1178, 1197, 1223, 1336, 1337, 1339], [1441, 1461, 1462, 1577, 1578, 1579, 1582], [1260, 1304, 1356, 1357, 1358, 1359, 1360, 1361, 1362, 1363, 1364, 1365, 1366, 1367, 1368, 1369, 1370, 1371, 1372, 1373, 1374, 1376, 1404], [1014, 1015, 1016, 1017, 1018, 1024, 1025, 1043, 1044, 1045, 1046, 1047, 1048, 1049, 1050, 1051, 1052, 1053, 1054, 1055, 1056, 1057, 1058, 1059, 1060, 1061, 1062, 1063, 1064, 1065, 1066, 1067, 1068, 1078, 1079, 1090], [1125, 1126, 1127, 1128, 1129, 1130, 1131, 1132, 1133, 1134, 1135, 1136, 1137, 1138, 1139, 1140, 1141, 1142, 1143, 1144, 1145, 1146, 1147, 1148, 1149, 1150, 1152, 1156, 1157, 1159, 1160, 1161, 1164, 1166], [198, 258, 259, 260, 261, 265, 266, 267, 268, 269, 270, 271, 272, 278, 279, 282, 289, 290, 293, 316, 317, 318], [1536, 1537, 1538, 1539, 1575, 1642, 1662], [201, 202, 203, 204, 205, 206, 207, 208, 210, 211, 212, 305, 311, 312, 313, 314, 1263, 1293, 1405, 1407, 1408, 1414], [1444, 1478, 1522, 1523, 1524, 1527, 1528, 1529, 1530, 1531, 1532, 1533, 1534, 1535, 1598, 1600, 1601, 1619], [1026, 1028, 1087, 1088, 1120, 1121, 1122, 1123, 1124], [1193, 1194, 1227, 1228, 1229, 1230, 1231, 1232, 1244, 1245, 1246, 1247, 1249, 1250, 1251, 1252, 1253, 1254, 1255], [4, 48, 49, 50, 51, 53, 59, 60, 90, 91, 92, 93, 94, 95, 96, 99, 101, 102, 103, 104, 105, 106, 107, 108, 109, 110, 111, 112, 113, 114, 1351], [1340, 1341, 1342, 1343, 1344, 1345, 1346, 1347, 1348, 1349, 1350, 1353], [199, 200, 301, 302, 1005, 1010, 1011, 1013, 1034, 1035, 1036, 1118], [1623, 1625, 1635, 1636, 1637, 1657, 1658], [196, 197, 219, 252, 253, 254, 255, 256, 257, 300, 303, 315, 319, 320], [1206, 1294, 1295, 1306, 1307, 1308, 1309, 1310, 1311, 1312, 1313, 1314, 1315, 1316, 1317, 1318, 1319, 1332, 1334], [998, 1002, 1023, 1418, 1419, 1420, 1421, 1422, 1468, 1470], [1443, 1476, 1477, 1497, 1498, 1499, 1500, 1501, 1502, 1503, 1504, 1505, 1506, 1507, 1508, 1509, 1510, 1511, 1649], [1191, 1192, 1198, 1233, 1234, 1235, 1236, 1237, 1238, 1239, 1240, 1241, 1242, 1243, 1333], [1165, 1185, 1186, 1187, 1188, 1189, 1190, 1195, 1196, 1212, 1224, 1225, 1226], [1450, 1451, 1465, 1466, 1469, 1552, 1553, 1554, 1555, 1556, 1557, 1558, 1559, 1560, 1561, 1562, 1563, 1564, 1565, 1567, 1571], [222, 223, 224, 225, 226, 227, 228, 229, 230, 231, 232, 233, 234, 235, 236, 237, 238, 304, 333, 334, 335], [1605, 1606, 1630, 1631, 1632, 1633, 1638, 1639], [64, 66, 67, 116, 117, 119, 120, 130, 131, 132, 163, 169, 181, 182, 183, 184, 185, 186], [1284, 1285, 1286, 1287, 1288, 1289, 1290, 1291, 1292, 1303, 1305, 1415, 1417], [170, 171, 239, 240, 241, 242, 243, 244, 245, 246, 247, 248, 250], [332, 981, 982, 983, 984, 985, 986, 987, 988, 989, 990, 991, 992, 993, 1027], [1648, 1654, 1656, 1659, 1660, 1661], [1, 2, 3, 5, 6, 7, 129, 139, 140, 167, 168, 177, 178, 179, 180, 209, 1354, 1355], [1460, 1540, 1646, 1650, 1651, 1652, 1653], [1479, 1480, 1481, 1482, 1483, 1484, 1485, 1486, 1488, 1489], [21, 52, 115, 187, 188, 189, 190, 191, 192, 193, 1352], [1256, 1257, 1259, 1323, 1324, 1325, 1326, 1327, 1328, 1329, 1330, 1331, 1375], [1496, 1572, 1573, 1574, 1602, 1603, 1663], [61, 84, 85, 97, 98, 100, 133, 134, 135, 136, 137, 138, 141, 142, 144, 145, 148, 150, 157, 158, 159, 160, 161, 162, 164, 165, 166], [765, 766, 767, 770, 1179, 1180, 1181, 1182, 1220], [802, 803, 871, 1599, 1624, 1626], [1455, 1456, 1457, 1458, 1459, 1463, 1464], [1472, 1512, 1513, 1514, 1515, 1604], [999, 1001, 1006, 1007, 1008, 1009, 1089]]\n"
     ]
    }
   ],
   "source": [
    "# Initialize new OD\n",
    "nbAggZones = len(combined_shapefile)\n",
    "aggregated_od_matrix = np.zeros((nbAggZones, nbAggZones))\n",
    "\n",
    "# Zones of each cluster \n",
    "zones_per_cluster = []\n",
    "for index, row in combined_shapefile.iterrows():\n",
    "    zones_cluster_str = row['elements_1']\n",
    "    zones_cluster = [int(e) for e in zones_cluster_str.split(\",\")]\n",
    "    if len(zones_cluster) >= 40:\n",
    "        zones_cluster_str = row['elements_2']\n",
    "        more_zones = [int(e) for e in zones_cluster_str.split(\",\")]\n",
    "        for zone in more_zones:\n",
    "            zones_cluster.append(zone)\n",
    "    zones_per_cluster.append(zones_cluster) "
   ]
  },
  {
   "cell_type": "code",
   "execution_count": 14,
   "metadata": {},
   "outputs": [],
   "source": [
    "# Now new OD and centroids. \n",
    "# Outer loop: fix centroid for every cluster\n",
    "# Inner loop: fix OD for every cluster combination\n",
    "\n",
    "# Outer loop\n",
    "for index_i, row_i in combined_shapefile.iterrows():\n",
    "    # Retrieve all the zones belonging to cluster i    \n",
    "    zones_cluster_i = zones_per_cluster[index_i]\n",
    "\n",
    "    # Calculate cluster centroid: mean of centroids of all the zones in the cluster\n",
    "    centr_x = 0\n",
    "    centr_y = 0\n",
    "    for zone_i in zones_cluster_i:\n",
    "        centr_x += x_centroids[zone_i-1]\n",
    "        centr_y += y_centroids[zone_i-1]\n",
    "    centr_x = centr_x / len(zones_cluster_i)\n",
    "    centr_y = centr_y / len(zones_cluster_i)\n",
    "    combined_shapefile.at[index_i, \"centroid_x\"] = centr_x\n",
    "    combined_shapefile.at[index_i, \"centroid_y\"] = centr_y\n",
    "    \n",
    "    # Inner loop\n",
    "    for index_j, row_j in combined_shapefile.iterrows():\n",
    "        # Retrieve all the zones belonging to cluster j \n",
    "        zones_cluster_j = zones_per_cluster[index_j]\n",
    "        \n",
    "        # Calculate OD flows: sum up the individual flows\n",
    "        aggr_od_flow = 0\n",
    "        for zone_i in zones_cluster_i:\n",
    "            for zone_j in zones_cluster_i:\n",
    "                aggr_od_flow += original_od_matrix[zone_i-1][zone_j-1]\n",
    "        aggregated_od_matrix[index_i][index_j] = aggr_od_flow\n"
   ]
  },
  {
   "cell_type": "code",
   "execution_count": 16,
   "metadata": {},
   "outputs": [],
   "source": [
    "# Save new centroids to shapefile and OD-matrix to excel\n",
    "combined_shapefile.to_file(f'QGIS/{city}_40_10_aggr_comb.shp')\n",
    "# aggregated_od_matrix.to_excel(\"QGIS/BRUSSEL_40_9_aggregated.xlsx\")"
   ]
  }
 ],
 "metadata": {
  "kernelspec": {
   "display_name": "dyntapy",
   "language": "python",
   "name": "python3"
  },
  "language_info": {
   "codemirror_mode": {
    "name": "ipython",
    "version": 3
   },
   "file_extension": ".py",
   "mimetype": "text/x-python",
   "name": "python",
   "nbconvert_exporter": "python",
   "pygments_lexer": "ipython3",
   "version": "3.9.13"
  },
  "orig_nbformat": 4
 },
 "nbformat": 4,
 "nbformat_minor": 2
}
