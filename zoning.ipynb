{
 "cells": [
  {
   "cell_type": "code",
   "execution_count": 17,
   "metadata": {},
   "outputs": [],
   "source": [
    "import warnings\n",
    "warnings.filterwarnings('ignore') # hide warnings\n",
    "import os\n",
    "import numpy as np\n",
    "import sys\n",
    "sys.path.append(\"..\")\n",
    "from pickle import dump\n",
    "from dyntapy.supply_data import get_toy_network, relabel_graph\n",
    "from dyntapy.demand_data import add_centroids, od_graph_from_matrix\n",
    "from dyntapy.visualization import show_network, show_demand\n",
    "from dyntapy.assignments import StaticAssignment"
   ]
  },
  {
   "cell_type": "code",
   "execution_count": 39,
   "metadata": {},
   "outputs": [
    {
     "name": "stdout",
     "output_type": "stream",
     "text": [
      "Aggregation of 219 zones into 37 clusters.\n",
      "Basic statistics of zone aggregation:\n",
      "count    37.000000\n",
      "mean      5.918919\n",
      "std       2.408070\n",
      "min       3.000000\n",
      "25%       4.000000\n",
      "50%       6.000000\n",
      "75%       7.000000\n",
      "max      12.000000\n",
      "dtype: float64\n",
      "\n",
      "Aggregation of 957 zones into 160 clusters.\n",
      "Basic statistics of zone aggregation:\n",
      "count    160.000000\n",
      "mean       5.981250\n",
      "std        3.802468\n",
      "min        1.000000\n",
      "25%        4.000000\n",
      "50%        5.000000\n",
      "75%        7.250000\n",
      "max       26.000000\n",
      "dtype: float64\n",
      "\n"
     ]
    }
   ],
   "source": [
    "import geopandas as gpd\n",
    "import numpy as np\n",
    "from sklearn.cluster import KMeans\n",
    "\n",
    "# TODO make code more waterproof (naming of input and outputfile)\n",
    "def aggregate_zones(city = \"BRUSSEL\", radius = \"10-20\", idealNbZonesPerCluster = 6):\n",
    "    '''\n",
    "    original shapefile will change: 'cluster' column containing the cluster to which each zone belongs\n",
    "    new shapefill will be created: shapefile consisting of aggregated zones\n",
    "\n",
    "    Note:\n",
    "    code not waterproof: always looks in folder \"STA_prep/shapefile_data/{city}_40_10/\"\n",
    "    '''\n",
    "    inputFile = f\"STA_prep/shapefile_data/{city}_40_10/{city}_40_10_{radius}.shp\"\n",
    "    outputFile = f\"STA_prep/shapefile_data/{city}_40_10/{city}_40_10_{radius}_knn.shp\"\n",
    "    shapefile = gpd.read_file(inputFile)\n",
    "\n",
    "    points = np.array(shapefile.centroid.apply(lambda p: [p.x, p.y]).tolist())\n",
    "\n",
    "    k =  int(np.ceil(len(shapefile) / idealNbZonesPerCluster))  # number of clusters to create\n",
    "    print(f'Aggregation of {len(shapefile)} zones into {k} clusters.')\n",
    "    kmeans = KMeans(n_clusters=k, random_state=0).fit(points)\n",
    "\n",
    "    shapefile[\"cluster\"] = kmeans.labels_\n",
    "    aggregated = shapefile.dissolve(by=\"cluster\")\n",
    "    basicStatisticsZoneSizes = shapefile.groupby('cluster').size().describe() # contains\n",
    "    print(f\"Basic statistics of zone aggregation:\\n{basicStatisticsZoneSizes}\\n\")\n",
    "\n",
    "\n",
    "    # Save the new shapefile to a file\n",
    "    shapefile.to_file(inputFile)\n",
    "    aggregated.to_file(outputFile)\n",
    "\n",
    "aggregate_zones()\n",
    "aggregate_zones(radius = \"20-40\", idealNbZonesPerCluster = 12)"
   ]
  },
  {
   "cell_type": "code",
   "execution_count": null,
   "metadata": {},
   "outputs": [],
   "source": []
  }
 ],
 "metadata": {
  "kernelspec": {
   "display_name": "dyntapy",
   "language": "python",
   "name": "python3"
  },
  "language_info": {
   "codemirror_mode": {
    "name": "ipython",
    "version": 3
   },
   "file_extension": ".py",
   "mimetype": "text/x-python",
   "name": "python",
   "nbconvert_exporter": "python",
   "pygments_lexer": "ipython3",
   "version": "3.9.13"
  },
  "orig_nbformat": 4
 },
 "nbformat": 4,
 "nbformat_minor": 2
}
