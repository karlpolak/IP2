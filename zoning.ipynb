{
 "cells": [
  {
   "cell_type": "code",
   "execution_count": 1,
   "metadata": {},
   "outputs": [],
   "source": [
    "import warnings\n",
    "warnings.filterwarnings('ignore') # hide warnings\n",
    "import os\n",
    "import numpy as np\n",
    "import sys\n",
    "sys.path.append(\"..\")\n",
    "from pickle import dump\n",
    "from dyntapy.supply_data import get_toy_network, relabel_graph\n",
    "from dyntapy.demand_data import add_centroids, od_graph_from_matrix\n",
    "from dyntapy.visualization import show_network, show_demand\n",
    "from dyntapy.assignments import StaticAssignment"
   ]
  },
  {
   "cell_type": "code",
   "execution_count": 20,
   "metadata": {},
   "outputs": [],
   "source": [
    "import geopandas as gpd\n",
    "from sklearn.cluster import DBSCAN\n",
    "from shapely.geometry import Point\n",
    "\n",
    "\n",
    "shapefile = gpd.read_file('STA_prep/shapefile_data/BRUSSEL_40_10/BRUSSEL_40_10.shp')\n",
    "points = shapefile.centroid\n",
    "# Convert points to a numpy array of coordinates\n",
    "points_array = np.array(points.apply(lambda p: [p.x, p.y]).tolist())\n",
    "\n",
    "dbscan = DBSCAN(eps=0.1, min_samples=5) # adjust these parameters as needed\n",
    "clusters = dbscan.fit_predict(points_array)\n",
    "shapefile['cluster'] = clusters\n",
    "aggregated = shapefile.dissolve(by='cluster')\n",
    "\n",
    "mean_x = np.mean(points_array[:,0])\n",
    "mean_y = np.mean(points_array[:,1])\n",
    "center = Point(mean_x, mean_y) \n",
    "distances = points.distance(center)\n",
    "eps_values = 0.1 * distances / distances.max() # adjust the 0.1 factor as needed\n",
    "clusters = DBSCAN(eps=0.1, min_samples=2).fit_predict(points_array)\n",
    "\n",
    "aggregated.to_file(\"STA_prep/shapefile_data/BRUSSEL_40_10/BRUSSEL_40_10_aggr.shp\", driver='ESRI Shapefile')\n"
   ]
  },
  {
   "cell_type": "code",
   "execution_count": 19,
   "metadata": {},
   "outputs": [
    {
     "data": {
      "text/plain": [
       "pandas.core.series.Series"
      ]
     },
     "execution_count": 19,
     "metadata": {},
     "output_type": "execute_result"
    }
   ],
   "source": [
    "type(eps_values.astype(float))"
   ]
  },
  {
   "cell_type": "code",
   "execution_count": 8,
   "metadata": {},
   "outputs": [
    {
     "data": {
      "text/plain": [
       "0       POINT (151908.780 202573.959)\n",
       "1       POINT (151039.401 203470.119)\n",
       "2       POINT (149985.183 202840.612)\n",
       "3       POINT (151715.327 203942.290)\n",
       "4       POINT (151192.414 201184.123)\n",
       "                    ...              \n",
       "1658    POINT (135455.739 139829.024)\n",
       "1659    POINT (138210.355 140050.218)\n",
       "1660    POINT (137384.864 137217.104)\n",
       "1661    POINT (166180.956 136107.179)\n",
       "1662    POINT (172702.727 141330.558)\n",
       "Length: 1663, dtype: geometry"
      ]
     },
     "execution_count": 8,
     "metadata": {},
     "output_type": "execute_result"
    }
   ],
   "source": [
    "shapefile.centroid"
   ]
  },
  {
   "cell_type": "code",
   "execution_count": null,
   "metadata": {},
   "outputs": [],
   "source": []
  }
 ],
 "metadata": {
  "kernelspec": {
   "display_name": "dyntapy",
   "language": "python",
   "name": "python3"
  },
  "language_info": {
   "codemirror_mode": {
    "name": "ipython",
    "version": 3
   },
   "file_extension": ".py",
   "mimetype": "text/x-python",
   "name": "python",
   "nbconvert_exporter": "python",
   "pygments_lexer": "ipython3",
   "version": "3.9.13"
  },
  "orig_nbformat": 4
 },
 "nbformat": 4,
 "nbformat_minor": 2
}
