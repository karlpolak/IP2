{
 "cells": [
  {
   "cell_type": "code",
   "execution_count": 1,
   "metadata": {},
   "outputs": [
    {
     "name": "stdout",
     "output_type": "stream",
     "text": [
      "composing\n",
      "retrieved network graph for Brussels, with 3332 nodes and 6442 edges after processing\n"
     ]
    }
   ],
   "source": [
    "import warnings\n",
    "warnings.filterwarnings('ignore') # hide warnings\n",
    "import os\n",
    "import pandas as pd\n",
    "import geopandas as gpd\n",
    "import numpy as np\n",
    "from dyntapy.supply_data import road_network_from_place, relabel_graph\n",
    "from dyntapy.demand_data import add_centroids, od_graph_from_matrix\n",
    "from dyntapy.assignments import StaticAssignment\n",
    "from pyproj import Proj, transform\n",
    "from dyntapy.toll import create_toll_object\n",
    "\n",
    "ext = 2  # 0 or 2\n",
    "buffer = 3\n",
    "city = 'BRUSSEL'\n",
    "\n",
    "\n",
    "network = road_network_from_place(\"Brussels\", buffer_dist_close=buffer*1000)\n",
    "network = relabel_graph(network)"
   ]
  },
  {
   "cell_type": "code",
   "execution_count": 2,
   "metadata": {},
   "outputs": [
    {
     "name": "stdout",
     "output_type": "stream",
     "text": [
      "zoning path: C:\\Users\\anton\\IP2\\STA_prep\\shapefile_data\\BRUSSEL_3_10\\BRUSSEL_3_10.shp\n",
      "od path (if ext = 2): C:\\Users\\anton\\IP2\\STA_prep\\od_matrix_data_ext_tr\\BRUSSEL_ext_tr_3_9_10.xlsx\n",
      "od path (if ext = 0): C:\\Users\\anton\\IP2\\STA_prep\\od_matrix_data\\BRUSSEL_3_9_.xlsx\n"
     ]
    }
   ],
   "source": [
    "# string checks\n",
    "HERE = os.path.dirname(os.path.realpath(\"__file__\"))\n",
    "data_path = HERE + os.path.sep +'STA_prep'\n",
    "\n",
    "zoning_path = data_path + os.path.sep + \"shapefile_data\" + os.path.sep + city + \"_\" + str(buffer) + \"_10\" + os.path.sep + city + \"_\" + str(buffer) + \"_10.shp\"\n",
    "od_path2 = data_path + os.path.sep + \"od_matrix_data_ext_tr\" + os.path.sep + city + \"_ext_tr_\" + str(buffer) + \"_9_10.xlsx\"\n",
    "od_path0 = data_path + os.path.sep + \"od_matrix_data\" + os.path.sep + city + \"_\" + str(buffer) + \"_9_.xlsx\"\n",
    "\n",
    "print('zoning path: ' + zoning_path)\n",
    "print('od path (if ext = 2): ' + od_path2)\n",
    "print('od path (if ext = 0): ' + od_path0)\n",
    "\n",
    "# Read in the zoning file\n",
    "HERE = os.path.dirname(os.path.realpath(\"__file__\"))\n",
    "data_path = HERE + os.path.sep +'STA_prep'\n",
    "zoning_path = data_path + os.path.sep + \"shapefile_data\" + os.path.sep + city + \"_\" + str(buffer) + \"_10\" + os.path.sep + city + \"_\" + str(buffer) + \"_10.shp\"\n",
    "zoning = gpd.read_file(zoning_path) # Everything is now stored in a geopandas dataframe. \n",
    "\n",
    "# Retrieve zone number, x_centroid (LON) and y_centroid (LAT) from each zone. \n",
    "zone_numbers = zoning[\"ZONENUMMER\"]\n",
    "x_lamb = zoning[\"X_LAMB\"]\n",
    "x_lamb = x_lamb.to_numpy()\n",
    "y_lamb = zoning[\"Y_LAMB\"]\n",
    "y_lamb = y_lamb.to_numpy()\n",
    "\n",
    "# Project to correct CRS. \n",
    "inProj = Proj(init='epsg:31370')\n",
    "outProj = Proj(init='epsg:4326')\n",
    "x_centroids, y_centroids = transform(inProj,outProj,x_lamb,y_lamb)\n",
    "\n",
    "# Add the centroids to the network. Relabelling the graph is required (see demo for reason why)\n",
    "connector_type = 'link'\n",
    "network = add_centroids(network, x_centroids,y_centroids,k=1, method=connector_type)\n",
    "network = relabel_graph(network)\n",
    "\n",
    "# Read in the od matrix \n",
    "if ext == 2:\n",
    "    od_path = data_path + os.path.sep + \"od_matrix_data_ext_tr\" + os.path.sep + city + \"_ext_tr_\" + str(buffer) + \"_9_10.xlsx\"\n",
    "if ext == 0:\n",
    "    od_path = data_path + os.path.sep + \"od_matrix_data\" + os.path.sep + city + \"_\" + str(buffer) + \"_9_.xlsx\"\n",
    "\n",
    "od = pd.read_excel(od_path)\n",
    "od_array = od.to_numpy() # The OD matrix is now stored in a numpy array\n",
    "\n",
    "# Create OD graph and plot demand\n",
    "od_graph = od_graph_from_matrix(od_array,x_centroids,y_centroids) \n",
    "# demand plot is useless since there are too many OD-pairs "
   ]
  },
  {
   "cell_type": "code",
   "execution_count": 4,
   "metadata": {},
   "outputs": [
    {
     "name": "stdout",
     "output_type": "stream",
     "text": [
      "init passed successfully\n",
      "[0.00174699 0.0013169  0.00088443 0.00099331 0.00195037 0.00047927\n",
      " 0.00169347 0.00049386]\n"
     ]
    }
   ],
   "source": [
    "assignment = StaticAssignment(network,od_graph)\n",
    "result = assignment.run('dial_b')\n",
    "print(result.link_costs[5:13])"
   ]
  },
  {
   "cell_type": "code",
   "execution_count": 5,
   "metadata": {},
   "outputs": [
    {
     "name": "stdout",
     "output_type": "stream",
     "text": [
      "init passed successfully\n"
     ]
    }
   ],
   "source": [
    "toll_method = 'single'\n",
    "toll_link_id = 9\n",
    "toll_value = 10\n",
    "toll_object = create_toll_object(network, toll_method, toll_link_id, toll_value)\n",
    "assignment2 = StaticAssignment(network,od_graph, toll_object)\n",
    "result2 = assignment2.run('dial_b')"
   ]
  },
  {
   "cell_type": "code",
   "execution_count": 6,
   "metadata": {},
   "outputs": [
    {
     "name": "stdout",
     "output_type": "stream",
     "text": [
      "[1.74698970e-03 1.31689987e-03 8.84434679e-04 9.93310569e-04\n",
      " 1.00019504e+01 4.79273486e-04 1.69346719e-03 4.93862847e-04]\n"
     ]
    }
   ],
   "source": [
    "print(result2.link_costs[5:13])"
   ]
  },
  {
   "cell_type": "code",
   "execution_count": 7,
   "metadata": {},
   "outputs": [
    {
     "name": "stdout",
     "output_type": "stream",
     "text": [
      "init passed successfully\n",
      "[1.00017470e+01 1.31689987e-03 8.84434679e-04 9.93310569e-04\n",
      " 1.00019504e+01 1.00004793e+01 1.69346719e-03 4.93862847e-04]\n"
     ]
    }
   ],
   "source": [
    "toll_method = 'cordon'\n",
    "toll_link_id = [5, 9, 10]\n",
    "toll_value = 10\n",
    "toll_object2 = create_toll_object(network, toll_method, toll_link_id, toll_value)\n",
    "assignment3 = StaticAssignment(network,od_graph, toll_object2)\n",
    "result3 = assignment3.run('dial_b')\n",
    "print(result3.link_costs[5:13])"
   ]
  },
  {
   "cell_type": "code",
   "execution_count": 8,
   "metadata": {},
   "outputs": [
    {
     "name": "stdout",
     "output_type": "stream",
     "text": [
      "init passed successfully\n",
      "[1.00017470e+01 1.31689987e-03 8.84434679e-04 9.93310569e-04\n",
      " 2.00019504e+01 3.00004793e+01 1.69346719e-03 4.93862847e-04]\n"
     ]
    }
   ],
   "source": [
    "toll_method = 'cordon'\n",
    "toll_link_id = [5, 9, 10]\n",
    "toll_value = [10, 20, 30]\n",
    "toll_object3 = create_toll_object(network, toll_method, toll_link_id, toll_value)\n",
    "assignment4 = StaticAssignment(network,od_graph, toll_object3)\n",
    "result4 = assignment4.run('dial_b')\n",
    "print(result4.link_costs[5:13])"
   ]
  },
  {
   "cell_type": "code",
   "execution_count": 9,
   "metadata": {},
   "outputs": [
    {
     "name": "stdout",
     "output_type": "stream",
     "text": [
      "init passed successfully\n",
      "[1.04994006e+00 1.31689987e-03 8.84434679e-04 9.93310569e-04\n",
      " 1.17217376e+00 2.88043350e-01 1.69346719e-03 2.96811574e-01]\n"
     ]
    }
   ],
   "source": [
    "toll_method = 'zone'\n",
    "toll_link_id = [5, 9, 10,12]\n",
    "toll_value = 3\n",
    "toll_object4 = create_toll_object(network, toll_method, toll_link_id, toll_value)\n",
    "assignment5 = StaticAssignment(network,od_graph, toll_object4)\n",
    "result5 = assignment5.run('dial_b')\n",
    "print(result5.link_costs[5:13])"
   ]
  }
 ],
 "metadata": {
  "kernelspec": {
   "display_name": "dyntapyIP2",
   "language": "python",
   "name": "python3"
  },
  "language_info": {
   "codemirror_mode": {
    "name": "ipython",
    "version": 3
   },
   "file_extension": ".py",
   "mimetype": "text/x-python",
   "name": "python",
   "nbconvert_exporter": "python",
   "pygments_lexer": "ipython3",
   "version": "3.9.13"
  },
  "orig_nbformat": 4
 },
 "nbformat": 4,
 "nbformat_minor": 2
}
