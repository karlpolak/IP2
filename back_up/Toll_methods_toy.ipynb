{
 "cells": [
  {
   "cell_type": "code",
   "execution_count": 1,
   "metadata": {},
   "outputs": [],
   "source": [
    "import warnings\n",
    "warnings.filterwarnings('ignore') # hide warnings\n",
    "import numpy as np\n",
    "import sys\n",
    "sys.path.append(\"..\")\n",
    "\n",
    "from dyntapy.supply_data import get_toy_network, relabel_graph\n",
    "from dyntapy.demand_data import add_centroids, od_graph_from_matrix\n",
    "from dyntapy.assignments import StaticAssignment\n",
    "from dyntapy.toll import create_toll_object\n",
    "\n",
    "g = get_toy_network('cascetta')\n",
    "\n",
    "centroid_x = np.array([2+np.sqrt(2), 5, np.sqrt(2)])\n",
    "centroid_y = np.array([-0.5, np.sqrt(2), np.sqrt(2)])\n",
    "g = add_centroids(g, centroid_x, centroid_y, euclidean=True)\n",
    "# also adds connectors automatically\n",
    "g = relabel_graph(g)  # adding link and node ids, connectors and centroids\n",
    "# are the first elements\n",
    "od_matrix = np.zeros(9).reshape((3, 3))\n",
    "od_matrix[0, 1] = 100\n",
    "od_matrix[2, 1] = 100\n",
    "od_graph = od_graph_from_matrix(od_matrix, centroid_x, centroid_y)"
   ]
  },
  {
   "cell_type": "code",
   "execution_count": 2,
   "metadata": {},
   "outputs": [
    {
     "name": "stdout",
     "output_type": "stream",
     "text": [
      "init passed successfully\n",
      "[2.92893219e-06 2.35702265e-02 2.50000004e-02 2.50000004e-02\n",
      " 1.67306675e-02 2.35702265e-02 2.50000004e-02 2.50000016e-06]\n"
     ]
    }
   ],
   "source": [
    "assignment = StaticAssignment(g,od_graph)\n",
    "result = assignment.run('dial_b')"
   ]
  },
  {
   "cell_type": "code",
   "execution_count": 3,
   "metadata": {},
   "outputs": [
    {
     "name": "stdout",
     "output_type": "stream",
     "text": [
      "init passed successfully\n",
      "[2.92893219e-06 2.35702265e-02 2.50003754e-02 2.50000004e-02\n",
      " 1.00166667e+01 2.35758834e-02 2.50000004e-02 2.50000016e-06]\n"
     ]
    }
   ],
   "source": [
    "toll_method = 'single'\n",
    "toll_link_id = 9\n",
    "toll_value = 10\n",
    "toll_object = create_toll_object(g, toll_method, toll_link_id, toll_value)\n",
    "assignment2 = StaticAssignment(g,od_graph, toll_object)\n",
    "result2 = assignment2.run('dial_b')\n",
    "print(result2.link_costs[5:13])"
   ]
  },
  {
   "cell_type": "code",
   "execution_count": 4,
   "metadata": {},
   "outputs": [
    {
     "name": "stdout",
     "output_type": "stream",
     "text": [
      "init passed successfully\n",
      "[1.00000029e+01 2.35702265e-02 2.50003754e-02 2.50000004e-02\n",
      " 1.00166667e+01 1.00235702e+01 2.50000238e-02 2.50000016e-06]\n"
     ]
    }
   ],
   "source": [
    "toll_method = 'cordon'\n",
    "toll_link_id = [5, 9, 10]\n",
    "toll_value = 10\n",
    "toll_object2 = create_toll_object(g, toll_method, toll_link_id, toll_value)\n",
    "assignment3 = StaticAssignment(g,od_graph, toll_object2)\n",
    "result3 = assignment3.run('dial_b')\n",
    "print(result3.link_costs[5:13])"
   ]
  },
  {
   "cell_type": "code",
   "execution_count": 5,
   "metadata": {},
   "outputs": [
    {
     "name": "stdout",
     "output_type": "stream",
     "text": [
      "init passed successfully\n",
      "[1.00000029e+01 2.35702265e-02 2.50003754e-02 2.50000004e-02\n",
      " 2.00166667e+01 3.00235702e+01 2.50000238e-02 2.50000016e-06]\n"
     ]
    }
   ],
   "source": [
    "toll_method = 'cordon'\n",
    "toll_link_id = [5, 9, 10]\n",
    "toll_value = [10, 20, 30]\n",
    "toll_object3 = create_toll_object(g, toll_method, toll_link_id, toll_value)\n",
    "assignment4 = StaticAssignment(g,od_graph, toll_object3)\n",
    "result4 = assignment4.run('dial_b')\n",
    "print(result4.link_costs[5:13])"
   ]
  },
  {
   "cell_type": "code",
   "execution_count": 6,
   "metadata": {},
   "outputs": [
    {
     "name": "stdout",
     "output_type": "stream",
     "text": [
      "init passed successfully\n",
      "[1.76028818e-03 2.35702265e-02 2.50003754e-02 2.50000004e-02\n",
      " 6.01666667e+00 8.50885146e+00 2.50000238e-02 1.50250007e-03]\n"
     ]
    }
   ],
   "source": [
    "toll_method = 'zone'\n",
    "toll_link_id = [5, 9, 10,12]\n",
    "toll_value = 3\n",
    "toll_object4 = create_toll_object(g, toll_method, toll_link_id, toll_value)\n",
    "assignment5 = StaticAssignment(g,od_graph, toll_object4)\n",
    "result5 = assignment5.run('dial_b')\n",
    "print(result5.link_costs[5:13])"
   ]
  }
 ],
 "metadata": {
  "kernelspec": {
   "display_name": "dyntapyIP2",
   "language": "python",
   "name": "python3"
  },
  "language_info": {
   "codemirror_mode": {
    "name": "ipython",
    "version": 3
   },
   "file_extension": ".py",
   "mimetype": "text/x-python",
   "name": "python",
   "nbconvert_exporter": "python",
   "pygments_lexer": "ipython3",
   "version": "3.9.13"
  },
  "orig_nbformat": 4
 },
 "nbformat": 4,
 "nbformat_minor": 2
}
