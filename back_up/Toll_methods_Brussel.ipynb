{
 "cells": [
  {
   "cell_type": "code",
   "execution_count": null,
   "metadata": {},
   "outputs": [],
   "source": [
    "import warnings\n",
    "warnings.filterwarnings('ignore') # hide warnings\n",
    "import os\n",
    "import pandas as pd\n",
    "import geopandas as gpd\n",
    "import numpy as np\n",
    "import sys\n",
    "sys.path.append(\"../..\")\n",
    "from dyntapy.supply_data import road_network_from_place, relabel_graph\n",
    "from dyntapy.demand_data import add_centroids, od_graph_from_matrix\n",
    "from dyntapy.assignments import StaticAssignment\n",
    "from pyproj import Proj, transform\n",
    "from dyntapy.toll import create_toll_object\n",
    "\n",
    "buffer = 40\n",
    "city = 'BRUSSEL'\n",
    "\n",
    "HERE = os.path.dirname(os.path.realpath(\"__file__\"))\n",
    "data_path = HERE + os.path.sep + os.pardir + os.path.sep + 'data_map' + os.path.sep + 'STA'\n",
    "zoning_path = data_path + os.path.sep + 'shapefiles' + os.path.sep + city + \"_\" + str(buffer) + \"_10\" + os.path.sep + city + \"_\" + str(buffer) + \"_10.shp\"\n",
    "od_path = data_path + os.path.sep + 'OD_matrix' + os.path.sep + city + \"_\" + str(buffer) + \"_9_.xlsx\""
   ]
  },
  {
   "cell_type": "code",
   "execution_count": null,
   "metadata": {},
   "outputs": [],
   "source": [
    "network = road_network_from_place(city, buffer_dist_close=buffer*1000)\n",
    "network = relabel_graph(network)"
   ]
  },
  {
   "cell_type": "code",
   "execution_count": null,
   "metadata": {},
   "outputs": [],
   "source": [
    "zoning = gpd.read_file(zoning_path) \n",
    "od = pd.read_excel(od_path)\n",
    "od_array = od.to_numpy() # The OD matrix is now stored in a numpy array\n",
    "\n",
    "# Retrieve zone number, x_centroid (LON) and y_centroid (LAT) from each zone. \n",
    "zone_numbers = zoning[\"ZONENUMMER\"]\n",
    "x_lamb = zoning[\"X_LAMB\"]\n",
    "x_lamb = x_lamb.to_numpy()\n",
    "y_lamb = zoning[\"Y_LAMB\"]\n",
    "y_lamb = y_lamb.to_numpy()\n",
    "\n",
    "# Project to correct CRS. \n",
    "inProj = Proj(init='epsg:31370')\n",
    "outProj = Proj(init='epsg:4326')\n",
    "x_centroids, y_centroids = transform(inProj,outProj,x_lamb,y_lamb)\n",
    "\n",
    "# Add the centroids to the network. Relabelling the graph is required (see demo for reason why)\n",
    "connector_type = 'link'\n",
    "network = add_centroids(network, x_centroids,y_centroids,k=1, method=connector_type)\n",
    "network = relabel_graph(network)\n",
    "\n",
    "# Create OD graph and plot demand\n",
    "od_graph = od_graph_from_matrix(od_array,x_centroids,y_centroids) \n",
    "# demand plot is useless since there are too many OD-pairs "
   ]
  },
  {
   "cell_type": "code",
   "execution_count": null,
   "metadata": {},
   "outputs": [],
   "source": [
    "assignment = StaticAssignment(network,od_graph)\n",
    "result = assignment.run('dial_b')\n",
    "print(result.link_costs[5:13])"
   ]
  },
  {
   "cell_type": "code",
   "execution_count": null,
   "metadata": {},
   "outputs": [],
   "source": [
    "toll_method = 'single'\n",
    "toll_link_id = 9\n",
    "toll_value = 10\n",
    "toll_object = create_toll_object(network, toll_method, toll_link_id, toll_value)\n",
    "assignment2 = StaticAssignment(network,od_graph, toll_object)\n",
    "result2 = assignment2.run('dial_b')"
   ]
  },
  {
   "cell_type": "code",
   "execution_count": null,
   "metadata": {},
   "outputs": [],
   "source": [
    "print(result2.link_costs[5:13])"
   ]
  },
  {
   "cell_type": "code",
   "execution_count": null,
   "metadata": {},
   "outputs": [],
   "source": [
    "toll_method = 'cordon'\n",
    "toll_link_id = [5, 9, 10]\n",
    "toll_value = 10\n",
    "toll_object2 = create_toll_object(network, toll_method, toll_link_id, toll_value)\n",
    "assignment3 = StaticAssignment(network,od_graph, toll_object2)\n",
    "result3 = assignment3.run('dial_b')\n",
    "print(result3.link_costs[5:13])"
   ]
  },
  {
   "cell_type": "code",
   "execution_count": null,
   "metadata": {},
   "outputs": [],
   "source": [
    "toll_method = 'cordon'\n",
    "toll_link_id = [5, 9, 10]\n",
    "toll_value = [10, 20, 30]\n",
    "toll_object3 = create_toll_object(network, toll_method, toll_link_id, toll_value)\n",
    "assignment4 = StaticAssignment(network,od_graph, toll_object3)\n",
    "result4 = assignment4.run('dial_b')\n",
    "print(result4.link_costs[5:13])"
   ]
  },
  {
   "cell_type": "code",
   "execution_count": null,
   "metadata": {},
   "outputs": [],
   "source": [
    "toll_method = 'zone'\n",
    "toll_link_id = [5, 9, 10,12]\n",
    "toll_value = 3\n",
    "toll_object4 = create_toll_object(network, toll_method, toll_link_id, toll_value)\n",
    "assignment5 = StaticAssignment(network,od_graph, toll_object4)\n",
    "result5 = assignment5.run('dial_b')\n",
    "print(result5.link_costs[5:13])"
   ]
  }
 ],
 "metadata": {
  "kernelspec": {
   "display_name": "dyntapyIP2",
   "language": "python",
   "name": "python3"
  },
  "language_info": {
   "codemirror_mode": {
    "name": "ipython",
    "version": 3
   },
   "file_extension": ".py",
   "mimetype": "text/x-python",
   "name": "python",
   "nbconvert_exporter": "python",
   "pygments_lexer": "ipython3",
   "version": "3.9.13"
  },
  "orig_nbformat": 4
 },
 "nbformat": 4,
 "nbformat_minor": 2
}
