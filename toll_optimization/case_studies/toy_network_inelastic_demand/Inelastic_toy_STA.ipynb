{
 "cells": [
  {
   "attachments": {},
   "cell_type": "markdown",
   "metadata": {},
   "source": [
    "# INELASTIC TOY NETWORK STA\n",
    "\n",
    "This file first shows how to run an inelastic Static Traffic Assignment in dyntapy. It also shows examples of how to run an inelastic assignment with tolls."
   ]
  },
  {
   "attachments": {},
   "cell_type": "markdown",
   "metadata": {},
   "source": [
    "1. At first, you import all the necessary packages and files from mostly dyntapy. "
   ]
  },
  {
   "cell_type": "code",
   "execution_count": null,
   "metadata": {},
   "outputs": [],
   "source": [
    "import warnings\n",
    "warnings.filterwarnings('ignore') # hide warnings\n",
    "import numpy as np\n",
    "import os\n",
    "import sys\n",
    "sys.path.append(\"../../..\")\n",
    "\n",
    "from pickle import dump\n",
    "from dyntapy.supply_data import get_toy_network, relabel_graph\n",
    "from dyntapy.demand_data import add_centroids, od_graph_from_matrix\n",
    "from dyntapy.assignments import StaticAssignment\n",
    "from dyntapy.visualization import show_network, show_demand\n",
    "from dyntapy.toll import create_toll_object"
   ]
  },
  {
   "attachments": {},
   "cell_type": "markdown",
   "metadata": {},
   "source": [
    "2. Some toy networks are already made available in the original toolbox, so in the example, Cascetta is used. The first steps are always the same: \n",
    "\n",
    "- Create or retrieve a network\n",
    "- Create and add centroids to network → adds connectors automatically\n",
    "- Create or load an OD matrix (with the demand) onto the centroids\n",
    "\n",
    "  These steps can also be visualised in the notebooks by fully running the next block of code. There are now links visible (roads and connectors), green centroids and for both elements when hovering with the cursor over the segments there are also some characteristics displayed in a box like the link ID, the capacity, the free-flow speed or demand between each location in the demand plot."
   ]
  },
  {
   "cell_type": "code",
   "execution_count": null,
   "metadata": {},
   "outputs": [],
   "source": [
    "# 1. Retrieve network \n",
    "g = get_toy_network('cascetta')\n",
    "\n",
    "# 2. Create and add centroids\n",
    "centroid_x = np.array([2+np.sqrt(2), 5, np.sqrt(2)])\n",
    "centroid_y = np.array([-0.5, np.sqrt(2), np.sqrt(2)])\n",
    "g = add_centroids(g, centroid_x, centroid_y, euclidean=True)\n",
    "# also adds connectors automatically\n",
    "g = relabel_graph(g)  # adding link and node ids, connectors and centroids\n",
    "show_network(g, euclidean=True, notebook=True)\n",
    "\n",
    "# 3. Create OD and load onto centroids \n",
    "od_matrix = np.zeros(9).reshape((3, 3))\n",
    "od_matrix[0, 1] = 100\n",
    "od_matrix[2, 1] = 100\n",
    "od_graph = od_graph_from_matrix(od_matrix, centroid_x, centroid_y)\n",
    "show_demand(od_graph, euclidean=True, notebook=True)"
   ]
  },
  {
   "attachments": {},
   "cell_type": "markdown",
   "metadata": {},
   "source": [
    "3. Now all the elements are there to run an STA in the next block of code. When this assignment is performed, there is now a loaded network visible with the traffic flows as an additional characteristic. "
   ]
  },
  {
   "cell_type": "code",
   "execution_count": null,
   "metadata": {},
   "outputs": [],
   "source": [
    "assignment = StaticAssignment(g, od_graph)\n",
    "result = assignment.run('dial_b')\n",
    "print('dial_b ran successfully')\n",
    "show_network(g, flows = result.flows, notebook=True, show_nodes=False, euclidean=True)"
   ]
  },
  {
   "attachments": {},
   "cell_type": "markdown",
   "metadata": {},
   "source": [
    "    Congratulations, you have now run your first STA using dyntapy!"
   ]
  },
  {
   "attachments": {},
   "cell_type": "markdown",
   "metadata": {},
   "source": [
    "4. To now add toll, please first take a look at the “tolling” folder inside the case studies. Here you will see examples of all tolling methods, including single link, cordon- and zone-based tolling schemes. To get to know more about what these mean, consult the literature or the additional paper. What is shown in the code are the three main elements per scheme: the links where the toll is put on, the value of this toll and the toll_object, which is the additional element that should be given to the STA. Decide on the links and the toll values and afterwards, please run the StaticAssignment again in the next block of code. You now have the distribution of flows with the toll cost on top of the normal BPR link costs."
   ]
  },
  {
   "cell_type": "code",
   "execution_count": null,
   "metadata": {},
   "outputs": [],
   "source": [
    "# Create toll object\n",
    "toll_method = 'zone'\n",
    "toll_link_ids = [9,10] # Link 9 goes from the bottom to the right, and link 10 goes from the bottom to the top. \n",
    "toll_value = 3\n",
    "toll_object = create_toll_object(g, toll_method, toll_link_ids, toll_value)\n",
    "\n",
    "# Run STA with toll object\n",
    "assignment2 = StaticAssignment(g,od_graph, toll_object)\n",
    "result2 = assignment2.run('dial_b')\n",
    "print('dial_b ran successfully')\n",
    "show_network(g, flows = result2.flows, notebook=True, show_nodes=False, euclidean=True)\n"
   ]
  },
  {
   "attachments": {},
   "cell_type": "markdown",
   "metadata": {},
   "source": [
    "    Congratulations, you have now implemented toll on a toy network! "
   ]
  },
  {
   "attachments": {},
   "cell_type": "markdown",
   "metadata": {},
   "source": [
    "-----------------------------------------------------------------------------------------------------------------------\n"
   ]
  },
  {
   "attachments": {},
   "cell_type": "markdown",
   "metadata": {},
   "source": [
    "5. The last step is preparing for the Heeds iterations. The outer loop will decide on the best toll value, by ‘randomly’ trying toll values within a given range. To do this, the full network (containing roads, centroids and connectors) with the OD matrix should preferably be saved to avoid reloading these files each iteration. Because both remain static in an inelastic use-case, they are saved with a given path. The method to do so is indicated in the last block of the file."
   ]
  },
  {
   "cell_type": "code",
   "execution_count": null,
   "metadata": {},
   "outputs": [],
   "source": [
    "HERE = os.path.dirname(os.path.realpath(\"__file__\"))\n",
    "HEEDS_data_path = HERE+ os.path.sep+os.pardir+os.path.sep+os.pardir+os.path.sep+'data_map' + os.path.sep + \"HEEDS_input\"\n",
    "\n",
    "network_path = HEEDS_data_path + os.path.sep + 'network_with_centroids' + os.path.sep + \"inelastic_toy\"\n",
    "graph_path = HEEDS_data_path + os.path.sep + \"od_graph\" + os.path.sep + \"inelastic_toy\"\n",
    "\n",
    "with open(network_path, 'wb') as network_file:\n",
    "    dump(g, network_file)\n",
    "    print(f'network saved at f{network_path}')\n",
    "with open(graph_path, 'wb') as f:\n",
    "    dump(od_graph,f)\n",
    "    print(f'od_graph saved at f{graph_path}')"
   ]
  },
  {
   "attachments": {},
   "cell_type": "markdown",
   "metadata": {},
   "source": [
    "    Congratulations, you are now ready to go to the next step: HEEDS!"
   ]
  }
 ],
 "metadata": {
  "kernelspec": {
   "display_name": "Python 3.9.13 ('dyntapyIP2')",
   "language": "python",
   "name": "python3"
  },
  "language_info": {
   "codemirror_mode": {
    "name": "ipython",
    "version": 3
   },
   "file_extension": ".py",
   "mimetype": "text/x-python",
   "name": "python",
   "nbconvert_exporter": "python",
   "pygments_lexer": "ipython3",
   "version": "3.9.13"
  },
  "orig_nbformat": 4,
  "vscode": {
   "interpreter": {
    "hash": "9e95d76fc3f9d3fc30dc73a387f46f1f590ca9cd0ef0bb3b46e549844218cbac"
   }
  }
 },
 "nbformat": 4,
 "nbformat_minor": 2
}
