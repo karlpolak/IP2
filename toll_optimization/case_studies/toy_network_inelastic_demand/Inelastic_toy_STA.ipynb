{
 "cells": [
  {
   "attachments": {},
   "cell_type": "markdown",
   "metadata": {},
   "source": [
    "This file first shows how to run an inelastic Static Traffic Assignment in dyntapy.\n",
    "\n",
    "It also shows examples of how to run an inelastic assignment with tolls."
   ]
  },
  {
   "attachments": {},
   "cell_type": "markdown",
   "metadata": {},
   "source": [
    "1. How to run an inelastic traffic assignment"
   ]
  },
  {
   "cell_type": "code",
   "execution_count": null,
   "metadata": {},
   "outputs": [],
   "source": [
    "import warnings\n",
    "warnings.filterwarnings('ignore') # hide warnings\n",
    "import numpy as np\n",
    "import os\n",
    "import sys\n",
    "sys.path.append(\"../../..\")\n",
    "\n",
    "from pickle import dump\n",
    "from dyntapy.supply_data import get_toy_network, relabel_graph\n",
    "from dyntapy.demand_data import add_centroids, od_graph_from_matrix\n",
    "from dyntapy.assignments import StaticAssignment\n",
    "from dyntapy.visualization import show_network, show_demand\n",
    "from dyntapy.toll import create_toll_object"
   ]
  },
  {
   "attachments": {},
   "cell_type": "markdown",
   "metadata": {},
   "source": [
    "First, we retrieve a toy network (cascetta).\n",
    "\n",
    "Next, we create centroids, which are added to the network.\n",
    "\n",
    "Lastly, we create a made-up OD-matrix, which is loaded onto the centroids. "
   ]
  },
  {
   "cell_type": "code",
   "execution_count": null,
   "metadata": {},
   "outputs": [],
   "source": [
    "# 1. Retrieve network \n",
    "g = get_toy_network('cascetta')\n",
    "\n",
    "# 2. Create and add centroids\n",
    "centroid_x = np.array([2+np.sqrt(2), 5, np.sqrt(2)])\n",
    "centroid_y = np.array([-0.5, np.sqrt(2), np.sqrt(2)])\n",
    "g = add_centroids(g, centroid_x, centroid_y, euclidean=True)\n",
    "# also adds connectors automatically\n",
    "g = relabel_graph(g)  # adding link and node ids, connectors and centroids\n",
    "show_network(g, euclidean=True, notebook=True)\n",
    "\n",
    "# 3. Create OD and load onto centroids \n",
    "od_matrix = np.zeros(9).reshape((3, 3))\n",
    "od_matrix[0, 1] = 100\n",
    "od_matrix[2, 1] = 100\n",
    "od_graph = od_graph_from_matrix(od_matrix, centroid_x, centroid_y)\n",
    "show_demand(od_graph, euclidean=True, notebook=True)"
   ]
  },
  {
   "attachments": {},
   "cell_type": "markdown",
   "metadata": {},
   "source": [
    "Next code block shows how to run an STA without tolls. "
   ]
  },
  {
   "cell_type": "code",
   "execution_count": null,
   "metadata": {},
   "outputs": [],
   "source": [
    "assignment = StaticAssignment(g, od_graph)\n",
    "result = assignment.run('dial_b')\n",
    "print('dial_b ran successfully')\n",
    "show_network(g, flows = result.flows, notebook=True, show_nodes=False, euclidean=True)"
   ]
  },
  {
   "attachments": {},
   "cell_type": "markdown",
   "metadata": {},
   "source": [
    "The next code block shows an example of how to run STAs with tolls. Different toll schemes can be used, for which we refer to the tolling file. Look at the output of the previous cell block and this cell block. "
   ]
  },
  {
   "cell_type": "code",
   "execution_count": null,
   "metadata": {},
   "outputs": [],
   "source": [
    "# Create toll object\n",
    "toll_method = 'zone'\n",
    "toll_link_ids = [9,10] # Link 9 goes from the bottom to the right, and link 10 goes from the bottom to the top. \n",
    "toll_value = 3\n",
    "toll_object = create_toll_object(g, toll_method, toll_link_ids, toll_value)\n",
    "\n",
    "# Run STA with toll object\n",
    "assignment2 = StaticAssignment(g,od_graph, toll_object)\n",
    "result2 = assignment2.run('dial_b')\n",
    "print('dial_b ran successfully')\n",
    "show_network(g, flows = result2.flows, notebook=True, show_nodes=False, euclidean=True)\n"
   ]
  },
  {
   "attachments": {},
   "cell_type": "markdown",
   "metadata": {},
   "source": [
    "-----------------------------------------------------------------------------------------------------------------------\n"
   ]
  },
  {
   "attachments": {},
   "cell_type": "markdown",
   "metadata": {},
   "source": [
    "2. HEEDS preparation\n",
    "\n",
    "As HEEDS uses an STA in every iteration, we would like to save the network with the centroids and the od_graph. Otherwise, these should be computed in every iteration, while they are static throughout the whole process. "
   ]
  },
  {
   "cell_type": "code",
   "execution_count": null,
   "metadata": {},
   "outputs": [],
   "source": [
    "data_path = os.path.dirname(os.path.realpath(\"__file__\"))+ os.path.sep+os.pardir+os.path.sep+os.pardir+os.path.sep+'data'\n",
    "HEEDS_data_path = data_path + os.path.sep + \"HEEDS_input\"\n",
    "\n",
    "network_path = HEEDS_data_path + os.path.sep + 'network_centroids_data' + os.path.sep + \"inelastic_toy\"\n",
    "graph_path = HEEDS_data_path + os.path.sep + \"od_graph_data\" + os.path.sep + \"inelastic_toy\"\n",
    "\n",
    "with open(network_path, 'wb') as network_file:\n",
    "    dump(g, network_file)\n",
    "    print(f'network saved at f{network_path}')\n",
    "with open(graph_path, 'wb') as f:\n",
    "    dump(od_graph,f)\n",
    "    print(f'od_graph saved at f{graph_path}')"
   ]
  }
 ],
 "metadata": {
  "kernelspec": {
   "display_name": "Python 3.9.13 ('dyntapyIP2')",
   "language": "python",
   "name": "python3"
  },
  "language_info": {
   "codemirror_mode": {
    "name": "ipython",
    "version": 3
   },
   "file_extension": ".py",
   "mimetype": "text/x-python",
   "name": "python",
   "nbconvert_exporter": "python",
   "pygments_lexer": "ipython3",
   "version": "3.9.13"
  },
  "orig_nbformat": 4,
  "vscode": {
   "interpreter": {
    "hash": "9e95d76fc3f9d3fc30dc73a387f46f1f590ca9cd0ef0bb3b46e549844218cbac"
   }
  }
 },
 "nbformat": 4,
 "nbformat_minor": 2
}
