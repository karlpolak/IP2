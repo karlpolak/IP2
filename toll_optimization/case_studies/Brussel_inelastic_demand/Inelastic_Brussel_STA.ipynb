{
 "cells": [
  {
   "attachments": {},
   "cell_type": "markdown",
   "metadata": {},
   "source": [
    "1. How to run an inelastic traffic assignment on a real network"
   ]
  },
  {
   "cell_type": "code",
   "execution_count": null,
   "metadata": {},
   "outputs": [],
   "source": [
    "import warnings\n",
    "warnings.filterwarnings('ignore') # hide warnings\n",
    "import os\n",
    "import sys\n",
    "sys.path.append(\"../../..\")\n",
    "import pandas as pd\n",
    "import geopandas as gpd\n",
    "import numpy as np\n",
    "from dyntapy.supply_data import road_network_from_place, relabel_graph\n",
    "from dyntapy.demand_data import add_centroids, od_graph_from_matrix\n",
    "from dyntapy.assignments import StaticAssignment\n",
    "from dyntapy.visualization import show_network\n",
    "from pyproj import Proj, transform\n",
    "from pickle import dump"
   ]
  },
  {
   "cell_type": "code",
   "execution_count": null,
   "metadata": {},
   "outputs": [],
   "source": [
    "# fill in these parameters \n",
    "# IMPORTANT: Use the same parameter values for the buffer as was done in STA_prep_script!\n",
    "ext = 0  # 0 or 2\n",
    "buffer = 40\n",
    "city = 'BRUSSEL'\n",
    "\n",
    "HERE = os.path.dirname(os.path.realpath(\"__file__\"))\n",
    "data_path = HERE + os.path.sep + os.pardir + os.path.sep + os.pardir + os.path.sep + 'data_map' + os.path.sep + 'STA'\n",
    "zoning_path = data_path + os.path.sep + 'shapefiles' + os.path.sep + city + \"_\" + str(buffer) + \"_10\" + os.path.sep + city + \"_\" + str(buffer) + \"_10.shp\"\n",
    "if ext == 2:\n",
    "    od_path = data_path + os.path.sep + 'OD_matrix' + os.path.sep + city + \"_ext_tr_\" + str(buffer) + \"_9_10.xlsx\"\n",
    "else: \n",
    "    od_path = data_path + os.path.sep + 'OD_matrix' + os.path.sep + city + \"_\" + str(buffer) + \"_9_.xlsx\"\n",
    "print(zoning_path)\n"
   ]
  },
  {
   "cell_type": "code",
   "execution_count": null,
   "metadata": {},
   "outputs": [],
   "source": [
    "# Creating the network for Brussels. \n",
    "network = road_network_from_place(city, buffer_dist_close=buffer*1000)\n",
    "network = relabel_graph(network)\n",
    "show_network(network,notebook=True)\n"
   ]
  },
  {
   "cell_type": "code",
   "execution_count": null,
   "metadata": {},
   "outputs": [],
   "source": [
    "zoning = gpd.read_file(zoning_path)\n",
    "od = pd.read_excel(od_path)\n",
    "od_array = od.to_numpy() # The OD matrix is now stored in a numpy array\n",
    "\n",
    "# Retrieve zone number, x_centroid (LON) and y_centroid (LAT) from each zone. \n",
    "zone_numbers = zoning[\"ZONENUMMER\"]\n",
    "x_lamb = zoning[\"X_LAMB\"]\n",
    "x_lamb = x_lamb.to_numpy()\n",
    "y_lamb = zoning[\"Y_LAMB\"]\n",
    "y_lamb = y_lamb.to_numpy()\n",
    "\n",
    "# Project to correct CRS. \n",
    "inProj = Proj(init='epsg:31370')\n",
    "outProj = Proj(init='epsg:4326')\n",
    "x_centroids, y_centroids = transform(inProj,outProj,x_lamb,y_lamb)\n",
    "\n",
    "# Add the centroids to the network. Relabelling the graph is required (see dyntapy demo for reason why)\n",
    "network = add_centroids(network, x_centroids,y_centroids,k=1, method='link')\n",
    "network = relabel_graph(network)\n",
    "# show_network(network, notebook=True)\n",
    "\n",
    "# Create OD graph\n",
    "od_graph = od_graph_from_matrix(od_array,x_centroids,y_centroids) "
   ]
  },
  {
   "cell_type": "code",
   "execution_count": null,
   "metadata": {},
   "outputs": [],
   "source": [
    "# The network, zoning file and od matrix have been correctly loaded and linked by now. \n",
    "# This means that we can now run an assignment on the real demand! \n",
    "assignment = StaticAssignment(network,od_graph)\n",
    "result = assignment.run('dial_b')\n",
    "show_network(network, flows = result.flows, show_nodes=False)\n",
    "# all static assignments return a result object that follows the same structure, see below\n",
    "print(result.__dict__.keys())"
   ]
  },
  {
   "cell_type": "code",
   "execution_count": null,
   "metadata": {},
   "outputs": [],
   "source": [
    "veh_hours = result.link_costs * result.flows\n",
    "objective = sum(veh_hours)\n",
    "print(\"Objective: %s\" % objective)"
   ]
  },
  {
   "attachments": {},
   "cell_type": "markdown",
   "metadata": {},
   "source": [
    "2. HEEDS preparation"
   ]
  },
  {
   "cell_type": "code",
   "execution_count": null,
   "metadata": {},
   "outputs": [],
   "source": [
    "# This way of working is useful because we only need to compute those files once,\n",
    "# instead of in each iteration made by HEEDS. \n",
    "buffer = str(buffer)\n",
    "HEEDS_path = HERE + os.path.sep + os.pardir + os.path.sep + os.pardir + os.path.sep + 'data_map' + os.path.sep + 'HEEDS_input'\n",
    "network_path = HEEDS_path + os.path.sep + 'network_with_centroids' + os.path.sep + 'inelastic_' + city + '_' + buffer\n",
    "od_graph_path = HEEDS_path + os.path.sep + 'od_graph' + os.path.sep + 'inelastic_' + city + '_' + buffer\n",
    "\n",
    "with open(network_path, 'wb') as network_file:\n",
    "    dump(network, network_file)\n",
    "    print(f'network saved at f{network_path}')\n",
    "\n",
    "with open(od_graph_path, 'wb') as f:\n",
    "    dump(od_graph,f)\n",
    "    print(f'od_graph saved at f{od_graph_path}')"
   ]
  }
 ],
 "metadata": {
  "kernelspec": {
   "display_name": "Python 3.9.13 ('dyntapy': conda)",
   "language": "python",
   "name": "python3"
  },
  "language_info": {
   "codemirror_mode": {
    "name": "ipython",
    "version": 3
   },
   "file_extension": ".py",
   "mimetype": "text/x-python",
   "name": "python",
   "nbconvert_exporter": "python",
   "pygments_lexer": "ipython3",
   "version": "3.9.13"
  },
  "orig_nbformat": 4,
  "vscode": {
   "interpreter": {
    "hash": "33c1dbca894d8e507bb19ed2e29ce9cbb8d51ed396f70378c2202a4a7a4d784b"
   }
  }
 },
 "nbformat": 4,
 "nbformat_minor": 2
}
