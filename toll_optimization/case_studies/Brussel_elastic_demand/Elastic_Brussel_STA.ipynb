{
 "cells": [
  {
   "attachments": {},
   "cell_type": "markdown",
   "metadata": {},
   "source": [
    "# ELASTIC BRUSSELS NETWORK STA\n",
    "\n",
    "This file first shows how to run an elastic Static Traffic Assignment in dyntapy on a larger network. It also shows examples of how to run an elastic assignment with tolls."
   ]
  },
  {
   "attachments": {},
   "cell_type": "markdown",
   "metadata": {},
   "source": [
    "1. At first, you import all the necessary packages and files from mostly dyntapy. "
   ]
  },
  {
   "cell_type": "code",
   "execution_count": 1,
   "metadata": {},
   "outputs": [],
   "source": [
    "import warnings\n",
    "warnings.filterwarnings('ignore') # hide warnings\n",
    "import os\n",
    "import sys\n",
    "sys.path.append(\"../../..\")\n",
    "import numpy as np\n",
    "import pandas as pd\n",
    "import geopandas as gpd\n",
    "from dyntapy.supply_data import road_network_from_place, relabel_graph\n",
    "from dyntapy.demand_data import add_centroids, od_graph_from_matrix\n",
    "from dyntapy.assignments import StaticAssignment\n",
    "from dyntapy.visualization import show_network\n",
    "from dyntapy.results import get_od_flows\n",
    "from dyntapy.toll import create_toll_object\n",
    "from pyproj import Proj, transform\n",
    "from pickle import dump\n"
   ]
  },
  {
   "attachments": {},
   "cell_type": "markdown",
   "metadata": {},
   "source": [
    "2. In this case we would like to load a specific network. To make the path a bit more flexible, the buffer parameter which is the radius of the zoning file and the city are parameters that can be adapted easily to call a specific file path. Here a radius of 40km and the city of Brussels are used. These steps are executed by fully running the next block of code. "
   ]
  },
  {
   "cell_type": "code",
   "execution_count": 2,
   "metadata": {},
   "outputs": [],
   "source": [
    "# Creating the network for Brussels: \n",
    "# fill in these parameters \n",
    "# IMPORTANT: Use the same parameter values for the buffer as was done in STA_prep_script!\n",
    "buffer = 40\n",
    "city = 'BRUSSEL'\n",
    "\n",
    "HERE = os.path.dirname(os.path.realpath(\"__file__\"))\n",
    "data_path = HERE + os.path.sep + os.pardir + os.path.sep + os.pardir + os.path.sep + 'data_map'\n",
    "\n",
    "zoning_path = data_path  + os.path.sep + 'QGIS' + os.path.sep + city + \"_\" + str(buffer) + \"_10_aggr_comb.shp\"\n",
    "od_path = data_path + os.path.sep + 'STA' + os.path.sep + 'OD_matrix' + os.path.sep + city + \"_\" + str(buffer) + \"_9_aggregated.xlsx\""
   ]
  },
  {
   "attachments": {},
   "cell_type": "markdown",
   "metadata": {},
   "source": [
    "3. The next steps are always the same: \n",
    "\n",
    "- Create or retrieve a network\n",
    "- Create and add centroids to network → adds connectors automatically\n",
    "- Create or load an OD matrix (with the demand) onto the centroids\n",
    "\n",
    "  One of the important steps that you should not forget is projecting everything in the correct coordinate reference system (CRS). Especially when zones are aggregated using QGIS, this is something that you should be aware of. "
   ]
  },
  {
   "cell_type": "code",
   "execution_count": 3,
   "metadata": {},
   "outputs": [
    {
     "name": "stdout",
     "output_type": "stream",
     "text": [
      "composing\n",
      "retrieved network graph for Brussels, with 9564 nodes and 17327 edges after processing\n"
     ]
    }
   ],
   "source": [
    "# Creating the network for Brussels. \n",
    "network = road_network_from_place(\"Brussels\", buffer_dist_close=buffer*1000)\n",
    "network = relabel_graph(network)\n",
    "# show_network(network,notebook=True)\n",
    "\n",
    "zoning = gpd.read_file(zoning_path)\n",
    "od = pd.read_excel(od_path)\n",
    "old_od = od.to_numpy() # The OD matrix is now stored in a numpy array\n",
    "\n",
    "# Retrieve zone number, x_centroid (LON) and y_centroid (LAT) from each zone. \n",
    "zone_numbers = zoning[\"ZONENUMMER\"]\n",
    "x_lamb = zoning[\"X_LAMB\"]\n",
    "x_lamb = x_lamb.to_numpy()\n",
    "y_lamb = zoning[\"Y_LAMB\"]\n",
    "y_lamb = y_lamb.to_numpy()\n",
    "\n",
    "# Project to correct CRS. \n",
    "inProj = Proj(init='epsg:31370')\n",
    "outProj = Proj(init='epsg:4326')\n",
    "x_centroids, y_centroids = transform(inProj,outProj,x_lamb,y_lamb)\n",
    "\n",
    "# Add the centroids to the network. Relabelling the graph is required (see demo for reason why)\n",
    "network = add_centroids(network, x_centroids,y_centroids,k=1, method='link')\n",
    "network = relabel_graph(network)\n",
    "# show_network(network, notebook=True)\n",
    "\n",
    "# Create OD graph and plot demand\n",
    "old_graph = od_graph_from_matrix(old_od,x_centroids,y_centroids) "
   ]
  },
  {
   "attachments": {},
   "cell_type": "markdown",
   "metadata": {},
   "source": [
    "4. To have an elastic assignment, the inverse demand function approach is used. To calculate the A matrix, first an STA without toll needs to be run to get a price-demand relation. This can be done using the already familiar piece of code running the assignment below. The demand that is put on the network will in the first place remain static, being the original OD graph. \n",
    "\n",
    "   To determine A, you should have three other elements: B (elasticity matrix from literature) and a related price-demand value as P and D. These last ones can be extracted from the previous untolled assignment. The demand D is known and the impedance or P between each origin-destination pair can be calculated via the built-in function to extract the skims. Afterwards you just fill in the inverse demand function to get a value for A."
   ]
  },
  {
   "cell_type": "code",
   "execution_count": 4,
   "metadata": {},
   "outputs": [
    {
     "name": "stdout",
     "output_type": "stream",
     "text": [
      "init passed successfully\n",
      "initial loading starts \n"
     ]
    }
   ],
   "source": [
    "# 1. STA without toll\n",
    "assignment = StaticAssignment(network,old_graph)\n",
    "result = assignment.run('dial_b')\n",
    "\n",
    "# 2. Load B matrix (elasticities) \n",
    "elasticity_path = data_path + os.path.sep + 'STA' + os.path.sep + 'elasticity' + os.path.sep + 'Brussel_40'\n",
    "B = np.loadtxt(elasticity_path)\n",
    "\n",
    "# 3. Calculate A based on B, D and P\n",
    "A = old_od*B + result.skim"
   ]
  },
  {
   "attachments": {},
   "cell_type": "markdown",
   "metadata": {},
   "source": [
    "    Congratulations, you now have every element to start the loop to determine realistic demand via elasticities!"
   ]
  },
  {
   "attachments": {},
   "cell_type": "markdown",
   "metadata": {},
   "source": [
    "4. When you now want to run an elastic assignemt after all parameters are tuned, it is essential to add an additional loop where you determine how much the demand matrix will change depending on toll values and route choice. This can be done by checking each time after an assignment whether or not the change in skim matrix will have a significant effect. To get in this loop, you will first run an assignment with a random toll and determine how much the demand data deviates. A threshold of a specific number of iterations (here 10) or a lower bound on the max deviation per OD pair (here 5) will put a stop to the iterating step over multiple STA's to create slightly differend OD matrices in each iteration. The desired effect is a convergence of demand for the given toll. With this converged demand we can finally do the actual STA and compute the objective value.\n",
    "  \n",
    "   A sidenote is that sometimes rows or columns dissapear in the skim matrix due to the fact that their respective rows/columns in the previous OD matrix where filled with all zeroes. Due to this, the size of the matrix is not the same as the fixed elasticity matrix B. To solve this, an additional piece of code is added where in the case of such zero-row or -column, one random value in it will be changed to a very small number (here 0.0001)."
   ]
  },
  {
   "cell_type": "code",
   "execution_count": null,
   "metadata": {},
   "outputs": [],
   "source": [
    "# New assignment with toll to calculate new OD matrix \n",
    "toll_value = 0.05\n",
    "toll_ids = [1490]\n",
    "toll_method = 'single'\n",
    "toll = create_toll_object(network, toll_method, toll_ids, toll_value)\n",
    "\n",
    "assignment = StaticAssignment(network,old_graph,toll)\n",
    "result = assignment.run('dial_b')\n",
    "\n",
    "# Use A and B with second assignment to determine new_OD (necessary to enter while loop)\n",
    "new_od = (A-result.skim)/B\n",
    "print(abs((np.linalg.norm(new_od) - np.linalg.norm(old_od))/np.linalg.norm(old_od)))\n",
    "\n",
    "# Function that modifies one random value of each zero-row/-column to a non-zero value\n",
    "def modify_zeroes_in_od(od, value):\n",
    "    indices_zero_rows = np.where((od==0).all(axis=1))[0]\n",
    "    indices_zero_cols = np.where((od==0).all(axis=0))[0]\n",
    "    for i in indices_zero_rows:\n",
    "        j = np.random.choice(od.shape[1])\n",
    "        od[i,j] = value\n",
    "\n",
    "    for j in indices_zero_cols:\n",
    "        i = np.random.choice(od.shape[1])\n",
    "        od[i,j] = value\n",
    "    return od\n",
    "\n",
    "# Construct new OD with a replacement value in case of zero-row/-column\n",
    "new_od = modify_zeroes_in_od(new_od, 0.0001)\n",
    "\n",
    "i = 1 \n",
    "max_iterations = 3\n",
    "\n",
    "while abs((np.linalg.norm(new_od) - np.linalg.norm(old_od))/np.linalg.norm(old_od)) > 0.05 and i < max_iterations:\n",
    "    print(\"started iteration:\", i)\n",
    "    old_od = new_od\n",
    "    old_graph =  od_graph_from_matrix(old_od, x_centroids, y_centroids)\n",
    "    assignment = StaticAssignment(network,old_graph, toll)\n",
    "    result = assignment.run('dial_b')\n",
    "    new_od = old_od + ((A-result.skim)/B - old_od)/i\n",
    "    new_od = modify_zeroes_in_od(new_od, 0.0001)\n",
    "    i += 1\n",
    "    print(\"Frobenius norm deviation: \", abs((np.linalg.norm(new_od) - np.linalg.norm(old_od))/np.linalg.norm(old_od)))"
   ]
  },
  {
   "attachments": {},
   "cell_type": "markdown",
   "metadata": {},
   "source": [
    "    Congratulations, you have now run an elastic assignment on a tolled, scaled-up network!"
   ]
  },
  {
   "attachments": {},
   "cell_type": "markdown",
   "metadata": {},
   "source": [
    "------------------------------------------------------------------------------------"
   ]
  },
  {
   "attachments": {},
   "cell_type": "markdown",
   "metadata": {},
   "source": [
    "5. The last step is preparing for the Heeds iterations. The outer loop will decide on the best toll value, by ‘randomly’ trying toll values within a given range. To do this, the full network (containing roads, centroids and connectors) should preferably be saved to avoid reloading these files each iteration. In the elastic use-case, only the network remains static and is saved with a given path. The OD however will change here, exactly because of the elasticity matrix. It is not saved, but continuously updated each step of the process. What could be useful is saving the original OD so you do not lose this!\n",
    "\n",
    "# ADD HERE!!\n"
   ]
  },
  {
   "cell_type": "code",
   "execution_count": 5,
   "metadata": {},
   "outputs": [
    {
     "name": "stdout",
     "output_type": "stream",
     "text": [
      "network saved at fC:\\Users\\anton\\IP2\\toll_optimization\\case_studies\\Brussel_elastic_demand\\..\\..\\data_map\\HEEDS_input\\network_with_centroids\\elastic_BRUSSEL_40\n",
      "A_matrix saved at fC:\\Users\\anton\\IP2\\toll_optimization\\case_studies\\Brussel_elastic_demand\\..\\..\\data_map\\HEEDS_input\\elastic\\A_matrix_BRUSSEL_40\n",
      "B_matrix saved at fC:\\Users\\anton\\IP2\\toll_optimization\\case_studies\\Brussel_elastic_demand\\..\\..\\data_map\\HEEDS_input\\elastic\\B_matrix_BRUSSEL_40\n"
     ]
    }
   ],
   "source": [
    "buffer = str(buffer)\n",
    "HEEDS_path = HERE + os.path.sep + os.pardir + os.path.sep + os.pardir + os.path.sep + 'data_map' + os.path.sep + 'HEEDS_input'\n",
    "network_path = HEEDS_path + os.path.sep + 'network_with_centroids' + os.path.sep + 'elastic_' + city + '_' + buffer\n",
    "od_matrix_path = HEEDS_path + os.path.sep + 'od_graph' + os.path.sep + 'elastic_' + city + '_' + buffer + '.xlsx'\n",
    "A_matrix_path = HEEDS_path + os.path.sep + 'elastic' + os.path.sep + 'A_matrix_' + city + '_' + buffer\n",
    "B_matrix_path = HEEDS_path + os.path.sep + 'elastic' + os.path.sep + 'B_matrix_' + city + '_' + buffer\n",
    "x_centroids_path = HEEDS_path + os.path.sep + 'elastic' + os.path.sep + 'x_centroids_' + city + '_' + buffer\n",
    "y_centroids_path = HEEDS_path + os.path.sep + 'elastic' + os.path.sep + 'y_centroids_' + city + '_' + buffer\n",
    "\n",
    "with open(network_path, 'wb') as network_file:\n",
    "    dump(network, network_file)\n",
    "    print(f'network saved at f{network_path}')\n",
    "\n",
    "od.to_excel(od_matrix_path, index=False)\n",
    "\n",
    "with open(A_matrix_path, 'wb') as matrix:\n",
    "    dump(A, matrix)\n",
    "    print(f'A_matrix saved at f{A_matrix_path}')\n",
    "\n",
    "with open(B_matrix_path, 'wb') as matrix:\n",
    "    dump(B, matrix)\n",
    "    print(f'B_matrix saved at f{B_matrix_path}')\n",
    "\n",
    "np.savetxt(x_centroids_path,x_centroids)\n",
    "np.savetxt(y_centroids_path, y_centroids)\n",
    "\n",
    "# Compute objective for last OD-matrix on which we ran an STA. \n",
    "veh_hours = result.link_costs * result.flows\n",
    "objective = sum(veh_hours)"
   ]
  },
  {
   "attachments": {},
   "cell_type": "markdown",
   "metadata": {},
   "source": [
    "    Congratulations, you are now ready to go to the next step: HEEDS! \n",
    "    \n",
    "    Optionally, you can export the nodes and links from your saved network to qgis, using notebook export_nodes_and_links. There, you can easily select the links in a cordon or a zone that you would like to toll. \n",
    "    "
   ]
  }
 ],
 "metadata": {
  "kernelspec": {
   "display_name": "dyntapyIP2",
   "language": "python",
   "name": "python3"
  },
  "language_info": {
   "codemirror_mode": {
    "name": "ipython",
    "version": 3
   },
   "file_extension": ".py",
   "mimetype": "text/x-python",
   "name": "python",
   "nbconvert_exporter": "python",
   "pygments_lexer": "ipython3",
   "version": "3.9.13"
  },
  "orig_nbformat": 4
 },
 "nbformat": 4,
 "nbformat_minor": 2
}
