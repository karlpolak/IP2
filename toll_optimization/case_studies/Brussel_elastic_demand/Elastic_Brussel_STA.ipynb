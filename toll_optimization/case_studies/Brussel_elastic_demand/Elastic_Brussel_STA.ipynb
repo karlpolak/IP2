{
 "cells": [
  {
   "cell_type": "code",
   "execution_count": null,
   "metadata": {},
   "outputs": [],
   "source": [
    "import warnings\n",
    "warnings.filterwarnings('ignore') # hide warnings\n",
    "import os\n",
    "import sys\n",
    "sys.path.append(\"../../..\")\n",
    "import numpy as np\n",
    "import pandas as pd\n",
    "import geopandas as gpd\n",
    "from dyntapy.supply_data import road_network_from_place, relabel_graph\n",
    "from dyntapy.demand_data import add_centroids, od_graph_from_matrix\n",
    "from dyntapy.assignments import StaticAssignment\n",
    "from dyntapy.visualization import show_network\n",
    "from pyproj import Proj, transform"
   ]
  },
  {
   "cell_type": "code",
   "execution_count": null,
   "metadata": {},
   "outputs": [],
   "source": [
    "# Creating the network for Brussels. \n",
    "# fill in these parameters \n",
    "# IMPORTANT: Use the same parameter values for the buffer as was done in STA_prep_script!\n",
    "ext = 0  # 0 or 2\n",
    "buffer = 3\n",
    "city = 'BRUSSEL'\n",
    "\n",
    "network = road_network_from_place(\"Brussels\", buffer_dist_close=buffer*1000)\n",
    "network = relabel_graph(network)\n",
    "#show_network(network,notebook=True)"
   ]
  },
  {
   "cell_type": "code",
   "execution_count": null,
   "metadata": {},
   "outputs": [],
   "source": [
    "# string checks\n",
    "HERE = os.path.dirname(os.path.realpath(\"__file__\"))\n",
    "data_path = HERE + os.path.sep +'STA_prep'\n",
    "\n",
    "zoning_path = data_path + os.path.sep + \"shapefile_data\" + os.path.sep + city + \"_\" + str(buffer) + \"_10\" + os.path.sep + city + \"_\" + str(buffer) + \"_10.shp\"\n",
    "od_path2 = data_path + os.path.sep + \"od_matrix_data_ext_tr\" + os.path.sep + city + \"_ext_tr_\" + str(buffer) + \"_9_10.xlsx\"\n",
    "od_path0 = data_path + os.path.sep + \"od_matrix_data\" + os.path.sep + city + \"_\" + str(buffer) + \"_9_.xlsx\"\n",
    "\n",
    "print('zoning path: ' + zoning_path)\n",
    "print('od path (if ext = 2): ' + od_path2)\n",
    "print('od path (if ext = 0): ' + od_path0)"
   ]
  },
  {
   "cell_type": "code",
   "execution_count": null,
   "metadata": {},
   "outputs": [],
   "source": [
    "# Read in the zoning file\n",
    "HERE = os.path.dirname(os.path.realpath(\"__file__\"))\n",
    "data_path = HERE + os.path.sep +'STA_prep'\n",
    "zoning_path = data_path + os.path.sep + \"shapefile_data\" + os.path.sep + city + \"_\" + str(buffer) + \"_10\" + os.path.sep + city + \"_\" + str(buffer) + \"_10.shp\"\n",
    "zoning = gpd.read_file(zoning_path) # Everything is now stored in a geopandas dataframe. \n",
    "\n",
    "# Retrieve zone number, x_centroid (LON) and y_centroid (LAT) from each zone. \n",
    "zone_numbers = zoning[\"ZONENUMMER\"]\n",
    "x_lamb = zoning[\"X_LAMB\"]\n",
    "x_lamb = x_lamb.to_numpy()\n",
    "y_lamb = zoning[\"Y_LAMB\"]\n",
    "y_lamb = y_lamb.to_numpy()\n",
    "\n",
    "# Project to correct CRS. \n",
    "inProj = Proj(init='epsg:31370')\n",
    "outProj = Proj(init='epsg:4326')\n",
    "x_centroids, y_centroids = transform(inProj,outProj,x_lamb,y_lamb)\n",
    "\n",
    "# Add the centroids to the network. Relabelling the graph is required (see demo for reason why)\n",
    "connector_type = 'link'\n",
    "network = add_centroids(network, x_centroids,y_centroids,k=1, method=connector_type)\n",
    "network = relabel_graph(network)\n",
    "show_network(network, notebook=True)"
   ]
  },
  {
   "cell_type": "code",
   "execution_count": null,
   "metadata": {},
   "outputs": [],
   "source": [
    "od = pd.read_excel(od_path2)\n",
    "old_od = od.to_numpy() # The OD matrix is now stored in a numpy array\n",
    "\n",
    "# Create OD graph and plot demand\n",
    "old_graph = od_graph_from_matrix(old_od,x_centroids,y_centroids) \n",
    "# demand plot is useless since there are too many OD-pairs "
   ]
  },
  {
   "cell_type": "code",
   "execution_count": null,
   "metadata": {},
   "outputs": [],
   "source": [
    "# A matrix\n",
    "A = 1.5\n",
    "# B matrix\n",
    "B = 0.05"
   ]
  },
  {
   "cell_type": "code",
   "execution_count": null,
   "metadata": {},
   "outputs": [],
   "source": [
    "# First iteration\n",
    "assignment = StaticAssignment(network,old_graph)\n",
    "result = assignment.run('dial_b')    \n",
    "new_od = (A-result.skim)/B\n",
    "print(np.max(abs((new_od-old_od))))"
   ]
  },
  {
   "cell_type": "code",
   "execution_count": null,
   "metadata": {},
   "outputs": [],
   "source": [
    "i = 1 \n",
    "max_iterations = 3\n",
    "max_deviation_per_od = 1\n",
    "while np.max(abs((new_od - old_od))) > max_deviation_per_od and i < max_iterations:\n",
    "    # Perhaps MSA stap\n",
    "    old_od = new_od\n",
    "    old_graph =  od_graph_from_matrix(old_od, x_centroids, y_centroids)\n",
    "    assignment = StaticAssignment(network,old_graph)\n",
    "    result = assignment.run('dial_b')\n",
    "    new_od = (A-result.skim)/B\n",
    "    i += 1\n",
    "    print(np.max(abs((new_od-old_od))))"
   ]
  }
 ],
 "metadata": {
  "kernelspec": {
   "display_name": "dyntapyIP2",
   "language": "python",
   "name": "python3"
  },
  "language_info": {
   "codemirror_mode": {
    "name": "ipython",
    "version": 3
   },
   "file_extension": ".py",
   "mimetype": "text/x-python",
   "name": "python",
   "nbconvert_exporter": "python",
   "pygments_lexer": "ipython3",
   "version": "3.9.13"
  },
  "orig_nbformat": 4
 },
 "nbformat": 4,
 "nbformat_minor": 2
}
