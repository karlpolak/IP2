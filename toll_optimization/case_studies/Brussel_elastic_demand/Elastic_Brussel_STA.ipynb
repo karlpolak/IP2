{
 "cells": [
  {
   "attachments": {},
   "cell_type": "markdown",
   "metadata": {},
   "source": [
    "# ELASTIC BRUSSELS NETWORK STA\n",
    "\n",
    "This file first shows how to run an elastic Static Traffic Assignment in dyntapy on a larger network. It also shows examples of how to run an elastic assignment with tolls."
   ]
  },
  {
   "attachments": {},
   "cell_type": "markdown",
   "metadata": {},
   "source": [
    "1. At first, you import all the necessary packages and files from mostly dyntapy. "
   ]
  },
  {
   "cell_type": "code",
   "execution_count": null,
   "metadata": {},
   "outputs": [],
   "source": [
    "import warnings\n",
    "warnings.filterwarnings('ignore') # hide warnings\n",
    "import os\n",
    "import sys\n",
    "sys.path.append(\"../../..\")\n",
    "import numpy as np\n",
    "import pandas as pd\n",
    "import geopandas as gpd\n",
    "from dyntapy.supply_data import road_network_from_place, relabel_graph\n",
    "from dyntapy.demand_data import add_centroids, od_graph_from_matrix\n",
    "from dyntapy.assignments import StaticAssignment\n",
    "from dyntapy.visualization import show_network\n",
    "from dyntapy.results import get_od_flows\n",
    "from dyntapy.toll import create_toll_object\n",
    "from pyproj import Proj, transform\n",
    "from pickle import dump\n"
   ]
  },
  {
   "attachments": {},
   "cell_type": "markdown",
   "metadata": {},
   "source": [
    "2. In this case we would like to load a specific network. To make the path a bit more flexible, the buffer parameter which is the radius of the zoning file and the city are parameters that can be adapted easily to call a specific file path. Here a radius of 40km and the city of Brussels are used. These steps are executed by fully running the next block of code. "
   ]
  },
  {
   "cell_type": "code",
   "execution_count": null,
   "metadata": {},
   "outputs": [],
   "source": [
    "# Creating the network for Brussels: \n",
    "# fill in these parameters \n",
    "# IMPORTANT: Use the same parameter values for the buffer as was done in STA_prep_script!\n",
    "buffer = 40\n",
    "city = 'BRUSSEL'\n",
    "\n",
    "HERE = os.path.dirname(os.path.realpath(\"__file__\"))\n",
    "data_path = HERE + os.path.sep + os.pardir + os.path.sep + os.pardir + os.path.sep + 'data_map'\n",
    "\n",
    "zoning_path = data_path  + os.path.sep + 'QGIS' + os.path.sep + city + \"_\" + str(buffer) + \"_10_aggr_comb.shp\"\n",
    "od_path = data_path + os.path.sep + 'STA' + os.path.sep + 'OD_matrix' + os.path.sep + city + \"_\" + str(buffer) + \"_9_aggregated.xlsx\""
   ]
  },
  {
   "attachments": {},
   "cell_type": "markdown",
   "metadata": {},
   "source": [
    "3. The next steps are always the same: \n",
    "\n",
    "- Create or retrieve a network\n",
    "- Create and add centroids to network → adds connectors automatically\n",
    "- Create or load an OD matrix (with the demand) onto the centroids\n",
    "\n",
    "  One of the important steps that you should not forget is projecting everything in the correct coordinate reference system (CRS). Especially when zones are aggregated using QGIS, this is something that you should be aware of. "
   ]
  },
  {
   "cell_type": "code",
   "execution_count": null,
   "metadata": {},
   "outputs": [],
   "source": [
    "# Creating the network for Brussels. \n",
    "network = road_network_from_place(\"Brussels\", buffer_dist_close=buffer*1000)\n",
    "network = relabel_graph(network)\n",
    "# show_network(network,notebook=True)\n",
    "\n",
    "zoning = gpd.read_file(zoning_path)\n",
    "od = pd.read_excel(od_path)\n",
    "old_od = od.to_numpy() # The OD matrix is now stored in a numpy array\n",
    "\n",
    "# Retrieve zone number, x_centroid (LON) and y_centroid (LAT) from each zone. \n",
    "zone_numbers = zoning[\"ZONENUMMER\"]\n",
    "x_lamb = zoning[\"X_LAMB\"]\n",
    "x_lamb = x_lamb.to_numpy()\n",
    "y_lamb = zoning[\"Y_LAMB\"]\n",
    "y_lamb = y_lamb.to_numpy()\n",
    "\n",
    "# Project to correct CRS. \n",
    "inProj = Proj(init='epsg:31370')\n",
    "outProj = Proj(init='epsg:4326')\n",
    "x_centroids, y_centroids = transform(inProj,outProj,x_lamb,y_lamb)\n",
    "\n",
    "# Add the centroids to the network. Relabelling the graph is required (see demo for reason why)\n",
    "network = add_centroids(network, x_centroids,y_centroids,k=1, method='link')\n",
    "network = relabel_graph(network)\n",
    "# show_network(network, notebook=True)\n",
    "\n",
    "# Create OD graph and plot demand\n",
    "old_graph = od_graph_from_matrix(old_od,x_centroids,y_centroids) "
   ]
  },
  {
   "attachments": {},
   "cell_type": "markdown",
   "metadata": {},
   "source": [
    "4. To have an elastic assignment, the inverse demand function approach is used. To calculate the A matrix, first an STA without toll needs to be run to get a price-demand relation. This can be done using the already familiar piece of code running the assignment below. The demand that is put on the network will in the first place remain static, being the original OD graph. \n",
    "\n",
    "   To determine A, you should have three other elements: B (elasticity matrix from literature) and a related price-demand value as P and D. These last ones can be extracted from the previous untolled assignment. The demand D is known and the impedance or P between each origin-destination pair can be calculated via the built-in function to extract the skims. Afterwards you just fill in the inverse demand function to get a value for A."
   ]
  },
  {
   "cell_type": "code",
   "execution_count": null,
   "metadata": {},
   "outputs": [],
   "source": [
    "# 1. STA without toll\n",
    "assignment = StaticAssignment(network,old_graph)\n",
    "result = assignment.run('dial_b')\n",
    "\n",
    "# 2. Load B matrix (elasticities) \n",
    "elasticity_path = data_path + os.path.sep + 'STA' + os.path.sep + 'elasticity' + os.path.sep + 'Brussel_40'\n",
    "B = np.loadtxt(elasticity_path)\n",
    "\n",
    "# 3. Calculate A based on B, D and P\n",
    "A = old_od*B + result.skim"
   ]
  },
  {
   "attachments": {},
   "cell_type": "markdown",
   "metadata": {},
   "source": [
    "    Congratulations, you now have every element to start the loop to determine realistic demand via elasticities!"
   ]
  },
  {
   "attachments": {},
   "cell_type": "markdown",
   "metadata": {},
   "source": [
    "Now that the parameters have been tuned/estimated, we can start running STAs with tolls. For this, we do a loop of STAs (with a different OD-matrix in every iteration) until the elastic demand converges for the given toll. With this converged demand we can finally do the actual STA and compute the objective value."
   ]
  },
  {
   "cell_type": "code",
   "execution_count": null,
   "metadata": {},
   "outputs": [],
   "source": [
    "# New assignment with toll to calculate new OD matrix \n",
    "toll_value = 0.05\n",
    "toll_ids = [1490]\n",
    "toll_method = 'single'\n",
    "toll = create_toll_object(network, toll_method, toll_ids, toll_value)\n",
    "\n",
    "assignment = StaticAssignment(network,old_graph,toll)\n",
    "result = assignment.run('dial_b')\n",
    "\n",
    "# use A and B with second assignment to determine new_OD (necessary to enter while loop)\n",
    "new_od = (A-result.skim)/B\n",
    "print(abs((np.linalg.norm(new_od) - np.linalg.norm(old_od))/np.linalg.norm(old_od)))"
   ]
  },
  {
   "cell_type": "code",
   "execution_count": null,
   "metadata": {},
   "outputs": [],
   "source": [
    "# function that modifies one random value of each zero-row/zero-column to a non-zero value\n",
    "def modify_zeroes_in_od(od, value):\n",
    "    indices_zero_rows = np.where((od==0).all(axis=1))[0]\n",
    "    indices_zero_cols = np.where((od==0).all(axis=0))[0]\n",
    "    for i in indices_zero_rows:\n",
    "        j = np.random.choice(od.shape[1])\n",
    "        od[i,j] = value\n",
    "\n",
    "    for j in indices_zero_cols:\n",
    "        i = np.random.choice(od.shape[1])\n",
    "        od[i,j] = value\n",
    "    return od\n",
    "\n",
    "new_od = modify_zeroes_in_od(new_od, 0.0001)\n"
   ]
  },
  {
   "cell_type": "code",
   "execution_count": null,
   "metadata": {},
   "outputs": [],
   "source": [
    "i = 1 \n",
    "max_iterations = 3\n",
    "\n",
    "while abs((np.linalg.norm(new_od) - np.linalg.norm(old_od))/np.linalg.norm(old_od)) > 0.05 and i < max_iterations:\n",
    "    print(\"started iteration:\", i)\n",
    "    old_od = new_od\n",
    "    old_graph =  od_graph_from_matrix(old_od, x_centroids, y_centroids)\n",
    "    assignment = StaticAssignment(network,old_graph, toll)\n",
    "    result = assignment.run('dial_b')\n",
    "    new_od = old_od + ((A-result.skim)/B - old_od)/i\n",
    "    new_od = modify_zeroes_in_od(new_od, 0.0001)\n",
    "    i += 1\n",
    "    print(\"Frobenius norm deviation: \", abs((np.linalg.norm(new_od) - np.linalg.norm(old_od))/np.linalg.norm(old_od)))"
   ]
  },
  {
   "cell_type": "code",
   "execution_count": null,
   "metadata": {},
   "outputs": [],
   "source": [
    "# Compute objective for last OD-matrix on which we ran an STA. \n",
    "veh_hours = result.link_costs * result.flows\n",
    "objective = sum(veh_hours)"
   ]
  },
  {
   "attachments": {},
   "cell_type": "markdown",
   "metadata": {},
   "source": [
    "# 2. HEEDS preparation"
   ]
  },
  {
   "cell_type": "code",
   "execution_count": null,
   "metadata": {},
   "outputs": [],
   "source": [
    "buffer = str(buffer)\n",
    "HEEDS_path = HERE + os.path.sep + os.pardir + os.path.sep + os.pardir + os.path.sep + 'data_map' + os.path.sep + 'HEEDS_input'\n",
    "network_path = HEEDS_path + os.path.sep + 'network_with_centroids' + os.path.sep + 'elastic_' + city + '_' + buffer\n",
    "od_matrix_path = HEEDS_path + os.path.sep + 'od_graph' + os.path.sep + 'elastic_' + city + '_' + buffer + '.xlsx'\n",
    "A_matrix_path = HEEDS_path + os.path.sep + 'elastic' + os.path.sep + 'A_matrix_' + city + '_' + buffer\n",
    "B_matrix_path = HEEDS_path + os.path.sep + 'elastic' + os.path.sep + 'B_matrix_' + city + '_' + buffer\n",
    "x_centroids_path = HEEDS_path + os.path.sep + 'elastic' + os.path.sep + 'x_centroids_' + city + '_' + buffer\n",
    "y_centroids_path = HEEDS_path + os.path.sep + 'elastic' + os.path.sep + 'y_centroids_' + city + '_' + buffer\n",
    "\n",
    "with open(network_path, 'wb') as network_file:\n",
    "    dump(network, network_file)\n",
    "    print(f'network saved at f{network_path}')\n",
    "\n",
    "od.to_excel(od_matrix_path, index=False)\n",
    "\n",
    "with open(A_matrix_path, 'wb') as matrix:\n",
    "    dump(A, matrix)\n",
    "    print(f'A_matrix saved at f{A_matrix_path}')\n",
    "\n",
    "with open(B_matrix_path, 'wb') as matrix:\n",
    "    dump(B, matrix)\n",
    "    print(f'B_matrix saved at f{B_matrix_path}')\n",
    "\n",
    "np.savetxt(x_centroids_path,x_centroids)\n",
    "np.savetxt(y_centroids_path, y_centroids)\n",
    "\n",
    "\n"
   ]
  }
 ],
 "metadata": {
  "kernelspec": {
   "display_name": "dyntapyIP2",
   "language": "python",
   "name": "python3"
  },
  "language_info": {
   "codemirror_mode": {
    "name": "ipython",
    "version": 3
   },
   "file_extension": ".py",
   "mimetype": "text/x-python",
   "name": "python",
   "nbconvert_exporter": "python",
   "pygments_lexer": "ipython3",
   "version": "3.9.13"
  },
  "orig_nbformat": 4
 },
 "nbformat": 4,
 "nbformat_minor": 2
}
