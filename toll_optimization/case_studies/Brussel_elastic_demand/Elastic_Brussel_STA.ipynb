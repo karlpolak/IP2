{
 "cells": [
  {
   "attachments": {},
   "cell_type": "markdown",
   "metadata": {},
   "source": [
    "1. How to run an elastic traffic assignment on a real network"
   ]
  },
  {
   "cell_type": "code",
   "execution_count": 2,
   "metadata": {},
   "outputs": [],
   "source": [
    "import warnings\n",
    "warnings.filterwarnings('ignore') # hide warnings\n",
    "import os\n",
    "import sys\n",
    "sys.path.append(\"../../..\")\n",
    "import numpy as np\n",
    "import pandas as pd\n",
    "import geopandas as gpd\n",
    "from dyntapy.supply_data import road_network_from_place, relabel_graph\n",
    "from dyntapy.demand_data import add_centroids, od_graph_from_matrix\n",
    "from dyntapy.assignments import StaticAssignment\n",
    "from dyntapy.visualization import show_network\n",
    "from pyproj import Proj, transform\n",
    "from pickle import dump"
   ]
  },
  {
   "cell_type": "code",
   "execution_count": 3,
   "metadata": {},
   "outputs": [
    {
     "name": "stdout",
     "output_type": "stream",
     "text": [
      "C:\\Users\\silky\\Documents\\School\\KU Leuven\\Master\\YEAR 2\\IP2\\IP2\\toll_optimization\\case_studies\\Brussel_elastic_demand\\..\\..\\data_map\\QGIS\\BRUSSEL_40_10_aggr_comb.shp\n"
     ]
    }
   ],
   "source": [
    "# Creating the network for Brussels. \n",
    "# fill in these parameters \n",
    "# IMPORTANT: Use the same parameter values for the buffer as was done in STA_prep_script!\n",
    "ext = 0  # 0 or 2\n",
    "buffer = 40\n",
    "city = 'BRUSSEL'\n",
    "\n",
    "HERE = os.path.dirname(os.path.realpath(\"__file__\"))\n",
    "data_path = HERE + os.path.sep + os.pardir + os.path.sep + os.pardir + os.path.sep + 'data_map'\n",
    "zoning_path = data_path  + os.path.sep + 'QGIS' + os.path.sep + city + \"_\" + str(buffer) + \"_10_aggr_comb.shp\"\n",
    "if ext == 2:\n",
    "    od_path = data_path + os.path.sep + 'STA' + os.path.sep + 'OD_matrix' + os.path.sep + city + \"_ext_tr_\" + str(buffer) + \"_9_10.xlsx\"\n",
    "else: \n",
    "    od_path = data_path + os.path.sep + 'STA' + os.path.sep + 'OD_matrix' + os.path.sep + city + \"_\" + str(buffer) + \"_9_.xlsx\"\n",
    "print(zoning_path)"
   ]
  },
  {
   "cell_type": "code",
   "execution_count": 4,
   "metadata": {},
   "outputs": [],
   "source": [
    "# Creating the network for Brussels. \n",
    "network = road_network_from_place(\"Brussels\", buffer_dist_close=buffer*1000)\n",
    "network = relabel_graph(network)\n",
    "show_network(network,notebook=True)"
   ]
  },
  {
   "cell_type": "code",
   "execution_count": null,
   "metadata": {},
   "outputs": [],
   "source": [
    "zoning = gpd.read_file(zoning_path)\n",
    "od = pd.read_excel(od_path)\n",
    "old_od = od.to_numpy() # The OD matrix is now stored in a numpy array\n",
    "\n",
    "# Retrieve zone number, x_centroid (LON) and y_centroid (LAT) from each zone. \n",
    "zone_numbers = zoning[\"ZONENUMMER\"]\n",
    "x_lamb = zoning[\"X_LAMB\"]\n",
    "x_lamb = x_lamb.to_numpy()\n",
    "y_lamb = zoning[\"Y_LAMB\"]\n",
    "y_lamb = y_lamb.to_numpy()\n",
    "\n",
    "# Project to correct CRS. \n",
    "inProj = Proj(init='epsg:31370')\n",
    "outProj = Proj(init='epsg:4326')\n",
    "x_centroids, y_centroids = transform(inProj,outProj,x_lamb,y_lamb)\n",
    "\n",
    "# Add the centroids to the network. Relabelling the graph is required (see demo for reason why)\n",
    "network = add_centroids(network, x_centroids,y_centroids,k=1, method='link')\n",
    "network = relabel_graph(network)\n",
    "show_network(network, notebook=True)\n",
    "\n",
    "# Create OD graph and plot demand\n",
    "old_graph = od_graph_from_matrix(old_od,x_centroids,y_centroids) \n",
    "# demand plot is useless since there are too many OD-pairs "
   ]
  },
  {
   "cell_type": "code",
   "execution_count": null,
   "metadata": {},
   "outputs": [
    {
     "name": "stdout",
     "output_type": "stream",
     "text": [
      "[[0.384 0.384 0.384 ... 0.422 0.422 0.422]\n",
      " [0.384 0.384 0.384 ... 0.422 0.422 0.422]\n",
      " [0.384 0.384 0.384 ... 0.422 0.422 0.422]\n",
      " ...\n",
      " [0.422 0.422 0.422 ... 0.576 0.499 0.499]\n",
      " [0.422 0.422 0.422 ... 0.499 0.576 0.576]\n",
      " [0.422 0.422 0.422 ... 0.499 0.576 0.576]]\n"
     ]
    }
   ],
   "source": [
    "%store -r zone_elasticity_matrix\n",
    "\n",
    "# A matrix\n",
    "A = 1.5\n",
    "# B matrix\n",
    "B = zone_elasticity_matrix\n",
    "print(B)"
   ]
  },
  {
   "cell_type": "code",
   "execution_count": 1,
   "metadata": {},
   "outputs": [
    {
     "ename": "NameError",
     "evalue": "name 'StaticAssignment' is not defined",
     "output_type": "error",
     "traceback": [
      "\u001b[1;31m---------------------------------------------------------------------------\u001b[0m",
      "\u001b[1;31mNameError\u001b[0m                                 Traceback (most recent call last)",
      "\u001b[1;32mc:\\Users\\silky\\Documents\\School\\KU Leuven\\Master\\YEAR 2\\IP2\\IP2\\toll_optimization\\case_studies\\Brussel_elastic_demand\\Elastic_Brussel_STA.ipynb Cell 7\u001b[0m in \u001b[0;36m2\n\u001b[0;32m      <a href='vscode-notebook-cell:/c%3A/Users/silky/Documents/School/KU%20Leuven/Master/YEAR%202/IP2/IP2/toll_optimization/case_studies/Brussel_elastic_demand/Elastic_Brussel_STA.ipynb#W6sZmlsZQ%3D%3D?line=0'>1</a>\u001b[0m \u001b[39m# First iteration\u001b[39;00m\n\u001b[1;32m----> <a href='vscode-notebook-cell:/c%3A/Users/silky/Documents/School/KU%20Leuven/Master/YEAR%202/IP2/IP2/toll_optimization/case_studies/Brussel_elastic_demand/Elastic_Brussel_STA.ipynb#W6sZmlsZQ%3D%3D?line=1'>2</a>\u001b[0m assignment \u001b[39m=\u001b[39m StaticAssignment(network,old_graph)\n\u001b[0;32m      <a href='vscode-notebook-cell:/c%3A/Users/silky/Documents/School/KU%20Leuven/Master/YEAR%202/IP2/IP2/toll_optimization/case_studies/Brussel_elastic_demand/Elastic_Brussel_STA.ipynb#W6sZmlsZQ%3D%3D?line=2'>3</a>\u001b[0m result \u001b[39m=\u001b[39m assignment\u001b[39m.\u001b[39mrun(\u001b[39m'\u001b[39m\u001b[39mdial_b\u001b[39m\u001b[39m'\u001b[39m)    \n\u001b[0;32m      <a href='vscode-notebook-cell:/c%3A/Users/silky/Documents/School/KU%20Leuven/Master/YEAR%202/IP2/IP2/toll_optimization/case_studies/Brussel_elastic_demand/Elastic_Brussel_STA.ipynb#W6sZmlsZQ%3D%3D?line=3'>4</a>\u001b[0m new_od \u001b[39m=\u001b[39m (A\u001b[39m-\u001b[39mresult\u001b[39m.\u001b[39mskim)\u001b[39m/\u001b[39mB\n",
      "\u001b[1;31mNameError\u001b[0m: name 'StaticAssignment' is not defined"
     ]
    }
   ],
   "source": [
    "# First iteration\n",
    "assignment = StaticAssignment(network,old_graph)\n",
    "result = assignment.run('dial_b')    \n",
    "new_od = (A-result.skim)/B\n",
    "print(np.max(abs((new_od-old_od))))"
   ]
  },
  {
   "cell_type": "code",
   "execution_count": null,
   "metadata": {},
   "outputs": [],
   "source": [
    "i = 1 \n",
    "max_iterations = 3\n",
    "max_deviation_per_od = 1\n",
    "while np.max(abs((new_od - old_od))) > max_deviation_per_od and i < max_iterations:\n",
    "    # Perhaps MSA stap\n",
    "    old_od = new_od\n",
    "    old_graph =  od_graph_from_matrix(old_od, x_centroids, y_centroids)\n",
    "    assignment = StaticAssignment(network,old_graph)\n",
    "    result = assignment.run('dial_b')\n",
    "    new_od = (A-result.skim)/B\n",
    "    i += 1\n",
    "    print(np.max(abs((new_od-old_od))))"
   ]
  },
  {
   "attachments": {},
   "cell_type": "markdown",
   "metadata": {},
   "source": [
    "2. HEEDS preparation"
   ]
  },
  {
   "cell_type": "code",
   "execution_count": null,
   "metadata": {},
   "outputs": [],
   "source": [
    "# Only the network with the centroids will remain static throughout the HEEDS optimization process.\n",
    "# The OD is elastic, so should not be stored beforehand. \n",
    "\n",
    "buffer = str(buffer)\n",
    "HEEDS_path = HERE + os.path.sep + os.pardir + os.path.sep + os.pardir + os.path.sep + 'data_map' + os.path.sep + 'HEEDS_input'\n",
    "network_path = HEEDS_path + os.path.sep + 'network_with_centroids' + os.path.sep + 'elastic_' + city + '_' + buffer\n",
    "\n",
    "with open(network_path, 'wb') as network_file:\n",
    "    dump(network, network_file)\n",
    "    print(f'network saved at f{network_path}')\n"
   ]
  }
 ],
 "metadata": {
  "kernelspec": {
   "display_name": "dyntapyIP2",
   "language": "python",
   "name": "python3"
  },
  "language_info": {
   "codemirror_mode": {
    "name": "ipython",
    "version": 3
   },
   "file_extension": ".py",
   "mimetype": "text/x-python",
   "name": "python",
   "nbconvert_exporter": "python",
   "pygments_lexer": "ipython3",
   "version": "3.9.13"
  },
  "orig_nbformat": 4
 },
 "nbformat": 4,
 "nbformat_minor": 2
}
