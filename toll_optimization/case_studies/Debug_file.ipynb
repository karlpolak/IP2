{
 "cells": [
  {
   "attachments": {},
   "cell_type": "markdown",
   "metadata": {},
   "source": [
    "- STA zonder toll\n",
    "- STA met toll\n",
    "- network check\n",
    "- vergelijken flow en cost + waar wordt de toll op gezet (van links)\n",
    "\n",
    "Alles klaargemaakt voor heeds met checks van bv network --> cordon was dial-b fout --> verkleinen naar aantal links nu\n",
    "--> E19 & pentagon --> heel diep gaan zoeken: tolled road check"
   ]
  },
  {
   "cell_type": "code",
   "execution_count": null,
   "metadata": {},
   "outputs": [],
   "source": []
  }
 ],
 "metadata": {
  "language_info": {
   "name": "python"
  },
  "orig_nbformat": 4
 },
 "nbformat": 4,
 "nbformat_minor": 2
}
