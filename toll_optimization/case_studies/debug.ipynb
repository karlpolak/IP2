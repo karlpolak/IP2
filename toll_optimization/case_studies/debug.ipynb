{
 "cells": [
  {
   "attachments": {},
   "cell_type": "markdown",
   "metadata": {},
   "source": [
    "This file more or less describes the timeline of problems that we experienced in our case study attempts. \n"
   ]
  },
  {
   "attachments": {},
   "cell_type": "markdown",
   "metadata": {},
   "source": [
    "The first cell block imports all packages and files that are required through all attempts. "
   ]
  },
  {
   "cell_type": "code",
   "execution_count": 1,
   "metadata": {},
   "outputs": [],
   "source": [
    "import sys\n",
    "sys.path.append(\"../..\")\n",
    "import numpy as np\n",
    "import pandas as pd\n",
    "import geopandas as gpd\n",
    "from dyntapy.assignments import StaticAssignment\n",
    "from dyntapy.toll import create_toll_object\n",
    "from dyntapy.demand_data import od_graph_from_matrix\n",
    "from pickle import load \n",
    "import warnings\n",
    "warnings.filterwarnings('ignore') # hide warnings\n",
    "\n",
    "network_path = \"C:/Users/anton/IP2/toll_optimization/data_map/HEEDS_input/network_with_centroids/elastic_BRUSSEL_40\"\n",
    "od_path = \"C:/Users/anton/IP2/toll_optimization/data_map/HEEDS_input/od_graph/elastic_BRUSSEL_40.xlsx\"\n",
    "A_matrix_path = \"C:/Users/anton/IP2/toll_optimization/data_map/HEEDS_input/elastic/A_matrix_BRUSSEL_40\"\n",
    "B_matrix_path = \"C:/Users/anton/IP2/toll_optimization/data_map/HEEDS_input/elastic/B_matrix_BRUSSEL_40\"\n",
    "x_centroids_path = \"C:/Users/anton/IP2/toll_optimization/data_map/HEEDS_input/elastic/x_centroids_BRUSSEL_40\"\n",
    "y_centroids_path = \"C:/Users/anton/IP2/toll_optimization/data_map/HEEDS_input/elastic/y_centroids_BRUSSEL_40\"\n",
    "\n",
    "with open(network_path, 'rb') as network_file:\n",
    "    g = load(network_file)\n",
    "with open(A_matrix_path, 'rb') as matrix:\n",
    "    A = load(matrix)\n",
    "with open(B_matrix_path, 'rb') as matrix:\n",
    "    B = load(matrix)\n",
    "old_od = pd.read_excel(od_path)\n",
    "old_od = old_od.to_numpy()\n",
    "x_centroids = np.loadtxt(x_centroids_path)\n",
    "y_centroids = np.loadtxt(y_centroids_path)\n",
    "original_od_graph = od_graph_from_matrix(old_od,x_centroids,y_centroids) "
   ]
  },
  {
   "attachments": {},
   "cell_type": "markdown",
   "metadata": {},
   "source": [
    "-----\n",
    "    FIRST ATTEMPT: TOLLING BASED ON OUR DEFINED CORDON OUTSIDE RING OF BRUSSELS\n",
    "\n",
    "TODO: figuur opslaan van dit cordon voor referentie (idealiter staat die figuur ook in verslag dus gwn ergens toevoegen hier)"
   ]
  },
  {
   "cell_type": "code",
   "execution_count": 2,
   "metadata": {},
   "outputs": [
    {
     "name": "stdout",
     "output_type": "stream",
     "text": [
      "init passed successfully\n",
      "initial loading starts \n"
     ]
    },
    {
     "ename": "AssertionError",
     "evalue": "",
     "output_type": "error",
     "traceback": [
      "\u001b[1;31m---------------------------------------------------------------------------\u001b[0m",
      "\u001b[1;31mAssertionError\u001b[0m                            Traceback (most recent call last)",
      "\u001b[1;32mc:\\Users\\anton\\IP2\\toll_optimization\\case_studies\\debug.ipynb Cell 5\u001b[0m in \u001b[0;36m1\n\u001b[0;32m     <a href='vscode-notebook-cell:/c%3A/Users/anton/IP2/toll_optimization/case_studies/debug.ipynb#W4sZmlsZQ%3D%3D?line=9'>10</a>\u001b[0m toll_object \u001b[39m=\u001b[39m create_toll_object(g, toll_method, toll_link_ids, toll_value)\n\u001b[0;32m     <a href='vscode-notebook-cell:/c%3A/Users/anton/IP2/toll_optimization/case_studies/debug.ipynb#W4sZmlsZQ%3D%3D?line=10'>11</a>\u001b[0m assignment \u001b[39m=\u001b[39m StaticAssignment(g, original_od_graph, toll_object)\n\u001b[1;32m---> <a href='vscode-notebook-cell:/c%3A/Users/anton/IP2/toll_optimization/case_studies/debug.ipynb#W4sZmlsZQ%3D%3D?line=11'>12</a>\u001b[0m result \u001b[39m=\u001b[39m assignment\u001b[39m.\u001b[39mrun(\u001b[39m'\u001b[39m\u001b[39mdial_b\u001b[39m\u001b[39m'\u001b[39m)\n",
      "File \u001b[1;32mc:\\Users\\anton\\IP2\\toll_optimization\\case_studies\\../..\\dyntapy\\assignments.py:300\u001b[0m, in \u001b[0;36mStaticAssignment.run\u001b[1;34m(self, method, store_iterations, **kwargs)\u001b[0m\n\u001b[0;32m    297\u001b[0m \u001b[39m# assignment needs to return at least link_cost and flows, ideally also\u001b[39;00m\n\u001b[0;32m    298\u001b[0m \u001b[39m# multi-commodity (origin, destination or origin-destination)\u001b[39;00m\n\u001b[0;32m    299\u001b[0m \u001b[39mif\u001b[39;00m method \u001b[39m==\u001b[39m \u001b[39m\"\u001b[39m\u001b[39mdial_b\u001b[39m\u001b[39m\"\u001b[39m:\n\u001b[1;32m--> 300\u001b[0m     costs, origin_flows, gap_definition, gap \u001b[39m=\u001b[39m dial_b(\n\u001b[0;32m    301\u001b[0m         \u001b[39mself\u001b[39;49m\u001b[39m.\u001b[39;49minternal_network, \u001b[39mself\u001b[39;49m\u001b[39m.\u001b[39;49minternal_demand, store_iterations, \u001b[39mself\u001b[39;49m\u001b[39m.\u001b[39;49mtolls\n\u001b[0;32m    302\u001b[0m     )\n\u001b[0;32m    303\u001b[0m     flows \u001b[39m=\u001b[39m np\u001b[39m.\u001b[39msum(origin_flows, axis\u001b[39m=\u001b[39m\u001b[39m0\u001b[39m)\n\u001b[0;32m    304\u001b[0m     result \u001b[39m=\u001b[39m StaticResult(\n\u001b[0;32m    305\u001b[0m         costs,\n\u001b[0;32m    306\u001b[0m         flows,\n\u001b[1;32m   (...)\u001b[0m\n\u001b[0;32m    312\u001b[0m         origin_flows\u001b[39m=\u001b[39morigin_flows,\n\u001b[0;32m    313\u001b[0m     )\n",
      "File \u001b[1;32mc:\\Users\\anton\\IP2\\toll_optimization\\case_studies\\../..\\dyntapy\\sta\\equilibrate_bush.py:220\u001b[0m, in \u001b[0;36m__get_delta_flow_and_cost\u001b[1;34m()\u001b[0m\n\u001b[0;32m    218\u001b[0m \u001b[39melse\u001b[39;00m:\n\u001b[0;32m    219\u001b[0m     delta_f \u001b[39m=\u001b[39m \u001b[39m-\u001b[39mmin_path_flow\n\u001b[1;32m--> 220\u001b[0m \u001b[39massert\u001b[39;00m min_path_flow \u001b[39m>\u001b[39m\u001b[39m=\u001b[39m \u001b[39m0\u001b[39m\n\u001b[0;32m    221\u001b[0m \u001b[39mif\u001b[39;00m (max_path_derivative \u001b[39m+\u001b[39m min_path_derivative) \u001b[39m<\u001b[39m\u001b[39m=\u001b[39m \u001b[39m0\u001b[39m:\n\u001b[0;32m    222\u001b[0m     \u001b[39mif\u001b[39;00m min_path_cost \u001b[39m<\u001b[39m max_path_cost:\n",
      "\u001b[1;31mAssertionError\u001b[0m: "
     ]
    }
   ],
   "source": [
    "toll_method = 'cordon'\n",
    "toll_value = 0.05\n",
    "\n",
    "# Load links for cordon outside ring of Brussels. \n",
    "links_path = \"C:/Users/anton/IP2/toll_optimization/data_map/QGIS/ring_cordon/links_crossing_cordon.shp\"\n",
    "links_crossing_cordon = gpd.read_file(links_path)\n",
    "toll_link_ids = [toll_id for toll_id in links_crossing_cordon['link_id']]\n",
    "\n",
    "# Test STA on our cordon tolling scheme fails... \n",
    "toll_object = create_toll_object(g, toll_method, toll_link_ids, toll_value)\n",
    "assignment = StaticAssignment(g, original_od_graph, toll_object)\n",
    "result = assignment.run('dial_b')"
   ]
  },
  {
   "attachments": {},
   "cell_type": "markdown",
   "metadata": {},
   "source": [
    "Opmerking voor structuur: we wisten van toy case dat een zone of cordon van 2 links gewoon werkt naar behoren\n",
    "We wisten ook dat een single toll prima werkt op brussels, echter cordon van 150 links ofzo werkt niet\n",
    "Vraag is dan waar de overgang is van werken naar niet werken, daarom dat we onze toll links verkleinen. "
   ]
  },
  {
   "attachments": {},
   "cell_type": "markdown",
   "metadata": {},
   "source": [
    "-----\n",
    "    SECOND ATTEMPT: TOLLING BASED ON THE DEFINED PENTAGON CORDON\n",
    "\n",
    "TODO: figuur opslaan van dit cordon voor referentie (idealiter staat die figuur ook in verslag dus gwn ergens toevoegen hier)"
   ]
  },
  {
   "cell_type": "code",
   "execution_count": 3,
   "metadata": {},
   "outputs": [
    {
     "name": "stdout",
     "output_type": "stream",
     "text": [
      "init passed successfully\n",
      "initial loading starts \n"
     ]
    },
    {
     "ename": "AssertionError",
     "evalue": "",
     "output_type": "error",
     "traceback": [
      "\u001b[1;31m---------------------------------------------------------------------------\u001b[0m",
      "\u001b[1;31mAssertionError\u001b[0m                            Traceback (most recent call last)",
      "\u001b[1;32mc:\\Users\\anton\\IP2\\toll_optimization\\case_studies\\debug.ipynb Cell 9\u001b[0m in \u001b[0;36m1\n\u001b[0;32m     <a href='vscode-notebook-cell:/c%3A/Users/anton/IP2/toll_optimization/case_studies/debug.ipynb#X10sZmlsZQ%3D%3D?line=9'>10</a>\u001b[0m toll_object \u001b[39m=\u001b[39m create_toll_object(g, toll_method, toll_link_ids, toll_value)\n\u001b[0;32m     <a href='vscode-notebook-cell:/c%3A/Users/anton/IP2/toll_optimization/case_studies/debug.ipynb#X10sZmlsZQ%3D%3D?line=10'>11</a>\u001b[0m assignment \u001b[39m=\u001b[39m StaticAssignment(g, original_od_graph, toll_object)\n\u001b[1;32m---> <a href='vscode-notebook-cell:/c%3A/Users/anton/IP2/toll_optimization/case_studies/debug.ipynb#X10sZmlsZQ%3D%3D?line=11'>12</a>\u001b[0m result \u001b[39m=\u001b[39m assignment\u001b[39m.\u001b[39mrun(\u001b[39m'\u001b[39m\u001b[39mdial_b\u001b[39m\u001b[39m'\u001b[39m)\n",
      "File \u001b[1;32mc:\\Users\\anton\\IP2\\toll_optimization\\case_studies\\../..\\dyntapy\\assignments.py:300\u001b[0m, in \u001b[0;36mStaticAssignment.run\u001b[1;34m(self, method, store_iterations, **kwargs)\u001b[0m\n\u001b[0;32m    297\u001b[0m \u001b[39m# assignment needs to return at least link_cost and flows, ideally also\u001b[39;00m\n\u001b[0;32m    298\u001b[0m \u001b[39m# multi-commodity (origin, destination or origin-destination)\u001b[39;00m\n\u001b[0;32m    299\u001b[0m \u001b[39mif\u001b[39;00m method \u001b[39m==\u001b[39m \u001b[39m\"\u001b[39m\u001b[39mdial_b\u001b[39m\u001b[39m\"\u001b[39m:\n\u001b[1;32m--> 300\u001b[0m     costs, origin_flows, gap_definition, gap \u001b[39m=\u001b[39m dial_b(\n\u001b[0;32m    301\u001b[0m         \u001b[39mself\u001b[39;49m\u001b[39m.\u001b[39;49minternal_network, \u001b[39mself\u001b[39;49m\u001b[39m.\u001b[39;49minternal_demand, store_iterations, \u001b[39mself\u001b[39;49m\u001b[39m.\u001b[39;49mtolls\n\u001b[0;32m    302\u001b[0m     )\n\u001b[0;32m    303\u001b[0m     flows \u001b[39m=\u001b[39m np\u001b[39m.\u001b[39msum(origin_flows, axis\u001b[39m=\u001b[39m\u001b[39m0\u001b[39m)\n\u001b[0;32m    304\u001b[0m     result \u001b[39m=\u001b[39m StaticResult(\n\u001b[0;32m    305\u001b[0m         costs,\n\u001b[0;32m    306\u001b[0m         flows,\n\u001b[1;32m   (...)\u001b[0m\n\u001b[0;32m    312\u001b[0m         origin_flows\u001b[39m=\u001b[39morigin_flows,\n\u001b[0;32m    313\u001b[0m     )\n",
      "File \u001b[1;32mc:\\Users\\anton\\IP2\\toll_optimization\\case_studies\\../..\\dyntapy\\sta\\equilibrate_bush.py:220\u001b[0m, in \u001b[0;36m__get_delta_flow_and_cost\u001b[1;34m()\u001b[0m\n\u001b[0;32m    218\u001b[0m \u001b[39melse\u001b[39;00m:\n\u001b[0;32m    219\u001b[0m     delta_f \u001b[39m=\u001b[39m \u001b[39m-\u001b[39mmin_path_flow\n\u001b[1;32m--> 220\u001b[0m \u001b[39massert\u001b[39;00m min_path_flow \u001b[39m>\u001b[39m\u001b[39m=\u001b[39m \u001b[39m0\u001b[39m\n\u001b[0;32m    221\u001b[0m \u001b[39mif\u001b[39;00m (max_path_derivative \u001b[39m+\u001b[39m min_path_derivative) \u001b[39m<\u001b[39m\u001b[39m=\u001b[39m \u001b[39m0\u001b[39m:\n\u001b[0;32m    222\u001b[0m     \u001b[39mif\u001b[39;00m min_path_cost \u001b[39m<\u001b[39m max_path_cost:\n",
      "\u001b[1;31mAssertionError\u001b[0m: "
     ]
    }
   ],
   "source": [
    "toll_method = 'cordon'\n",
    "toll_value = 0.05\n",
    "\n",
    "# Load links for pentagon defined cordon. \n",
    "links_path = \"C:/Users/anton/IP2/toll_optimization/data_map/QGIS/pentagon/links_crossing_pentagon.shp\"\n",
    "links_crossing_cordon = gpd.read_file(links_path)\n",
    "toll_link_ids = [toll_id for toll_id in links_crossing_cordon['link_id']]\n",
    "\n",
    "# Test STA on this tolling scheme also fails... \n",
    "toll_object = create_toll_object(g, toll_method, toll_link_ids, toll_value)\n",
    "assignment = StaticAssignment(g, original_od_graph, toll_object)\n",
    "result = assignment.run('dial_b')"
   ]
  },
  {
   "attachments": {},
   "cell_type": "markdown",
   "metadata": {},
   "source": [
    "Go even smaller, besproken met gaurav om manueel wat links te proberen"
   ]
  },
  {
   "attachments": {},
   "cell_type": "markdown",
   "metadata": {},
   "source": [
    "------\n",
    "    THIRD ATTEMPT: TOLLING THE E19 AND E40 JUNCTIONS TO THE RING OF BRUSSELS\n",
    "\n",
    "TODO: figuur van dit geval (idealiter staat die figuur ook in verslag dus gwn ergens toevoegen hier)"
   ]
  },
  {
   "cell_type": "code",
   "execution_count": 4,
   "metadata": {},
   "outputs": [
    {
     "name": "stdout",
     "output_type": "stream",
     "text": [
      "init passed successfully\n",
      "initial loading starts \n"
     ]
    },
    {
     "ename": "AssertionError",
     "evalue": "",
     "output_type": "error",
     "traceback": [
      "\u001b[1;31m---------------------------------------------------------------------------\u001b[0m",
      "\u001b[1;31mAssertionError\u001b[0m                            Traceback (most recent call last)",
      "\u001b[1;32mc:\\Users\\anton\\IP2\\toll_optimization\\case_studies\\debug.ipynb Cell 11\u001b[0m in \u001b[0;36m8\n\u001b[0;32m      <a href='vscode-notebook-cell:/c%3A/Users/anton/IP2/toll_optimization/case_studies/debug.ipynb#X12sZmlsZQ%3D%3D?line=5'>6</a>\u001b[0m toll_object \u001b[39m=\u001b[39m create_toll_object(g, toll_method, toll_link_ids, toll_value)\n\u001b[0;32m      <a href='vscode-notebook-cell:/c%3A/Users/anton/IP2/toll_optimization/case_studies/debug.ipynb#X12sZmlsZQ%3D%3D?line=6'>7</a>\u001b[0m assignment \u001b[39m=\u001b[39m StaticAssignment(g, original_od_graph, toll_object)\n\u001b[1;32m----> <a href='vscode-notebook-cell:/c%3A/Users/anton/IP2/toll_optimization/case_studies/debug.ipynb#X12sZmlsZQ%3D%3D?line=7'>8</a>\u001b[0m result \u001b[39m=\u001b[39m assignment\u001b[39m.\u001b[39mrun(\u001b[39m'\u001b[39m\u001b[39mdial_b\u001b[39m\u001b[39m'\u001b[39m)\n",
      "File \u001b[1;32mc:\\Users\\anton\\IP2\\toll_optimization\\case_studies\\../..\\dyntapy\\assignments.py:300\u001b[0m, in \u001b[0;36mStaticAssignment.run\u001b[1;34m(self, method, store_iterations, **kwargs)\u001b[0m\n\u001b[0;32m    297\u001b[0m \u001b[39m# assignment needs to return at least link_cost and flows, ideally also\u001b[39;00m\n\u001b[0;32m    298\u001b[0m \u001b[39m# multi-commodity (origin, destination or origin-destination)\u001b[39;00m\n\u001b[0;32m    299\u001b[0m \u001b[39mif\u001b[39;00m method \u001b[39m==\u001b[39m \u001b[39m\"\u001b[39m\u001b[39mdial_b\u001b[39m\u001b[39m\"\u001b[39m:\n\u001b[1;32m--> 300\u001b[0m     costs, origin_flows, gap_definition, gap \u001b[39m=\u001b[39m dial_b(\n\u001b[0;32m    301\u001b[0m         \u001b[39mself\u001b[39;49m\u001b[39m.\u001b[39;49minternal_network, \u001b[39mself\u001b[39;49m\u001b[39m.\u001b[39;49minternal_demand, store_iterations, \u001b[39mself\u001b[39;49m\u001b[39m.\u001b[39;49mtolls\n\u001b[0;32m    302\u001b[0m     )\n\u001b[0;32m    303\u001b[0m     flows \u001b[39m=\u001b[39m np\u001b[39m.\u001b[39msum(origin_flows, axis\u001b[39m=\u001b[39m\u001b[39m0\u001b[39m)\n\u001b[0;32m    304\u001b[0m     result \u001b[39m=\u001b[39m StaticResult(\n\u001b[0;32m    305\u001b[0m         costs,\n\u001b[0;32m    306\u001b[0m         flows,\n\u001b[1;32m   (...)\u001b[0m\n\u001b[0;32m    312\u001b[0m         origin_flows\u001b[39m=\u001b[39morigin_flows,\n\u001b[0;32m    313\u001b[0m     )\n",
      "File \u001b[1;32mc:\\Users\\anton\\IP2\\toll_optimization\\case_studies\\../..\\dyntapy\\sta\\equilibrate_bush.py:220\u001b[0m, in \u001b[0;36m__get_delta_flow_and_cost\u001b[1;34m()\u001b[0m\n\u001b[0;32m    218\u001b[0m \u001b[39melse\u001b[39;00m:\n\u001b[0;32m    219\u001b[0m     delta_f \u001b[39m=\u001b[39m \u001b[39m-\u001b[39mmin_path_flow\n\u001b[1;32m--> 220\u001b[0m \u001b[39massert\u001b[39;00m min_path_flow \u001b[39m>\u001b[39m\u001b[39m=\u001b[39m \u001b[39m0\u001b[39m\n\u001b[0;32m    221\u001b[0m \u001b[39mif\u001b[39;00m (max_path_derivative \u001b[39m+\u001b[39m min_path_derivative) \u001b[39m<\u001b[39m\u001b[39m=\u001b[39m \u001b[39m0\u001b[39m:\n\u001b[0;32m    222\u001b[0m     \u001b[39mif\u001b[39;00m min_path_cost \u001b[39m<\u001b[39m max_path_cost:\n",
      "\u001b[1;31mAssertionError\u001b[0m: "
     ]
    }
   ],
   "source": [
    "toll_method = 'cordon'\n",
    "toll_value = 0.05\n",
    "toll_link_ids = [642, 654, 760, 939, 1347, 1354, 1367, 2970, 6355, 6724, 10692, 10693, 15600, 15845, 15848]\n",
    "\n",
    "# Test STA on this tolling scheme also fails... \n",
    "toll_object = create_toll_object(g, toll_method, toll_link_ids, toll_value)\n",
    "assignment = StaticAssignment(g, original_od_graph, toll_object)\n",
    "result = assignment.run('dial_b')"
   ]
  },
  {
   "attachments": {},
   "cell_type": "markdown",
   "metadata": {},
   "source": [
    "Nog steeds zelfde error. nog minder links"
   ]
  },
  {
   "attachments": {},
   "cell_type": "markdown",
   "metadata": {},
   "source": [
    "-----\n",
    "    FOURTH ATTEMPT: TOLLING THE E19 JUNCTION TO THE RING OF BRUSSELS\n",
    "\n",
    "TODO: figuur opslaan van dit cordon voor referentie (idealiter staat die figuur ook in verslag dus gwn ergens toevoegen hier)"
   ]
  },
  {
   "cell_type": "code",
   "execution_count": 5,
   "metadata": {},
   "outputs": [],
   "source": [
    "toll_method = 'cordon'\n",
    "toll_value = 0.05\n",
    "toll_link_ids = [939, 1347, 2970, 6355, 6724, 15600]\n",
    "\n",
    "# Test STA on this tolling scheme also fails... \n",
    "toll_object = create_toll_object(g, toll_method, toll_link_ids, toll_value)\n",
    "assignment = StaticAssignment(g, original_od_graph, toll_object)\n",
    "result = assignment.run('dial_b')"
   ]
  },
  {
   "attachments": {},
   "cell_type": "markdown",
   "metadata": {},
   "source": [
    "To cover: \n",
    "- STA zonder toll\n",
    "- STA met toll\n",
    "- network check\n",
    "- vergelijken flow en cost + waar wordt de toll op gezet (van links)"
   ]
  },
  {
   "attachments": {},
   "cell_type": "markdown",
   "metadata": {},
   "source": [
    "print(np.max(abs(new_od)))\n",
    "\n",
    "print(np.max(abs(old_od)))\n",
    "\n",
    "print(np.max(abs((new_od - old_od))))\n",
    "\n",
    "print(abs((np.linalg.norm(new_od) - np.linalg.norm(old_od))/np.linalg.norm(old_od)))"
   ]
  },
  {
   "cell_type": "code",
   "execution_count": null,
   "metadata": {},
   "outputs": [],
   "source": [
    "# TODO: both for regular STA as STA with toll needed here. \n",
    "flow_results = result.flows\n",
    "for id in toll_link_ids:\n",
    "    print(id, \"_\", flow_results[id])\n",
    "\n",
    "cost_results = result.link_costs\n",
    "for id in toll_link_ids:\n",
    "    print(id, \"_\", cost_results[id])\n",
    "\n",
    "t = 0\n",
    "for id in range(len(cost_results)):\n",
    "    if cost_results[id] > 0.1:\n",
    "        print(id)\n",
    "        t += 1\n",
    "print(t)\n"
   ]
  }
 ],
 "metadata": {
  "kernelspec": {
   "display_name": "dyntapyIP2",
   "language": "python",
   "name": "python3"
  },
  "language_info": {
   "codemirror_mode": {
    "name": "ipython",
    "version": 3
   },
   "file_extension": ".py",
   "mimetype": "text/x-python",
   "name": "python",
   "nbconvert_exporter": "python",
   "pygments_lexer": "ipython3",
   "version": "3.9.13"
  },
  "orig_nbformat": 4
 },
 "nbformat": 4,
 "nbformat_minor": 2
}
