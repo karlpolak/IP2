{
 "cells": [
  {
   "attachments": {},
   "cell_type": "markdown",
   "metadata": {},
   "source": [
    "    This file more or less describes the timeline of problems that we experienced in our case study attempts. \n",
    "    To easily show these problems, all errors are printed and explained in this notebook. \n",
    "\n",
    "    The first cell block imports all packages and files that are required through all attempts. "
   ]
  },
  {
   "cell_type": "code",
   "execution_count": 1,
   "metadata": {},
   "outputs": [],
   "source": [
    "import sys\n",
    "sys.path.append(\"../..\")\n",
    "import numpy as np\n",
    "import pandas as pd\n",
    "import geopandas as gpd\n",
    "from dyntapy.assignments import StaticAssignment\n",
    "from dyntapy.toll import create_toll_object\n",
    "from dyntapy.demand_data import od_graph_from_matrix\n",
    "from pickle import load \n",
    "import warnings\n",
    "warnings.filterwarnings('ignore') # hide warnings\n",
    "\n",
    "network_path = \"C:/Users/anton/IP2/toll_optimization/data_map/HEEDS_input/network_with_centroids/elastic_BRUSSEL_40\"\n",
    "od_path = \"C:/Users/anton/IP2/toll_optimization/data_map/HEEDS_input/od_graph/elastic_BRUSSEL_40.xlsx\"\n",
    "A_matrix_path = \"C:/Users/anton/IP2/toll_optimization/data_map/HEEDS_input/elastic/A_matrix_BRUSSEL_40\"\n",
    "B_matrix_path = \"C:/Users/anton/IP2/toll_optimization/data_map/HEEDS_input/elastic/B_matrix_BRUSSEL_40\"\n",
    "x_centroids_path = \"C:/Users/anton/IP2/toll_optimization/data_map/HEEDS_input/elastic/x_centroids_BRUSSEL_40\"\n",
    "y_centroids_path = \"C:/Users/anton/IP2/toll_optimization/data_map/HEEDS_input/elastic/y_centroids_BRUSSEL_40\"\n",
    "\n",
    "with open(network_path, 'rb') as network_file:\n",
    "    g = load(network_file)\n",
    "with open(A_matrix_path, 'rb') as matrix:\n",
    "    A = load(matrix)\n",
    "with open(B_matrix_path, 'rb') as matrix:\n",
    "    B = load(matrix)\n",
    "old_od = pd.read_excel(od_path)\n",
    "old_od = old_od.to_numpy()\n",
    "x_centroids = np.loadtxt(x_centroids_path)\n",
    "y_centroids = np.loadtxt(y_centroids_path)\n",
    "original_od_graph = od_graph_from_matrix(old_od,x_centroids,y_centroids) "
   ]
  },
  {
   "attachments": {},
   "cell_type": "markdown",
   "metadata": {},
   "source": [
    "-----\n",
    "    FIRST ATTEMPT: TOLLING BASED ON OUR DEFINED CORDON OUTSIDE RING OF BRUSSELS\n",
    "\n",
    "    The ring cordon that we defined consists of 115 links, which are shown in data_map/images/ring_cordon.png. The links highlighted in red are the links that will be tolled. \n",
    "\n",
    "    Running an STA on this cordon fails quickly. Further discussed below the cell block."
   ]
  },
  {
   "cell_type": "code",
   "execution_count": 2,
   "metadata": {},
   "outputs": [
    {
     "name": "stdout",
     "output_type": "stream",
     "text": [
      "init passed successfully\n",
      "initial loading starts \n"
     ]
    },
    {
     "ename": "AssertionError",
     "evalue": "",
     "output_type": "error",
     "traceback": [
      "\u001b[1;31m---------------------------------------------------------------------------\u001b[0m",
      "\u001b[1;31mAssertionError\u001b[0m                            Traceback (most recent call last)",
      "\u001b[1;32mc:\\Users\\anton\\IP2\\toll_optimization\\case_studies\\debug.ipynb Cell 5\u001b[0m in \u001b[0;36m1\n\u001b[0;32m     <a href='vscode-notebook-cell:/c%3A/Users/anton/IP2/toll_optimization/case_studies/debug.ipynb#W4sZmlsZQ%3D%3D?line=9'>10</a>\u001b[0m toll_object \u001b[39m=\u001b[39m create_toll_object(g, toll_method, toll_link_ids, toll_value)\n\u001b[0;32m     <a href='vscode-notebook-cell:/c%3A/Users/anton/IP2/toll_optimization/case_studies/debug.ipynb#W4sZmlsZQ%3D%3D?line=10'>11</a>\u001b[0m assignment \u001b[39m=\u001b[39m StaticAssignment(g, original_od_graph, toll_object)\n\u001b[1;32m---> <a href='vscode-notebook-cell:/c%3A/Users/anton/IP2/toll_optimization/case_studies/debug.ipynb#W4sZmlsZQ%3D%3D?line=11'>12</a>\u001b[0m result \u001b[39m=\u001b[39m assignment\u001b[39m.\u001b[39mrun(\u001b[39m'\u001b[39m\u001b[39mdial_b\u001b[39m\u001b[39m'\u001b[39m)\n",
      "File \u001b[1;32mc:\\Users\\anton\\IP2\\toll_optimization\\case_studies\\../..\\dyntapy\\assignments.py:300\u001b[0m, in \u001b[0;36mStaticAssignment.run\u001b[1;34m(self, method, store_iterations, **kwargs)\u001b[0m\n\u001b[0;32m    297\u001b[0m \u001b[39m# assignment needs to return at least link_cost and flows, ideally also\u001b[39;00m\n\u001b[0;32m    298\u001b[0m \u001b[39m# multi-commodity (origin, destination or origin-destination)\u001b[39;00m\n\u001b[0;32m    299\u001b[0m \u001b[39mif\u001b[39;00m method \u001b[39m==\u001b[39m \u001b[39m\"\u001b[39m\u001b[39mdial_b\u001b[39m\u001b[39m\"\u001b[39m:\n\u001b[1;32m--> 300\u001b[0m     costs, origin_flows, gap_definition, gap \u001b[39m=\u001b[39m dial_b(\n\u001b[0;32m    301\u001b[0m         \u001b[39mself\u001b[39;49m\u001b[39m.\u001b[39;49minternal_network, \u001b[39mself\u001b[39;49m\u001b[39m.\u001b[39;49minternal_demand, store_iterations, \u001b[39mself\u001b[39;49m\u001b[39m.\u001b[39;49mtolls\n\u001b[0;32m    302\u001b[0m     )\n\u001b[0;32m    303\u001b[0m     flows \u001b[39m=\u001b[39m np\u001b[39m.\u001b[39msum(origin_flows, axis\u001b[39m=\u001b[39m\u001b[39m0\u001b[39m)\n\u001b[0;32m    304\u001b[0m     result \u001b[39m=\u001b[39m StaticResult(\n\u001b[0;32m    305\u001b[0m         costs,\n\u001b[0;32m    306\u001b[0m         flows,\n\u001b[1;32m   (...)\u001b[0m\n\u001b[0;32m    312\u001b[0m         origin_flows\u001b[39m=\u001b[39morigin_flows,\n\u001b[0;32m    313\u001b[0m     )\n",
      "File \u001b[1;32mc:\\Users\\anton\\IP2\\toll_optimization\\case_studies\\../..\\dyntapy\\sta\\equilibrate_bush.py:220\u001b[0m, in \u001b[0;36m__get_delta_flow_and_cost\u001b[1;34m()\u001b[0m\n\u001b[0;32m    218\u001b[0m \u001b[39melse\u001b[39;00m:\n\u001b[0;32m    219\u001b[0m     delta_f \u001b[39m=\u001b[39m \u001b[39m-\u001b[39mmin_path_flow\n\u001b[1;32m--> 220\u001b[0m \u001b[39massert\u001b[39;00m min_path_flow \u001b[39m>\u001b[39m\u001b[39m=\u001b[39m \u001b[39m0\u001b[39m\n\u001b[0;32m    221\u001b[0m \u001b[39mif\u001b[39;00m (max_path_derivative \u001b[39m+\u001b[39m min_path_derivative) \u001b[39m<\u001b[39m\u001b[39m=\u001b[39m \u001b[39m0\u001b[39m:\n\u001b[0;32m    222\u001b[0m     \u001b[39mif\u001b[39;00m min_path_cost \u001b[39m<\u001b[39m max_path_cost:\n",
      "\u001b[1;31mAssertionError\u001b[0m: "
     ]
    }
   ],
   "source": [
    "toll_method = 'cordon'\n",
    "toll_value = 0.05\n",
    "\n",
    "# Load links for cordon outside ring of Brussels. \n",
    "links_path = \"C:/Users/anton/IP2/toll_optimization/data_map/QGIS/ring_cordon/links_crossing_cordon.shp\"\n",
    "links_crossing_cordon = gpd.read_file(links_path)\n",
    "toll_link_ids = [toll_id for toll_id in links_crossing_cordon['link_id']]\n",
    "\n",
    "toll_object = create_toll_object(g, toll_method, toll_link_ids, toll_value)\n",
    "assignment = StaticAssignment(g, original_od_graph, toll_object)\n",
    "result = assignment.run('dial_b')"
   ]
  },
  {
   "attachments": {},
   "cell_type": "markdown",
   "metadata": {},
   "source": [
    "As you can see in the printed assertion error above, there is, at some point in the dial-b algorithm, a minimum path flow that is negative. We don't know what is causing this, nor what we can do about it. It's complicated for us to diagnose why this is happening, because in the first dial-b iterations nothing is wrong. Furthermore, it's not the easiest piece of code for us to understand, as it's quite complex. \n",
    "\n",
    "Nevertheless, we do know that that tolling a single link in the Brussels network did not cause any errors. We also know that tolling multiple links in the toy networks did not cause errors either (see elastic_toy_STA.ipynb). So it is possible to toll multiple links, however it fails for our cordon of 115 links. \n",
    "\n",
    "As we did not know what was causing the problem, it was not possible for us to resolve it and continue working with this defined cordon. We also don't know what the tipping point is to cause the errors (small number of links works, large number does not). Therefore, we decided to try a case study on a smaller cordon. (from 115 links to 48, see next attempt)"
   ]
  },
  {
   "attachments": {},
   "cell_type": "markdown",
   "metadata": {},
   "source": [
    "-----\n",
    "    SECOND ATTEMPT: TOLLING BASED ON THE DEFINED PENTAGON CORDON\n",
    "\n",
    "    The pentagon cordon that we defined consists of 48 links, which is shown in data_map/images/pentagon_cordon.png. The links highlighted in red are the links that will be tolled. "
   ]
  },
  {
   "cell_type": "code",
   "execution_count": 3,
   "metadata": {},
   "outputs": [
    {
     "name": "stdout",
     "output_type": "stream",
     "text": [
      "init passed successfully\n",
      "initial loading starts \n"
     ]
    },
    {
     "ename": "AssertionError",
     "evalue": "",
     "output_type": "error",
     "traceback": [
      "\u001b[1;31m---------------------------------------------------------------------------\u001b[0m",
      "\u001b[1;31mAssertionError\u001b[0m                            Traceback (most recent call last)",
      "\u001b[1;32mc:\\Users\\anton\\IP2\\toll_optimization\\case_studies\\debug.ipynb Cell 9\u001b[0m in \u001b[0;36m1\n\u001b[0;32m     <a href='vscode-notebook-cell:/c%3A/Users/anton/IP2/toll_optimization/case_studies/debug.ipynb#X10sZmlsZQ%3D%3D?line=9'>10</a>\u001b[0m toll_object \u001b[39m=\u001b[39m create_toll_object(g, toll_method, toll_link_ids, toll_value)\n\u001b[0;32m     <a href='vscode-notebook-cell:/c%3A/Users/anton/IP2/toll_optimization/case_studies/debug.ipynb#X10sZmlsZQ%3D%3D?line=10'>11</a>\u001b[0m assignment \u001b[39m=\u001b[39m StaticAssignment(g, original_od_graph, toll_object)\n\u001b[1;32m---> <a href='vscode-notebook-cell:/c%3A/Users/anton/IP2/toll_optimization/case_studies/debug.ipynb#X10sZmlsZQ%3D%3D?line=11'>12</a>\u001b[0m result \u001b[39m=\u001b[39m assignment\u001b[39m.\u001b[39mrun(\u001b[39m'\u001b[39m\u001b[39mdial_b\u001b[39m\u001b[39m'\u001b[39m)\n",
      "File \u001b[1;32mc:\\Users\\anton\\IP2\\toll_optimization\\case_studies\\../..\\dyntapy\\assignments.py:300\u001b[0m, in \u001b[0;36mStaticAssignment.run\u001b[1;34m(self, method, store_iterations, **kwargs)\u001b[0m\n\u001b[0;32m    297\u001b[0m \u001b[39m# assignment needs to return at least link_cost and flows, ideally also\u001b[39;00m\n\u001b[0;32m    298\u001b[0m \u001b[39m# multi-commodity (origin, destination or origin-destination)\u001b[39;00m\n\u001b[0;32m    299\u001b[0m \u001b[39mif\u001b[39;00m method \u001b[39m==\u001b[39m \u001b[39m\"\u001b[39m\u001b[39mdial_b\u001b[39m\u001b[39m\"\u001b[39m:\n\u001b[1;32m--> 300\u001b[0m     costs, origin_flows, gap_definition, gap \u001b[39m=\u001b[39m dial_b(\n\u001b[0;32m    301\u001b[0m         \u001b[39mself\u001b[39;49m\u001b[39m.\u001b[39;49minternal_network, \u001b[39mself\u001b[39;49m\u001b[39m.\u001b[39;49minternal_demand, store_iterations, \u001b[39mself\u001b[39;49m\u001b[39m.\u001b[39;49mtolls\n\u001b[0;32m    302\u001b[0m     )\n\u001b[0;32m    303\u001b[0m     flows \u001b[39m=\u001b[39m np\u001b[39m.\u001b[39msum(origin_flows, axis\u001b[39m=\u001b[39m\u001b[39m0\u001b[39m)\n\u001b[0;32m    304\u001b[0m     result \u001b[39m=\u001b[39m StaticResult(\n\u001b[0;32m    305\u001b[0m         costs,\n\u001b[0;32m    306\u001b[0m         flows,\n\u001b[1;32m   (...)\u001b[0m\n\u001b[0;32m    312\u001b[0m         origin_flows\u001b[39m=\u001b[39morigin_flows,\n\u001b[0;32m    313\u001b[0m     )\n",
      "File \u001b[1;32mc:\\Users\\anton\\IP2\\toll_optimization\\case_studies\\../..\\dyntapy\\sta\\equilibrate_bush.py:220\u001b[0m, in \u001b[0;36m__get_delta_flow_and_cost\u001b[1;34m()\u001b[0m\n\u001b[0;32m    218\u001b[0m \u001b[39melse\u001b[39;00m:\n\u001b[0;32m    219\u001b[0m     delta_f \u001b[39m=\u001b[39m \u001b[39m-\u001b[39mmin_path_flow\n\u001b[1;32m--> 220\u001b[0m \u001b[39massert\u001b[39;00m min_path_flow \u001b[39m>\u001b[39m\u001b[39m=\u001b[39m \u001b[39m0\u001b[39m\n\u001b[0;32m    221\u001b[0m \u001b[39mif\u001b[39;00m (max_path_derivative \u001b[39m+\u001b[39m min_path_derivative) \u001b[39m<\u001b[39m\u001b[39m=\u001b[39m \u001b[39m0\u001b[39m:\n\u001b[0;32m    222\u001b[0m     \u001b[39mif\u001b[39;00m min_path_cost \u001b[39m<\u001b[39m max_path_cost:\n",
      "\u001b[1;31mAssertionError\u001b[0m: "
     ]
    }
   ],
   "source": [
    "toll_method = 'cordon'\n",
    "toll_value = 0.05\n",
    "\n",
    "# Load links for pentagon defined cordon. \n",
    "links_path = \"C:/Users/anton/IP2/toll_optimization/data_map/QGIS/pentagon/links_crossing_pentagon.shp\"\n",
    "links_crossing_cordon = gpd.read_file(links_path)\n",
    "toll_link_ids = [toll_id for toll_id in links_crossing_cordon['link_id']]\n",
    "\n",
    "toll_object = create_toll_object(g, toll_method, toll_link_ids, toll_value)\n",
    "assignment = StaticAssignment(g, original_od_graph, toll_object)\n",
    "result = assignment.run('dial_b')"
   ]
  },
  {
   "attachments": {},
   "cell_type": "markdown",
   "metadata": {},
   "source": [
    "As you can see, the same assertion error occurs for a cordon with only 48 links. At this point, it was decided together with the assistant to limit our case study to a case where we would manually select a couple of links. This brings us to attempt 3, where we manually selected some links which would still make sense to toll."
   ]
  },
  {
   "attachments": {},
   "cell_type": "markdown",
   "metadata": {},
   "source": [
    "------\n",
    "    THIRD ATTEMPT: TOLLING THE E19- AND E40-JUNCTION TO THE RING OF BRUSSELS\n",
    "\n",
    "    We selected 15 links related to the E19- and E40-junction to toll. These are shown in red in data_map/images/E19_and_E40_junctions.png."
   ]
  },
  {
   "cell_type": "code",
   "execution_count": 4,
   "metadata": {},
   "outputs": [
    {
     "name": "stdout",
     "output_type": "stream",
     "text": [
      "init passed successfully\n",
      "initial loading starts \n"
     ]
    },
    {
     "ename": "AssertionError",
     "evalue": "",
     "output_type": "error",
     "traceback": [
      "\u001b[1;31m---------------------------------------------------------------------------\u001b[0m",
      "\u001b[1;31mAssertionError\u001b[0m                            Traceback (most recent call last)",
      "\u001b[1;32mc:\\Users\\anton\\IP2\\toll_optimization\\case_studies\\debug.ipynb Cell 11\u001b[0m in \u001b[0;36m8\n\u001b[0;32m      <a href='vscode-notebook-cell:/c%3A/Users/anton/IP2/toll_optimization/case_studies/debug.ipynb#X12sZmlsZQ%3D%3D?line=5'>6</a>\u001b[0m toll_object \u001b[39m=\u001b[39m create_toll_object(g, toll_method, toll_link_ids, toll_value)\n\u001b[0;32m      <a href='vscode-notebook-cell:/c%3A/Users/anton/IP2/toll_optimization/case_studies/debug.ipynb#X12sZmlsZQ%3D%3D?line=6'>7</a>\u001b[0m assignment \u001b[39m=\u001b[39m StaticAssignment(g, original_od_graph, toll_object)\n\u001b[1;32m----> <a href='vscode-notebook-cell:/c%3A/Users/anton/IP2/toll_optimization/case_studies/debug.ipynb#X12sZmlsZQ%3D%3D?line=7'>8</a>\u001b[0m result \u001b[39m=\u001b[39m assignment\u001b[39m.\u001b[39mrun(\u001b[39m'\u001b[39m\u001b[39mdial_b\u001b[39m\u001b[39m'\u001b[39m)\n",
      "File \u001b[1;32mc:\\Users\\anton\\IP2\\toll_optimization\\case_studies\\../..\\dyntapy\\assignments.py:300\u001b[0m, in \u001b[0;36mStaticAssignment.run\u001b[1;34m(self, method, store_iterations, **kwargs)\u001b[0m\n\u001b[0;32m    297\u001b[0m \u001b[39m# assignment needs to return at least link_cost and flows, ideally also\u001b[39;00m\n\u001b[0;32m    298\u001b[0m \u001b[39m# multi-commodity (origin, destination or origin-destination)\u001b[39;00m\n\u001b[0;32m    299\u001b[0m \u001b[39mif\u001b[39;00m method \u001b[39m==\u001b[39m \u001b[39m\"\u001b[39m\u001b[39mdial_b\u001b[39m\u001b[39m\"\u001b[39m:\n\u001b[1;32m--> 300\u001b[0m     costs, origin_flows, gap_definition, gap \u001b[39m=\u001b[39m dial_b(\n\u001b[0;32m    301\u001b[0m         \u001b[39mself\u001b[39;49m\u001b[39m.\u001b[39;49minternal_network, \u001b[39mself\u001b[39;49m\u001b[39m.\u001b[39;49minternal_demand, store_iterations, \u001b[39mself\u001b[39;49m\u001b[39m.\u001b[39;49mtolls\n\u001b[0;32m    302\u001b[0m     )\n\u001b[0;32m    303\u001b[0m     flows \u001b[39m=\u001b[39m np\u001b[39m.\u001b[39msum(origin_flows, axis\u001b[39m=\u001b[39m\u001b[39m0\u001b[39m)\n\u001b[0;32m    304\u001b[0m     result \u001b[39m=\u001b[39m StaticResult(\n\u001b[0;32m    305\u001b[0m         costs,\n\u001b[0;32m    306\u001b[0m         flows,\n\u001b[1;32m   (...)\u001b[0m\n\u001b[0;32m    312\u001b[0m         origin_flows\u001b[39m=\u001b[39morigin_flows,\n\u001b[0;32m    313\u001b[0m     )\n",
      "File \u001b[1;32mc:\\Users\\anton\\IP2\\toll_optimization\\case_studies\\../..\\dyntapy\\sta\\equilibrate_bush.py:220\u001b[0m, in \u001b[0;36m__get_delta_flow_and_cost\u001b[1;34m()\u001b[0m\n\u001b[0;32m    218\u001b[0m \u001b[39melse\u001b[39;00m:\n\u001b[0;32m    219\u001b[0m     delta_f \u001b[39m=\u001b[39m \u001b[39m-\u001b[39mmin_path_flow\n\u001b[1;32m--> 220\u001b[0m \u001b[39massert\u001b[39;00m min_path_flow \u001b[39m>\u001b[39m\u001b[39m=\u001b[39m \u001b[39m0\u001b[39m\n\u001b[0;32m    221\u001b[0m \u001b[39mif\u001b[39;00m (max_path_derivative \u001b[39m+\u001b[39m min_path_derivative) \u001b[39m<\u001b[39m\u001b[39m=\u001b[39m \u001b[39m0\u001b[39m:\n\u001b[0;32m    222\u001b[0m     \u001b[39mif\u001b[39;00m min_path_cost \u001b[39m<\u001b[39m max_path_cost:\n",
      "\u001b[1;31mAssertionError\u001b[0m: "
     ]
    }
   ],
   "source": [
    "toll_method = 'cordon'\n",
    "toll_value = 0.05\n",
    "toll_link_ids = [642, 654, 760, 939, 1347, 1354, 1367, 2970, 6355, 6724, 10692, 10693, 15600, 15845, 15848]\n",
    "\n",
    "toll_object = create_toll_object(g, toll_method, toll_link_ids, toll_value)\n",
    "assignment = StaticAssignment(g, original_od_graph, toll_object)\n",
    "result = assignment.run('dial_b')"
   ]
  },
  {
   "attachments": {},
   "cell_type": "markdown",
   "metadata": {},
   "source": [
    "As you can see, the same error occurs again. We still don't know what is causing this, but we can see that it took way longer for this error to occur, which means that we are deeper into the dial-B algorithm. "
   ]
  },
  {
   "attachments": {},
   "cell_type": "markdown",
   "metadata": {},
   "source": [
    "-----\n",
    "    FOURTH ATTEMPT: TOLLING THE E19-JUNCTION TO THE RING OF BRUSSELS\n",
    "\n",
    "    Compared to attempt three, this attempt only uses the 6 links related to the E19-junction. These are shown in red in data_map/images/E19_junction.png.\n",
    "\n",
    "    Again, we tried to run the STA on the selected links. Finally, this was successfull, as you can see below. "
   ]
  },
  {
   "cell_type": "code",
   "execution_count": 15,
   "metadata": {},
   "outputs": [
    {
     "name": "stdout",
     "output_type": "stream",
     "text": [
      "init passed successfully\n",
      "initial loading starts \n"
     ]
    }
   ],
   "source": [
    "toll_method = 'cordon'\n",
    "toll_value = 0.1\n",
    "toll_link_ids = [939, 1347, 2970, 6355, 6724, 15600]\n",
    "\n",
    "toll_object = create_toll_object(g, toll_method, toll_link_ids, toll_value)\n",
    "assignment = StaticAssignment(g, original_od_graph, toll_object)\n",
    "result = assignment.run('dial_b')"
   ]
  },
  {
   "attachments": {},
   "cell_type": "markdown",
   "metadata": {},
   "source": [
    "We then took this case to Heeds, but barely any improvements were made which sounded weird to us. That's why we decided to critically review whether everything is correct. The remainder of this notebook explains how we tried to check that, and what is going wrong. "
   ]
  },
  {
   "attachments": {},
   "cell_type": "markdown",
   "metadata": {},
   "source": [
    "In the elastic demand case, we modify our OD based on the new skims (because the tolls are changing the skims for some OD-paths). The next cell blocks shows these modifications."
   ]
  },
  {
   "cell_type": "code",
   "execution_count": 7,
   "metadata": {},
   "outputs": [
    {
     "name": "stdout",
     "output_type": "stream",
     "text": [
      "Biggest change occuring across the OD matrix for one specific OD: 0.1725614748217843\n",
      "Relative Frobenius norm change of the OD matrix: 8.986609781978718e-09\n"
     ]
    }
   ],
   "source": [
    "new_od = (A-result.skim)/B\n",
    "old_od\n",
    "print(\"Biggest change occuring across the OD matrix for one specific OD:\", np.max(abs((new_od - old_od))))\n",
    "print(\"Relative Frobenius norm change of the OD matrix:\", abs((np.linalg.norm(new_od) - np.linalg.norm(old_od))/np.linalg.norm(old_od)))"
   ]
  },
  {
   "attachments": {},
   "cell_type": "markdown",
   "metadata": {},
   "source": [
    "So we see that there is hardly any change in our OD-matrix. The largest change for a specific OD-pair is only 0,2 passengers. There are 2 things that could cause this:\n",
    "    \n",
    "- It could be that the tolled links have a good alternative, such that the skims of each OD does not really change. \n",
    "    \n",
    "- It could be that there is an implementation problem, which causes the users to not feel the toll. Therefore, they would not have to reroute and there would be no change in list costs. "
   ]
  },
  {
   "attachments": {},
   "cell_type": "markdown",
   "metadata": {},
   "source": [
    "Ofcourse, we must verify that we are not in the second case. The first thing that we need to to evaluate the implementation correctness, is an STA without tolls. This allows us to compare the STA with toll to a reference case. \n",
    "    \n",
    "Therefore, the following cell block runs an STA on our network and OD-matrix without tolls. "
   ]
  },
  {
   "cell_type": "code",
   "execution_count": 6,
   "metadata": {},
   "outputs": [
    {
     "name": "stdout",
     "output_type": "stream",
     "text": [
      "init passed successfully\n",
      "initial loading starts \n"
     ]
    }
   ],
   "source": [
    "assignment_no_toll = StaticAssignment(g, original_od_graph)\n",
    "result_no_toll = assignment_no_toll.run('dial_b')"
   ]
  },
  {
   "attachments": {},
   "cell_type": "markdown",
   "metadata": {},
   "source": [
    "So we now have STA results for a situation with toll and without toll. We can now verify whether the link costs and link flows of the tolled links change correctly subject to the charged toll. "
   ]
  },
  {
   "cell_type": "code",
   "execution_count": 18,
   "metadata": {},
   "outputs": [
    {
     "name": "stdout",
     "output_type": "stream",
     "text": [
      "flow on link 939 : 7716.673868033565\n",
      "cost on link 939 : 0.005215132800393459\n",
      "flow on link 1347 : 5642.645000802237\n",
      "cost on link 1347 : 0.031246173716437634\n",
      "flow on link 2970 : 5028.34600417281\n",
      "cost on link 2970 : 0.005048017454873437\n",
      "flow on link 6355 : 151.67900016251951\n",
      "cost on link 6355 : 0.005351705134362368\n",
      "flow on link 6724 : 5348.786001697648\n",
      "cost on link 6724 : 0.026260507392172044\n",
      "flow on link 15600 : 859.1819982184097\n",
      "cost on link 15600 : 0.005357100447114171\n",
      "number of links with a cost higher than the set toll value: 443\n"
     ]
    }
   ],
   "source": [
    "# Case of no toll: \n",
    "flows_no_toll = result_no_toll.flows\n",
    "costs_no_toll = result_no_toll.link_costs\n",
    "for link_id in toll_link_ids:\n",
    "    print(\"flow on link\", link_id, \":\", flows_no_toll[link_id])\n",
    "    print(\"cost on link\", link_id, \":\", costs_no_toll[link_id])\n",
    "\n",
    "nr_links_higher_costs_than_toll = 0\n",
    "for link in range(len(costs_no_toll)):\n",
    "    if costs_no_toll[link] > 0.05:\n",
    "        nr_links_higher_costs_than_toll += 1\n",
    "print(\"number of links with a cost higher than the set toll value:\", nr_links_higher_costs_than_toll)\n"
   ]
  },
  {
   "cell_type": "code",
   "execution_count": 19,
   "metadata": {},
   "outputs": [
    {
     "name": "stdout",
     "output_type": "stream",
     "text": [
      "flow on link 939 : 7715.1327282452\n",
      "cost on link 939 : 0.005214922464603186\n",
      "flow on link 1347 : 5657.848000827129\n",
      "cost on link 1347 : 0.03128167900518951\n",
      "flow on link 2970 : 5080.005004390725\n",
      "cost on link 2970 : 0.005050018401972755\n",
      "flow on link 6355 : 0.0\n",
      "cost on link 6355 : 0.10535169988870621\n",
      "flow on link 6724 : 5346.956001833547\n",
      "cost on link 6724 : 0.026257399009465023\n",
      "flow on link 15600 : 855.2409980548546\n",
      "cost on link 15600 : 0.00535700203904884\n",
      "number of links with a cost higher than the set toll value: 443\n"
     ]
    }
   ],
   "source": [
    "# Case of toll:\n",
    "flows_toll = result.flows\n",
    "costs_toll = result.link_costs\n",
    "for link_id in toll_link_ids:\n",
    "    print(\"flow on link\", link_id, \":\", flows_toll[link_id])\n",
    "    print(\"cost on link\", link_id, \":\", costs_toll[link_id])\n",
    "\n",
    "nr_links_higher_costs_than_toll = 0\n",
    "for link in range(len(costs_toll)):\n",
    "    if costs_toll[link] > 0.05:\n",
    "        nr_links_higher_costs_than_toll += 1\n",
    "print(\"number of links with a cost higher than the set toll value:\", nr_links_higher_costs_than_toll)"
   ]
  },
  {
   "attachments": {},
   "cell_type": "markdown",
   "metadata": {},
   "source": [
    "As you can see based on the output from the previous two cell blocks, there is no significant change in flow or link cost for the tolled links, except for link 6355. We expected all links to have costs and flows similar to link 6355. Namely, the 0.1 toll value that was charged equals 6 minutes of travel time. However, these tolled links don't show this in their link cost, nor is their flow affected. This is really weird, because the link costs for tolled links can NEVER be lower than the charged toll value plus the free flow cost. The only explanation that we could see for this is implementation mistakes. However, we think that the implementation mistake is not in our hands. If our tolling implementation was to be the problem, you'd expect to see incorrect behaviour FOR ALL tolled links, and not for a subset. \n",
    "\n",
    "Furthermore, we think our tolling implementation is correct given that tolling multiple links in the toy network succeeded. Therefore, we would conclude that our tolling implementation works as intended.  "
   ]
  }
 ],
 "metadata": {
  "kernelspec": {
   "display_name": "dyntapyIP2",
   "language": "python",
   "name": "python3"
  },
  "language_info": {
   "codemirror_mode": {
    "name": "ipython",
    "version": 3
   },
   "file_extension": ".py",
   "mimetype": "text/x-python",
   "name": "python",
   "nbconvert_exporter": "python",
   "pygments_lexer": "ipython3",
   "version": "3.9.13"
  },
  "orig_nbformat": 4
 },
 "nbformat": 4,
 "nbformat_minor": 2
}
