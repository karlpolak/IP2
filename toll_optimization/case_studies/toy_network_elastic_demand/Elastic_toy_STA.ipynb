{
 "cells": [
  {
   "attachments": {},
   "cell_type": "markdown",
   "metadata": {},
   "source": [
    "# ELASTIC TOY NETWORK STA\n",
    "\n",
    "This file first shows how to run an elastic Static Traffic Assignment in dyntapy. It also shows examples of how to run an elastic assignment with tolls."
   ]
  },
  {
   "attachments": {},
   "cell_type": "markdown",
   "metadata": {},
   "source": [
    "1. At first, you import all the necessary packages and files from mostly dyntapy. "
   ]
  },
  {
   "cell_type": "code",
   "execution_count": null,
   "metadata": {},
   "outputs": [],
   "source": [
    "import warnings\n",
    "warnings.filterwarnings('ignore') # hide warnings\n",
    "import os\n",
    "import numpy as np\n",
    "import sys\n",
    "sys.path.append(\"../../..\")\n",
    "\n",
    "from pickle import dump\n",
    "from dyntapy.supply_data import get_toy_network, relabel_graph\n",
    "from dyntapy.demand_data import add_centroids, od_graph_from_matrix\n",
    "from dyntapy.visualization import show_network\n",
    "from dyntapy.assignments import StaticAssignment"
   ]
  },
  {
   "attachments": {},
   "cell_type": "markdown",
   "metadata": {},
   "source": [
    "2. Some toy networks are already made available in the original toolbox, so in the example,two-route is used. The first steps are always the same: \n",
    "\n",
    "- Create or retrieve a network\n",
    "- Create and add centroids to network → adds connectors automatically\n",
    "\n",
    "  These steps can also be visualised in the notebooks by fully running the next block of code. There are now links visible (roads and connectors), green centroids and for both elements when hovering with the cursor over the segments there are also some characteristics displayed in a box like the link ID, the capacity, the free-flow speed or demand between each location in the demand plot."
   ]
  },
  {
   "cell_type": "code",
   "execution_count": null,
   "metadata": {},
   "outputs": [],
   "source": [
    "# Get network\n",
    "network = get_toy_network('two-route')\n",
    "centroid_x = np.array([-1, 3])\n",
    "centroid_y = np.array([2, 2])\n",
    "network = add_centroids(network, centroid_x, centroid_y, euclidean=True)\n",
    "network = relabel_graph(network) \n",
    "show_network(network, euclidean=True, notebook= True)\n"
   ]
  },
  {
   "cell_type": "code",
   "execution_count": null,
   "metadata": {},
   "outputs": [],
   "source": [
    "# Initial OD to start iterating\n",
    "old_od = np.zeros(4).reshape((2, 2))\n",
    "old_od[0, 1] = 400\n",
    "old_graph = od_graph_from_matrix(old_od, centroid_x, centroid_y)\n",
    "\n",
    "# One STA assignment, to determine A based on B (literature), D (assignment) and P assignment). \n",
    "assignment = StaticAssignment(network, old_graph)\n",
    "result = assignment.run('dial_b')   "
   ]
  },
  {
   "cell_type": "code",
   "execution_count": null,
   "metadata": {},
   "outputs": [],
   "source": [
    "# A matrix\n",
    "A = 0.05971545\n",
    "# B matrix\n",
    "B = 10"
   ]
  },
  {
   "cell_type": "code",
   "execution_count": null,
   "metadata": {},
   "outputs": [],
   "source": [
    "# First iteration \n",
    "skims = result.skim\n",
    "new_od = np.zeros(4).reshape((2, 2))\n",
    "new_od[0,1] = (A-skims)/B\n",
    "print(new_od[0,1])\n",
    "print(abs((new_od - old_od)))\n",
    "\n",
    "i = 1 \n",
    "max_iterations = 10\n",
    "max_deviation_per_od = 5\n",
    "while np.max(abs((new_od - old_od))) > max_deviation_per_od and i < max_iterations:\n",
    "    # Perhaps MSA stap\n",
    "    old_od = new_od\n",
    "    old_graph =  od_graph_from_matrix(old_od, centroid_x, centroid_y)\n",
    "    assignment = StaticAssignment(network,old_graph)\n",
    "    result = assignment.run('dial_b')\n",
    "    skims = result.skim\n",
    "    new_od = np.zeros(4).reshape((2, 2))\n",
    "    new_od[0,1] = (A-skims)/B\n",
    "    i += 1\n",
    "    print(abs((new_od - old_od)))\n",
    "    "
   ]
  },
  {
   "attachments": {},
   "cell_type": "markdown",
   "metadata": {},
   "source": [
    "-----------------------------------------------------------------------------------------------------------------------\n",
    "2. HEEDS preparation\n",
    "As HEEDS uses an STA in every iteration, we like to preprocess things that stay static throughout the process. For the inelastic case this is both the network with centroids and the od_graph, but for the elastic case it is only the network with the centroids."
   ]
  },
  {
   "cell_type": "code",
   "execution_count": null,
   "metadata": {},
   "outputs": [],
   "source": [
    "# TODO: save original OD matrix as starting point. Otherwise can't modify demand in STA loop. \n",
    "\n",
    "HERE = os.path.dirname(os.path.realpath(\"__file__\"))\n",
    "HEEDS_data_path = HERE+ os.path.sep+os.pardir+os.path.sep+os.pardir+os.path.sep+'data_map' + os.path.sep + \"HEEDS_input\"\n",
    "network_path = HEEDS_data_path + os.path.sep + 'network_with_centroids' + os.path.sep + \"elastic_toy\"\n",
    "with open(network_path, 'wb') as network_file:\n",
    "    dump(network, network_file)\n",
    "    print(f'network saved at f{network_path}')\n",
    "\n"
   ]
  }
 ],
 "metadata": {
  "kernelspec": {
   "display_name": "dyntapyIP2",
   "language": "python",
   "name": "python3"
  },
  "language_info": {
   "codemirror_mode": {
    "name": "ipython",
    "version": 3
   },
   "file_extension": ".py",
   "mimetype": "text/x-python",
   "name": "python",
   "nbconvert_exporter": "python",
   "pygments_lexer": "ipython3",
   "version": "3.9.13"
  },
  "orig_nbformat": 4,
  "vscode": {
   "interpreter": {
    "hash": "9e95d76fc3f9d3fc30dc73a387f46f1f590ca9cd0ef0bb3b46e549844218cbac"
   }
  }
 },
 "nbformat": 4,
 "nbformat_minor": 2
}
