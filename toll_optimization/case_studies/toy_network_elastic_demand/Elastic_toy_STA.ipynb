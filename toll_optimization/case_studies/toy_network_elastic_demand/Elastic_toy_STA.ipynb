{
 "cells": [
  {
   "attachments": {},
   "cell_type": "markdown",
   "metadata": {},
   "source": [
    "# ELASTIC TOY NETWORK STA\n",
    "\n",
    "This file first shows how to run an elastic Static Traffic Assignment in dyntapy. It also shows examples of how to run an elastic assignment with tolls. You will see that there are large pieces of code the same as with the inelastics toy network file."
   ]
  },
  {
   "attachments": {},
   "cell_type": "markdown",
   "metadata": {},
   "source": [
    "1. At first, you import all the necessary packages and files from mostly dyntapy. "
   ]
  },
  {
   "cell_type": "code",
   "execution_count": 1,
   "metadata": {},
   "outputs": [],
   "source": [
    "import warnings\n",
    "warnings.filterwarnings('ignore') # hide warnings\n",
    "import os\n",
    "import numpy as np\n",
    "import sys\n",
    "sys.path.append(\"../../..\")\n",
    "\n",
    "from pickle import dump\n",
    "from dyntapy.supply_data import get_toy_network, relabel_graph\n",
    "from dyntapy.demand_data import add_centroids, od_graph_from_matrix\n",
    "from dyntapy.visualization import show_network\n",
    "from dyntapy.toll import create_toll_object\n",
    "from dyntapy.assignments import StaticAssignment"
   ]
  },
  {
   "attachments": {},
   "cell_type": "markdown",
   "metadata": {},
   "source": [
    "2. Some toy networks are already made available in the original toolbox, so in the example,two-route is used. The first steps are always the same: \n",
    "\n",
    "- Create or retrieve a network\n",
    "- Create and add centroids to network → adds connectors automatically\n",
    "- Create or load an OD matrix (with the demand) onto the centroids\n",
    "\n",
    "  These steps can also be visualised in the notebooks by fully running the next block of code. There are now links visible (roads and connectors), green centroids and for both elements when hovering with the cursor over the segments there are also some characteristics displayed in a box like the link ID, the capacity, the free-flow speed or demand between each location in the demand plot."
   ]
  },
  {
   "cell_type": "code",
   "execution_count": 2,
   "metadata": {},
   "outputs": [
    {
     "data": {
      "application/javascript": "(function(root) {\n  function now() {\n    return new Date();\n  }\n\n  const force = true;\n\n  if (typeof root._bokeh_onload_callbacks === \"undefined\" || force === true) {\n    root._bokeh_onload_callbacks = [];\n    root._bokeh_is_loading = undefined;\n  }\n\nconst JS_MIME_TYPE = 'application/javascript';\n  const HTML_MIME_TYPE = 'text/html';\n  const EXEC_MIME_TYPE = 'application/vnd.bokehjs_exec.v0+json';\n  const CLASS_NAME = 'output_bokeh rendered_html';\n\n  /**\n   * Render data to the DOM node\n   */\n  function render(props, node) {\n    const script = document.createElement(\"script\");\n    node.appendChild(script);\n  }\n\n  /**\n   * Handle when an output is cleared or removed\n   */\n  function handleClearOutput(event, handle) {\n    const cell = handle.cell;\n\n    const id = cell.output_area._bokeh_element_id;\n    const server_id = cell.output_area._bokeh_server_id;\n    // Clean up Bokeh references\n    if (id != null && id in Bokeh.index) {\n      Bokeh.index[id].model.document.clear();\n      delete Bokeh.index[id];\n    }\n\n    if (server_id !== undefined) {\n      // Clean up Bokeh references\n      const cmd_clean = \"from bokeh.io.state import curstate; print(curstate().uuid_to_server['\" + server_id + \"'].get_sessions()[0].document.roots[0]._id)\";\n      cell.notebook.kernel.execute(cmd_clean, {\n        iopub: {\n          output: function(msg) {\n            const id = msg.content.text.trim();\n            if (id in Bokeh.index) {\n              Bokeh.index[id].model.document.clear();\n              delete Bokeh.index[id];\n            }\n          }\n        }\n      });\n      // Destroy server and session\n      const cmd_destroy = \"import bokeh.io.notebook as ion; ion.destroy_server('\" + server_id + \"')\";\n      cell.notebook.kernel.execute(cmd_destroy);\n    }\n  }\n\n  /**\n   * Handle when a new output is added\n   */\n  function handleAddOutput(event, handle) {\n    const output_area = handle.output_area;\n    const output = handle.output;\n\n    // limit handleAddOutput to display_data with EXEC_MIME_TYPE content only\n    if ((output.output_type != \"display_data\") || (!Object.prototype.hasOwnProperty.call(output.data, EXEC_MIME_TYPE))) {\n      return\n    }\n\n    const toinsert = output_area.element.find(\".\" + CLASS_NAME.split(' ')[0]);\n\n    if (output.metadata[EXEC_MIME_TYPE][\"id\"] !== undefined) {\n      toinsert[toinsert.length - 1].firstChild.textContent = output.data[JS_MIME_TYPE];\n      // store reference to embed id on output_area\n      output_area._bokeh_element_id = output.metadata[EXEC_MIME_TYPE][\"id\"];\n    }\n    if (output.metadata[EXEC_MIME_TYPE][\"server_id\"] !== undefined) {\n      const bk_div = document.createElement(\"div\");\n      bk_div.innerHTML = output.data[HTML_MIME_TYPE];\n      const script_attrs = bk_div.children[0].attributes;\n      for (let i = 0; i < script_attrs.length; i++) {\n        toinsert[toinsert.length - 1].firstChild.setAttribute(script_attrs[i].name, script_attrs[i].value);\n        toinsert[toinsert.length - 1].firstChild.textContent = bk_div.children[0].textContent\n      }\n      // store reference to server id on output_area\n      output_area._bokeh_server_id = output.metadata[EXEC_MIME_TYPE][\"server_id\"];\n    }\n  }\n\n  function register_renderer(events, OutputArea) {\n\n    function append_mime(data, metadata, element) {\n      // create a DOM node to render to\n      const toinsert = this.create_output_subarea(\n        metadata,\n        CLASS_NAME,\n        EXEC_MIME_TYPE\n      );\n      this.keyboard_manager.register_events(toinsert);\n      // Render to node\n      const props = {data: data, metadata: metadata[EXEC_MIME_TYPE]};\n      render(props, toinsert[toinsert.length - 1]);\n      element.append(toinsert);\n      return toinsert\n    }\n\n    /* Handle when an output is cleared or removed */\n    events.on('clear_output.CodeCell', handleClearOutput);\n    events.on('delete.Cell', handleClearOutput);\n\n    /* Handle when a new output is added */\n    events.on('output_added.OutputArea', handleAddOutput);\n\n    /**\n     * Register the mime type and append_mime function with output_area\n     */\n    OutputArea.prototype.register_mime_type(EXEC_MIME_TYPE, append_mime, {\n      /* Is output safe? */\n      safe: true,\n      /* Index of renderer in `output_area.display_order` */\n      index: 0\n    });\n  }\n\n  // register the mime type if in Jupyter Notebook environment and previously unregistered\n  if (root.Jupyter !== undefined) {\n    const events = require('base/js/events');\n    const OutputArea = require('notebook/js/outputarea').OutputArea;\n\n    if (OutputArea.prototype.mime_types().indexOf(EXEC_MIME_TYPE) == -1) {\n      register_renderer(events, OutputArea);\n    }\n  }\n  if (typeof (root._bokeh_timeout) === \"undefined\" || force === true) {\n    root._bokeh_timeout = Date.now() + 5000;\n    root._bokeh_failed_load = false;\n  }\n\n  const NB_LOAD_WARNING = {'data': {'text/html':\n     \"<div style='background-color: #fdd'>\\n\"+\n     \"<p>\\n\"+\n     \"BokehJS does not appear to have successfully loaded. If loading BokehJS from CDN, this \\n\"+\n     \"may be due to a slow or bad network connection. Possible fixes:\\n\"+\n     \"</p>\\n\"+\n     \"<ul>\\n\"+\n     \"<li>re-rerun `output_notebook()` to attempt to load from CDN again, or</li>\\n\"+\n     \"<li>use INLINE resources instead, as so:</li>\\n\"+\n     \"</ul>\\n\"+\n     \"<code>\\n\"+\n     \"from bokeh.resources import INLINE\\n\"+\n     \"output_notebook(resources=INLINE)\\n\"+\n     \"</code>\\n\"+\n     \"</div>\"}};\n\n  function display_loaded() {\n    const el = document.getElementById(null);\n    if (el != null) {\n      el.textContent = \"BokehJS is loading...\";\n    }\n    if (root.Bokeh !== undefined) {\n      if (el != null) {\n        el.textContent = \"BokehJS \" + root.Bokeh.version + \" successfully loaded.\";\n      }\n    } else if (Date.now() < root._bokeh_timeout) {\n      setTimeout(display_loaded, 100)\n    }\n  }\n\n  function run_callbacks() {\n    try {\n      root._bokeh_onload_callbacks.forEach(function(callback) {\n        if (callback != null)\n          callback();\n      });\n    } finally {\n      delete root._bokeh_onload_callbacks\n    }\n    console.debug(\"Bokeh: all callbacks have finished\");\n  }\n\n  function load_libs(css_urls, js_urls, callback) {\n    if (css_urls == null) css_urls = [];\n    if (js_urls == null) js_urls = [];\n\n    root._bokeh_onload_callbacks.push(callback);\n    if (root._bokeh_is_loading > 0) {\n      console.debug(\"Bokeh: BokehJS is being loaded, scheduling callback at\", now());\n      return null;\n    }\n    if (js_urls == null || js_urls.length === 0) {\n      run_callbacks();\n      return null;\n    }\n    console.debug(\"Bokeh: BokehJS not loaded, scheduling load and callback at\", now());\n    root._bokeh_is_loading = css_urls.length + js_urls.length;\n\n    function on_load() {\n      root._bokeh_is_loading--;\n      if (root._bokeh_is_loading === 0) {\n        console.debug(\"Bokeh: all BokehJS libraries/stylesheets loaded\");\n        run_callbacks()\n      }\n    }\n\n    function on_error(url) {\n      console.error(\"failed to load \" + url);\n    }\n\n    for (let i = 0; i < css_urls.length; i++) {\n      const url = css_urls[i];\n      const element = document.createElement(\"link\");\n      element.onload = on_load;\n      element.onerror = on_error.bind(null, url);\n      element.rel = \"stylesheet\";\n      element.type = \"text/css\";\n      element.href = url;\n      console.debug(\"Bokeh: injecting link tag for BokehJS stylesheet: \", url);\n      document.body.appendChild(element);\n    }\n\n    for (let i = 0; i < js_urls.length; i++) {\n      const url = js_urls[i];\n      const element = document.createElement('script');\n      element.onload = on_load;\n      element.onerror = on_error.bind(null, url);\n      element.async = false;\n      element.src = url;\n      console.debug(\"Bokeh: injecting script tag for BokehJS library: \", url);\n      document.head.appendChild(element);\n    }\n  };\n\n  function inject_raw_css(css) {\n    const element = document.createElement(\"style\");\n    element.appendChild(document.createTextNode(css));\n    document.body.appendChild(element);\n  }\n\n  const js_urls = [\"https://cdn.bokeh.org/bokeh/release/bokeh-2.4.3.min.js\", \"https://cdn.bokeh.org/bokeh/release/bokeh-gl-2.4.3.min.js\", \"https://cdn.bokeh.org/bokeh/release/bokeh-widgets-2.4.3.min.js\", \"https://cdn.bokeh.org/bokeh/release/bokeh-tables-2.4.3.min.js\", \"https://cdn.bokeh.org/bokeh/release/bokeh-mathjax-2.4.3.min.js\"];\n  const css_urls = [];\n\n  const inline_js = [    function(Bokeh) {\n      Bokeh.set_log_level(\"info\");\n    },\nfunction(Bokeh) {\n    }\n  ];\n\n  function run_inline_js() {\n    if (root.Bokeh !== undefined || force === true) {\n          for (let i = 0; i < inline_js.length; i++) {\n      inline_js[i].call(root, root.Bokeh);\n    }\n} else if (Date.now() < root._bokeh_timeout) {\n      setTimeout(run_inline_js, 100);\n    } else if (!root._bokeh_failed_load) {\n      console.log(\"Bokeh: BokehJS failed to load within specified timeout.\");\n      root._bokeh_failed_load = true;\n    } else if (force !== true) {\n      const cell = $(document.getElementById(null)).parents('.cell').data().cell;\n      cell.output_area.append_execute_result(NB_LOAD_WARNING)\n    }\n  }\n\n  if (root._bokeh_is_loading === 0) {\n    console.debug(\"Bokeh: BokehJS loaded, going straight to plotting\");\n    run_inline_js();\n  } else {\n    load_libs(css_urls, js_urls, function() {\n      console.debug(\"Bokeh: BokehJS plotting callback run at\", now());\n      run_inline_js();\n    });\n  }\n}(window));",
      "application/vnd.bokehjs_load.v0+json": ""
     },
     "metadata": {},
     "output_type": "display_data"
    },
    {
     "data": {
      "text/html": [
       "\n",
       "  <div class=\"bk-root\" id=\"0ede059a-2d92-4aa5-a5a8-14d2f445850f\" data-root-id=\"1002\"></div>\n"
      ]
     },
     "metadata": {},
     "output_type": "display_data"
    },
    {
     "data": {
      "application/javascript": "(function(root) {\n  function embed_document(root) {\n  const docs_json = {\"ce349d64-69e1-414c-b266-6ecdaed4cce9\":{\"defs\":[],\"roots\":{\"references\":[{\"attributes\":{\"aspect_ratio\":1,\"below\":[{\"id\":\"1011\"}],\"center\":[{\"id\":\"1014\"},{\"id\":\"1018\"}],\"height\":800,\"left\":[{\"id\":\"1015\"}],\"renderers\":[{\"id\":\"1036\"},{\"id\":\"1041\"}],\"title\":{\"id\":\"1033\"},\"toolbar\":{\"id\":\"1026\"},\"toolbar_location\":\"below\",\"width\":800,\"x_range\":{\"id\":\"1003\"},\"x_scale\":{\"id\":\"1007\"},\"y_range\":{\"id\":\"1005\"},\"y_scale\":{\"id\":\"1009\"}},\"id\":\"1002\",\"subtype\":\"Figure\",\"type\":\"Plot\"},{\"attributes\":{\"overlay\":{\"id\":\"1025\"}},\"id\":\"1021\",\"type\":\"BoxZoomTool\"},{\"attributes\":{},\"id\":\"1054\",\"type\":\"UnionRenderers\"},{\"attributes\":{\"coordinates\":null,\"group\":null,\"text\":\"network_plot\"},\"id\":\"1033\",\"type\":\"Title\"},{\"attributes\":{},\"id\":\"1024\",\"type\":\"HelpTool\"},{\"attributes\":{},\"id\":\"1055\",\"type\":\"Selection\"},{\"attributes\":{},\"id\":\"1003\",\"type\":\"DataRange1d\"},{\"attributes\":{},\"id\":\"1023\",\"type\":\"ResetTool\"},{\"attributes\":{},\"id\":\"1020\",\"type\":\"WheelZoomTool\"},{\"attributes\":{},\"id\":\"1022\",\"type\":\"SaveTool\"},{\"attributes\":{},\"id\":\"1056\",\"type\":\"UnionRenderers\"},{\"attributes\":{\"axis\":{\"id\":\"1015\"},\"coordinates\":null,\"dimension\":1,\"group\":null,\"ticker\":null},\"id\":\"1018\",\"type\":\"Grid\"},{\"attributes\":{},\"id\":\"1057\",\"type\":\"Selection\"},{\"attributes\":{\"fill_alpha\":{\"value\":0.7},\"fill_color\":{\"field\":\"color\"},\"line_alpha\":{\"value\":0.4},\"line_width\":{\"value\":0.6},\"size\":{\"value\":6},\"x\":{\"field\":\"x\"},\"y\":{\"field\":\"y\"}},\"id\":\"1040\",\"type\":\"Circle\"},{\"attributes\":{},\"id\":\"1016\",\"type\":\"BasicTicker\"},{\"attributes\":{\"coordinates\":null,\"formatter\":{\"id\":\"1049\"},\"group\":null,\"major_label_policy\":{\"id\":\"1050\"},\"ticker\":{\"id\":\"1016\"}},\"id\":\"1015\",\"type\":\"LinearAxis\"},{\"attributes\":{\"data\":{\"centroid\":[true,true,\"None\",\"None\",\"None\",\"None\",\"None\",\"None\"],\"color\":[\"#7fff6e\",\"#7fff6e\",\"#424949\",\"#424949\",\"#424949\",\"#424949\",\"#424949\",\"#424949\"],\"ctrl_type\":[\"None\",\"None\",\"none\",\"none\",\"none\",\"none\",\"None\",\"None\"],\"ext_id\":[5,6,1,2,3,4,7,8],\"name\":[\"None\",\"None\",\"None\",\"None\",\"None\",\"None\",\"None\",\"None\"],\"node_id\":[0,1,2,3,4,5,6,7],\"node_type\":[\"None\",\"None\",\"None\",\"None\",\"None\",\"None\",\"None\",\"None\"],\"place\":[\"None\",\"None\",\"None\",\"None\",\"None\",\"None\",\"None\",\"None\"],\"x\":[-1,3,0,1,1,2,-1,3],\"x_coord\":[-1,3,0,1,1,2,-1,3],\"y\":[2,2,2,1.5,2.5,2,2.1,2.1],\"y_coord\":[2,2,2,1.5,2.5,2,2.1,2.1]},\"selected\":{\"id\":\"1057\"},\"selection_policy\":{\"id\":\"1056\"}},\"id\":\"1039\",\"type\":\"ColumnDataSource\"},{\"attributes\":{\"source\":{\"id\":\"1034\"}},\"id\":\"1037\",\"type\":\"CDSView\"},{\"attributes\":{\"callback\":null,\"description\":\"Link Hover Tool\",\"renderers\":[{\"id\":\"1036\"}],\"show_arrow\":false,\"tooltips\":[[\"link_id\",\"@link_id\"],[\"from_node_id\",\"@from_node_id\"],[\"to_node_id\",\"@to_node_id\"],[\"length\",\"@length\"],[\"capacity\",\"@capacity\"],[\"free_speed\",\"@free_speed\"],[\"name\",\"@name\"],[\"facility_type\",\"@facility_type\"],[\"connector\",\"@connector\"]]},\"id\":\"1038\",\"type\":\"HoverTool\"},{\"attributes\":{},\"id\":\"1049\",\"type\":\"BasicTickFormatter\"},{\"attributes\":{\"coordinates\":null,\"data_source\":{\"id\":\"1039\"},\"glyph\":{\"id\":\"1040\"},\"group\":null,\"hover_glyph\":null,\"view\":{\"id\":\"1042\"}},\"id\":\"1041\",\"type\":\"GlyphRenderer\"},{\"attributes\":{\"fill_alpha\":{\"value\":0.8},\"fill_color\":{\"field\":\"color\"},\"line_alpha\":{\"value\":0.8},\"xs\":{\"field\":\"x\"},\"ys\":{\"field\":\"y\"}},\"id\":\"1035\",\"type\":\"Patches\"},{\"attributes\":{\"callback\":null,\"description\":\"Node Hover Tool\",\"renderers\":[{\"id\":\"1041\"}],\"show_arrow\":false,\"tooltips\":[[\"node_id\",\"@node_id\"],[\"x_coord\",\"@x_coord\"],[\"y_coord\",\"@y_coord\"],[\"ext_id\",\"@ext_id\"],[\"node_type\",\"@node_type\"],[\"ctrl_type\",\"@ctrl_type\"],[\"centroid\",\"@centroid\"],[\"name\",\"@name\"],[\"place\",\"@place\"]]},\"id\":\"1043\",\"type\":\"HoverTool\"},{\"attributes\":{},\"id\":\"1050\",\"type\":\"AllLabels\"},{\"attributes\":{\"bottom_units\":\"screen\",\"coordinates\":null,\"fill_alpha\":0.5,\"fill_color\":\"lightgrey\",\"group\":null,\"left_units\":\"screen\",\"level\":\"overlay\",\"line_alpha\":1.0,\"line_color\":\"black\",\"line_dash\":[4,4],\"line_width\":2,\"right_units\":\"screen\",\"syncable\":false,\"top_units\":\"screen\"},\"id\":\"1025\",\"type\":\"BoxAnnotation\"},{\"attributes\":{},\"id\":\"1052\",\"type\":\"BasicTickFormatter\"},{\"attributes\":{\"source\":{\"id\":\"1039\"}},\"id\":\"1042\",\"type\":\"CDSView\"},{\"attributes\":{\"axis\":{\"id\":\"1011\"},\"coordinates\":null,\"group\":null,\"ticker\":null},\"id\":\"1014\",\"type\":\"Grid\"},{\"attributes\":{},\"id\":\"1053\",\"type\":\"AllLabels\"},{\"attributes\":{\"tools\":[{\"id\":\"1019\"},{\"id\":\"1020\"},{\"id\":\"1021\"},{\"id\":\"1022\"},{\"id\":\"1023\"},{\"id\":\"1024\"},{\"id\":\"1043\"},{\"id\":\"1038\"}]},\"id\":\"1026\",\"type\":\"Toolbar\"},{\"attributes\":{},\"id\":\"1005\",\"type\":\"DataRange1d\"},{\"attributes\":{\"coordinates\":null,\"data_source\":{\"id\":\"1034\"},\"glyph\":{\"id\":\"1035\"},\"group\":null,\"hover_glyph\":null,\"view\":{\"id\":\"1037\"}},\"id\":\"1036\",\"type\":\"GlyphRenderer\"},{\"attributes\":{},\"id\":\"1012\",\"type\":\"BasicTicker\"},{\"attributes\":{\"coordinates\":null,\"formatter\":{\"id\":\"1052\"},\"group\":null,\"major_label_policy\":{\"id\":\"1053\"},\"ticker\":{\"id\":\"1012\"}},\"id\":\"1011\",\"type\":\"LinearAxis\"},{\"attributes\":{\"data\":{\"capacity\":[10000.0,10000.0,500.0,500.0,10000.0,500.0,500.0,10000.0,10000.0,10000.0,10000.0,10000.0],\"color\":[\" #f2f4f4\",\" #f2f4f4\",\" #f2f4f4\",\" #f2f4f4\",\" #f2f4f4\",\" #f2f4f4\",\" #f2f4f4\",\" #f2f4f4\",\" #f2f4f4\",\" #f2f4f4\",\" #f2f4f4\",\" #f2f4f4\"],\"connector\":[true,true,\"None\",\"None\",true,\"None\",\"None\",true,true,true,true,true],\"facility_type\":[\"None\",\"None\",\"None\",\"None\",\"None\",\"None\",\"None\",\"None\",\"None\",\"None\",\"None\",\"None\"],\"flow\":{\"__ndarray__\":\"AAAAAAAAAAAAAAAAAAAAAAAAAAAAAAAAAAAAAAAAAAAAAAAAAAAAAAAAAAAAAAAAAAAAAAAAAAAAAAAAAAAAAAAAAAAAAAAAAAAAAAAAAAAAAAAAAAAAAAAAAAAAAAAA\",\"dtype\":\"float64\",\"order\":\"little\",\"shape\":[12]},\"free_speed\":[200.0,200.0,120,120,200.0,120,120,200.0,200.0,200.0,200.0,200.0],\"from_node_id\":[0,1,2,2,2,3,4,5,6,6,7,7],\"length\":[0.1,0.1,1.118033988749895,1.118033988749895,0.001,1.118033988749895,1.118033988749895,0.001,0.1,0.001,0.1,0.001],\"link_id\":[0,1,2,3,4,5,6,7,8,9,10,11],\"name\":[\"None\",\"None\",\"None\",\"None\",\"None\",\"None\",\"None\",\"None\",\"None\",\"None\",\"None\",\"None\"],\"to_node_id\":[6,7,3,4,6,5,5,7,0,2,1,5],\"x\":[[-1.0,-1.0,-0.990625,-0.990625,-1.0],[3.0,3.0,3.009375,3.009375,3.0],[0.0,1.0,0.9958073725421879,-0.004192627457812105,0.0],[0.0,1.0,1.0041926274578121,0.004192627457812105,0.0],[0.0,-1.0,-0.9990671526341781,0.0009328473658218657,0.0],[1.0,2.0,2.004192627457812,1.0041926274578121,1.0],[1.0,2.0,1.9958073725421879,0.9958073725421879,1.0],[2.0,3.0,3.0009328473658217,2.0009328473658217,2.0],[-1.0,-1.0,-1.009375,-1.009375,-1.0],[-1.0,0.0,-0.0009328473658218657,-1.0009328473658219,-1.0],[3.0,3.0,2.990625,2.990625,3.0],[3.0,2.0,1.9990671526341781,2.9990671526341783,3.0]],\"y\":[[2.0,2.1,2.1,2.0,2.0],[2.0,2.1,2.1,2.0,2.0],[2.0,1.5,1.4916147450843757,1.9916147450843757,2.0],[2.0,2.5,2.4916147450843757,1.9916147450843757,2.0],[2.0,2.1,2.1093284736582185,2.0093284736582184,2.0],[1.5,2.0,1.9916147450843757,1.4916147450843757,1.5],[2.5,2.0,1.9916147450843757,2.4916147450843757,2.5],[2.0,2.1,2.0906715263417817,1.9906715263417813,2.0],[2.1,2.0,2.0,2.1,2.1],[2.1,2.0,1.9906715263417813,2.0906715263417817,2.1],[2.1,2.0,2.0,2.1,2.1],[2.1,2.0,2.0093284736582184,2.1093284736582185,2.1]]},\"selected\":{\"id\":\"1055\"},\"selection_policy\":{\"id\":\"1054\"}},\"id\":\"1034\",\"type\":\"ColumnDataSource\"},{\"attributes\":{},\"id\":\"1009\",\"type\":\"LinearScale\"},{\"attributes\":{},\"id\":\"1007\",\"type\":\"LinearScale\"},{\"attributes\":{},\"id\":\"1019\",\"type\":\"PanTool\"}],\"root_ids\":[\"1002\"]},\"title\":\"Bokeh Application\",\"version\":\"2.4.3\"}};\n  const render_items = [{\"docid\":\"ce349d64-69e1-414c-b266-6ecdaed4cce9\",\"root_ids\":[\"1002\"],\"roots\":{\"1002\":\"0ede059a-2d92-4aa5-a5a8-14d2f445850f\"}}];\n  root.Bokeh.embed.embed_items_notebook(docs_json, render_items);\n  }\n  if (root.Bokeh !== undefined) {\n    embed_document(root);\n  } else {\n    let attempts = 0;\n    const timer = setInterval(function(root) {\n      if (root.Bokeh !== undefined) {\n        clearInterval(timer);\n        embed_document(root);\n      } else {\n        attempts++;\n        if (attempts > 100) {\n          clearInterval(timer);\n          console.log(\"Bokeh: ERROR: Unable to run BokehJS code because BokehJS library is missing\");\n        }\n      }\n    }, 10, root)\n  }\n})(window);",
      "application/vnd.bokehjs_exec.v0+json": ""
     },
     "metadata": {
      "application/vnd.bokehjs_exec.v0+json": {
       "id": "1002"
      }
     },
     "output_type": "display_data"
    }
   ],
   "source": [
    "# 1. Retrieve network\n",
    "network = get_toy_network('two-route')\n",
    "\n",
    "# 2. Create and add centroids\n",
    "centroid_x = np.array([-1, 3])\n",
    "centroid_y = np.array([2, 2])\n",
    "network = add_centroids(network, centroid_x, centroid_y, euclidean=True)\n",
    "# also adds connectors automatically\n",
    "network = relabel_graph(network) \n",
    "show_network(network, euclidean=True, notebook= True)\n",
    "\n",
    "# 3. Create OD and load onto centroids\n",
    "old_od = np.zeros(4).reshape((2, 2))\n",
    "old_od[0, 1] = 8000\n",
    "old_graph = od_graph_from_matrix(old_od, centroid_x, centroid_y)"
   ]
  },
  {
   "attachments": {},
   "cell_type": "markdown",
   "metadata": {},
   "source": [
    "3. To have an elastic assignment, the inverse demand function approach is used. To calculate the A matrix, first an STA without toll needs to be run to get a price-demand relation. This can be done using the already familiar piece of code running the assignment below. The demand that is put on the network will in the first place remain static, being the original OD graph. \n",
    "\n",
    "   To determine A, you should have three other elements: B (elasticity matrix from literature) and a related price-demand value as P and D. These last ones can be extracted from the previous untolled assignment. The demand D is known and the impedance or P between each origin-destination pair can be calculated via the built-in function to extract the skims. Afterwards you just fill in the inverse demand function to get a value for A."
   ]
  },
  {
   "cell_type": "code",
   "execution_count": 3,
   "metadata": {},
   "outputs": [
    {
     "name": "stdout",
     "output_type": "stream",
     "text": [
      "init passed successfully\n",
      "initial loading starts \n"
     ]
    },
    {
     "data": {
      "application/javascript": "(function(root) {\n  function now() {\n    return new Date();\n  }\n\n  const force = true;\n\n  if (typeof root._bokeh_onload_callbacks === \"undefined\" || force === true) {\n    root._bokeh_onload_callbacks = [];\n    root._bokeh_is_loading = undefined;\n  }\n\nconst JS_MIME_TYPE = 'application/javascript';\n  const HTML_MIME_TYPE = 'text/html';\n  const EXEC_MIME_TYPE = 'application/vnd.bokehjs_exec.v0+json';\n  const CLASS_NAME = 'output_bokeh rendered_html';\n\n  /**\n   * Render data to the DOM node\n   */\n  function render(props, node) {\n    const script = document.createElement(\"script\");\n    node.appendChild(script);\n  }\n\n  /**\n   * Handle when an output is cleared or removed\n   */\n  function handleClearOutput(event, handle) {\n    const cell = handle.cell;\n\n    const id = cell.output_area._bokeh_element_id;\n    const server_id = cell.output_area._bokeh_server_id;\n    // Clean up Bokeh references\n    if (id != null && id in Bokeh.index) {\n      Bokeh.index[id].model.document.clear();\n      delete Bokeh.index[id];\n    }\n\n    if (server_id !== undefined) {\n      // Clean up Bokeh references\n      const cmd_clean = \"from bokeh.io.state import curstate; print(curstate().uuid_to_server['\" + server_id + \"'].get_sessions()[0].document.roots[0]._id)\";\n      cell.notebook.kernel.execute(cmd_clean, {\n        iopub: {\n          output: function(msg) {\n            const id = msg.content.text.trim();\n            if (id in Bokeh.index) {\n              Bokeh.index[id].model.document.clear();\n              delete Bokeh.index[id];\n            }\n          }\n        }\n      });\n      // Destroy server and session\n      const cmd_destroy = \"import bokeh.io.notebook as ion; ion.destroy_server('\" + server_id + \"')\";\n      cell.notebook.kernel.execute(cmd_destroy);\n    }\n  }\n\n  /**\n   * Handle when a new output is added\n   */\n  function handleAddOutput(event, handle) {\n    const output_area = handle.output_area;\n    const output = handle.output;\n\n    // limit handleAddOutput to display_data with EXEC_MIME_TYPE content only\n    if ((output.output_type != \"display_data\") || (!Object.prototype.hasOwnProperty.call(output.data, EXEC_MIME_TYPE))) {\n      return\n    }\n\n    const toinsert = output_area.element.find(\".\" + CLASS_NAME.split(' ')[0]);\n\n    if (output.metadata[EXEC_MIME_TYPE][\"id\"] !== undefined) {\n      toinsert[toinsert.length - 1].firstChild.textContent = output.data[JS_MIME_TYPE];\n      // store reference to embed id on output_area\n      output_area._bokeh_element_id = output.metadata[EXEC_MIME_TYPE][\"id\"];\n    }\n    if (output.metadata[EXEC_MIME_TYPE][\"server_id\"] !== undefined) {\n      const bk_div = document.createElement(\"div\");\n      bk_div.innerHTML = output.data[HTML_MIME_TYPE];\n      const script_attrs = bk_div.children[0].attributes;\n      for (let i = 0; i < script_attrs.length; i++) {\n        toinsert[toinsert.length - 1].firstChild.setAttribute(script_attrs[i].name, script_attrs[i].value);\n        toinsert[toinsert.length - 1].firstChild.textContent = bk_div.children[0].textContent\n      }\n      // store reference to server id on output_area\n      output_area._bokeh_server_id = output.metadata[EXEC_MIME_TYPE][\"server_id\"];\n    }\n  }\n\n  function register_renderer(events, OutputArea) {\n\n    function append_mime(data, metadata, element) {\n      // create a DOM node to render to\n      const toinsert = this.create_output_subarea(\n        metadata,\n        CLASS_NAME,\n        EXEC_MIME_TYPE\n      );\n      this.keyboard_manager.register_events(toinsert);\n      // Render to node\n      const props = {data: data, metadata: metadata[EXEC_MIME_TYPE]};\n      render(props, toinsert[toinsert.length - 1]);\n      element.append(toinsert);\n      return toinsert\n    }\n\n    /* Handle when an output is cleared or removed */\n    events.on('clear_output.CodeCell', handleClearOutput);\n    events.on('delete.Cell', handleClearOutput);\n\n    /* Handle when a new output is added */\n    events.on('output_added.OutputArea', handleAddOutput);\n\n    /**\n     * Register the mime type and append_mime function with output_area\n     */\n    OutputArea.prototype.register_mime_type(EXEC_MIME_TYPE, append_mime, {\n      /* Is output safe? */\n      safe: true,\n      /* Index of renderer in `output_area.display_order` */\n      index: 0\n    });\n  }\n\n  // register the mime type if in Jupyter Notebook environment and previously unregistered\n  if (root.Jupyter !== undefined) {\n    const events = require('base/js/events');\n    const OutputArea = require('notebook/js/outputarea').OutputArea;\n\n    if (OutputArea.prototype.mime_types().indexOf(EXEC_MIME_TYPE) == -1) {\n      register_renderer(events, OutputArea);\n    }\n  }\n  if (typeof (root._bokeh_timeout) === \"undefined\" || force === true) {\n    root._bokeh_timeout = Date.now() + 5000;\n    root._bokeh_failed_load = false;\n  }\n\n  const NB_LOAD_WARNING = {'data': {'text/html':\n     \"<div style='background-color: #fdd'>\\n\"+\n     \"<p>\\n\"+\n     \"BokehJS does not appear to have successfully loaded. If loading BokehJS from CDN, this \\n\"+\n     \"may be due to a slow or bad network connection. Possible fixes:\\n\"+\n     \"</p>\\n\"+\n     \"<ul>\\n\"+\n     \"<li>re-rerun `output_notebook()` to attempt to load from CDN again, or</li>\\n\"+\n     \"<li>use INLINE resources instead, as so:</li>\\n\"+\n     \"</ul>\\n\"+\n     \"<code>\\n\"+\n     \"from bokeh.resources import INLINE\\n\"+\n     \"output_notebook(resources=INLINE)\\n\"+\n     \"</code>\\n\"+\n     \"</div>\"}};\n\n  function display_loaded() {\n    const el = document.getElementById(null);\n    if (el != null) {\n      el.textContent = \"BokehJS is loading...\";\n    }\n    if (root.Bokeh !== undefined) {\n      if (el != null) {\n        el.textContent = \"BokehJS \" + root.Bokeh.version + \" successfully loaded.\";\n      }\n    } else if (Date.now() < root._bokeh_timeout) {\n      setTimeout(display_loaded, 100)\n    }\n  }\n\n  function run_callbacks() {\n    try {\n      root._bokeh_onload_callbacks.forEach(function(callback) {\n        if (callback != null)\n          callback();\n      });\n    } finally {\n      delete root._bokeh_onload_callbacks\n    }\n    console.debug(\"Bokeh: all callbacks have finished\");\n  }\n\n  function load_libs(css_urls, js_urls, callback) {\n    if (css_urls == null) css_urls = [];\n    if (js_urls == null) js_urls = [];\n\n    root._bokeh_onload_callbacks.push(callback);\n    if (root._bokeh_is_loading > 0) {\n      console.debug(\"Bokeh: BokehJS is being loaded, scheduling callback at\", now());\n      return null;\n    }\n    if (js_urls == null || js_urls.length === 0) {\n      run_callbacks();\n      return null;\n    }\n    console.debug(\"Bokeh: BokehJS not loaded, scheduling load and callback at\", now());\n    root._bokeh_is_loading = css_urls.length + js_urls.length;\n\n    function on_load() {\n      root._bokeh_is_loading--;\n      if (root._bokeh_is_loading === 0) {\n        console.debug(\"Bokeh: all BokehJS libraries/stylesheets loaded\");\n        run_callbacks()\n      }\n    }\n\n    function on_error(url) {\n      console.error(\"failed to load \" + url);\n    }\n\n    for (let i = 0; i < css_urls.length; i++) {\n      const url = css_urls[i];\n      const element = document.createElement(\"link\");\n      element.onload = on_load;\n      element.onerror = on_error.bind(null, url);\n      element.rel = \"stylesheet\";\n      element.type = \"text/css\";\n      element.href = url;\n      console.debug(\"Bokeh: injecting link tag for BokehJS stylesheet: \", url);\n      document.body.appendChild(element);\n    }\n\n    for (let i = 0; i < js_urls.length; i++) {\n      const url = js_urls[i];\n      const element = document.createElement('script');\n      element.onload = on_load;\n      element.onerror = on_error.bind(null, url);\n      element.async = false;\n      element.src = url;\n      console.debug(\"Bokeh: injecting script tag for BokehJS library: \", url);\n      document.head.appendChild(element);\n    }\n  };\n\n  function inject_raw_css(css) {\n    const element = document.createElement(\"style\");\n    element.appendChild(document.createTextNode(css));\n    document.body.appendChild(element);\n  }\n\n  const js_urls = [\"https://cdn.bokeh.org/bokeh/release/bokeh-2.4.3.min.js\", \"https://cdn.bokeh.org/bokeh/release/bokeh-gl-2.4.3.min.js\", \"https://cdn.bokeh.org/bokeh/release/bokeh-widgets-2.4.3.min.js\", \"https://cdn.bokeh.org/bokeh/release/bokeh-tables-2.4.3.min.js\", \"https://cdn.bokeh.org/bokeh/release/bokeh-mathjax-2.4.3.min.js\"];\n  const css_urls = [];\n\n  const inline_js = [    function(Bokeh) {\n      Bokeh.set_log_level(\"info\");\n    },\nfunction(Bokeh) {\n    }\n  ];\n\n  function run_inline_js() {\n    if (root.Bokeh !== undefined || force === true) {\n          for (let i = 0; i < inline_js.length; i++) {\n      inline_js[i].call(root, root.Bokeh);\n    }\n} else if (Date.now() < root._bokeh_timeout) {\n      setTimeout(run_inline_js, 100);\n    } else if (!root._bokeh_failed_load) {\n      console.log(\"Bokeh: BokehJS failed to load within specified timeout.\");\n      root._bokeh_failed_load = true;\n    } else if (force !== true) {\n      const cell = $(document.getElementById(null)).parents('.cell').data().cell;\n      cell.output_area.append_execute_result(NB_LOAD_WARNING)\n    }\n  }\n\n  if (root._bokeh_is_loading === 0) {\n    console.debug(\"Bokeh: BokehJS loaded, going straight to plotting\");\n    run_inline_js();\n  } else {\n    load_libs(css_urls, js_urls, function() {\n      console.debug(\"Bokeh: BokehJS plotting callback run at\", now());\n      run_inline_js();\n    });\n  }\n}(window));",
      "application/vnd.bokehjs_load.v0+json": ""
     },
     "metadata": {},
     "output_type": "display_data"
    },
    {
     "data": {
      "text/html": [
       "\n",
       "  <div class=\"bk-root\" id=\"9547f2d6-a3b2-4d7d-ab85-2adaaf33eae1\" data-root-id=\"1124\"></div>\n"
      ]
     },
     "metadata": {},
     "output_type": "display_data"
    },
    {
     "data": {
      "application/javascript": "(function(root) {\n  function embed_document(root) {\n  const docs_json = {\"153f31bc-537d-45b0-9399-1753f21ebe09\":{\"defs\":[],\"roots\":{\"references\":[{\"attributes\":{\"aspect_ratio\":1,\"below\":[{\"id\":\"1133\"}],\"center\":[{\"id\":\"1136\"},{\"id\":\"1140\"}],\"height\":800,\"left\":[{\"id\":\"1137\"}],\"renderers\":[{\"id\":\"1158\"}],\"title\":{\"id\":\"1155\"},\"toolbar\":{\"id\":\"1148\"},\"toolbar_location\":\"below\",\"width\":800,\"x_range\":{\"id\":\"1125\"},\"x_scale\":{\"id\":\"1129\"},\"y_range\":{\"id\":\"1127\"},\"y_scale\":{\"id\":\"1131\"}},\"id\":\"1124\",\"subtype\":\"Figure\",\"type\":\"Plot\"},{\"attributes\":{},\"id\":\"1145\",\"type\":\"ResetTool\"},{\"attributes\":{\"axis\":{\"id\":\"1133\"},\"coordinates\":null,\"group\":null,\"ticker\":null},\"id\":\"1136\",\"type\":\"Grid\"},{\"attributes\":{},\"id\":\"1129\",\"type\":\"LinearScale\"},{\"attributes\":{},\"id\":\"1127\",\"type\":\"DataRange1d\"},{\"attributes\":{\"coordinates\":null,\"formatter\":{\"id\":\"1181\"},\"group\":null,\"major_label_policy\":{\"id\":\"1182\"},\"ticker\":{\"id\":\"1134\"}},\"id\":\"1133\",\"type\":\"LinearAxis\"},{\"attributes\":{},\"id\":\"1181\",\"type\":\"BasicTickFormatter\"},{\"attributes\":{\"bottom_units\":\"screen\",\"coordinates\":null,\"fill_alpha\":0.5,\"fill_color\":\"lightgrey\",\"group\":null,\"left_units\":\"screen\",\"level\":\"overlay\",\"line_alpha\":1.0,\"line_color\":\"black\",\"line_dash\":[4,4],\"line_width\":2,\"right_units\":\"screen\",\"syncable\":false,\"top_units\":\"screen\"},\"id\":\"1147\",\"type\":\"BoxAnnotation\"},{\"attributes\":{},\"id\":\"1131\",\"type\":\"LinearScale\"},{\"attributes\":{\"coordinates\":null,\"data_source\":{\"id\":\"1156\"},\"glyph\":{\"id\":\"1157\"},\"group\":null,\"hover_glyph\":null,\"view\":{\"id\":\"1159\"}},\"id\":\"1158\",\"type\":\"GlyphRenderer\"},{\"attributes\":{},\"id\":\"1134\",\"type\":\"BasicTicker\"},{\"attributes\":{},\"id\":\"1138\",\"type\":\"BasicTicker\"},{\"attributes\":{\"coordinates\":null,\"formatter\":{\"id\":\"1178\"},\"group\":null,\"major_label_policy\":{\"id\":\"1179\"},\"ticker\":{\"id\":\"1138\"}},\"id\":\"1137\",\"type\":\"LinearAxis\"},{\"attributes\":{},\"id\":\"1146\",\"type\":\"HelpTool\"},{\"attributes\":{},\"id\":\"1183\",\"type\":\"UnionRenderers\"},{\"attributes\":{},\"id\":\"1144\",\"type\":\"SaveTool\"},{\"attributes\":{},\"id\":\"1179\",\"type\":\"AllLabels\"},{\"attributes\":{\"axis\":{\"id\":\"1137\"},\"coordinates\":null,\"dimension\":1,\"group\":null,\"ticker\":null},\"id\":\"1140\",\"type\":\"Grid\"},{\"attributes\":{\"data\":{\"capacity\":[10000.0,10000.0,500.0,500.0,10000.0,500.0,500.0,10000.0,10000.0,10000.0,10000.0,10000.0],\"color\":[\"#ff5f00\",\" #f2f4f4\",\"#ff0000\",\"#ff0000\",\" #f2f4f4\",\"#ff0000\",\"#ff0000\",\"#ff5f00\",\" #f2f4f4\",\"#ff5f00\",\"#ff5f00\",\" #f2f4f4\"],\"connector\":[true,true,\"None\",\"None\",true,\"None\",\"None\",true,true,true,true,true],\"facility_type\":[\"None\",\"None\",\"None\",\"None\",\"None\",\"None\",\"None\",\"None\",\"None\",\"None\",\"None\",\"None\"],\"flow\":{\"__ndarray__\":\"AAAAAABAv0AAAAAAAAAAAAAAAAAAQK9AAAAAAABAr0AAAAAAAAAAAAAAAAAAQK9AAAAAAABAr0AAAAAAAEC/QAAAAAAAAAAAAAAAAABAv0AAAAAAAEC/QAAAAAAAAAAA\",\"dtype\":\"float64\",\"order\":\"little\",\"shape\":[12]},\"free_speed\":[200.0,200.0,120,120,200.0,120,120,200.0,200.0,200.0,200.0,200.0],\"from_node_id\":[0,1,2,2,2,3,4,5,6,6,7,7],\"length\":[0.1,0.1,1.118033988749895,1.118033988749895,0.001,1.118033988749895,1.118033988749895,0.001,0.1,0.001,0.1,0.001],\"link_id\":[0,1,2,3,4,5,6,7,8,9,10,11],\"name\":[\"None\",\"None\",\"None\",\"None\",\"None\",\"None\",\"None\",\"None\",\"None\",\"None\",\"None\",\"None\"],\"to_node_id\":[6,7,3,4,6,5,5,7,0,2,1,5],\"x\":[[-1.0,-1.0,-0.9375,-0.9375,-1.0],[3.0,3.0,3.009375,3.009375,3.0],[0.0,1.0,0.9818319476828142,-0.01816805231718579,0.0],[0.0,1.0,1.0181680523171859,0.01816805231718579,0.0],[0.0,-1.0,-0.9990671526341781,0.0009328473658218657,0.0],[1.0,2.0,2.018168052317186,1.0181680523171859,1.0],[1.0,2.0,1.9818319476828141,0.9818319476828142,1.0],[2.0,3.0,3.0062189824388126,2.0062189824388126,2.0],[-1.0,-1.0,-1.009375,-1.009375,-1.0],[-1.0,0.0,-0.006218982438812438,-1.0062189824388124,-1.0],[3.0,3.0,2.9375,2.9375,3.0],[3.0,2.0,1.9990671526341781,2.9990671526341783,3.0]],\"y\":[[2.0,2.1,2.1,2.0,2.0],[2.0,2.1,2.1,2.0,2.0],[2.0,1.5,1.4636638953656285,1.9636638953656285,2.0],[2.0,2.5,2.4636638953656282,1.9636638953656285,2.0],[2.0,2.1,2.1093284736582185,2.0093284736582184,2.0],[1.5,2.0,1.9636638953656285,1.4636638953656285,1.5],[2.5,2.0,1.9636638953656285,2.4636638953656282,2.5],[2.0,2.1,2.0378101756118756,1.9378101756118757,2.0],[2.1,2.0,2.0,2.1,2.1],[2.1,2.0,1.9378101756118757,2.0378101756118756,2.1],[2.1,2.0,2.0,2.1,2.1],[2.1,2.0,2.0093284736582184,2.1093284736582185,2.1]]},\"selected\":{\"id\":\"1184\"},\"selection_policy\":{\"id\":\"1183\"}},\"id\":\"1156\",\"type\":\"ColumnDataSource\"},{\"attributes\":{\"tools\":[{\"id\":\"1141\"},{\"id\":\"1142\"},{\"id\":\"1143\"},{\"id\":\"1144\"},{\"id\":\"1145\"},{\"id\":\"1146\"},{\"id\":\"1160\"}]},\"id\":\"1148\",\"type\":\"Toolbar\"},{\"attributes\":{\"source\":{\"id\":\"1156\"}},\"id\":\"1159\",\"type\":\"CDSView\"},{\"attributes\":{\"overlay\":{\"id\":\"1147\"}},\"id\":\"1143\",\"type\":\"BoxZoomTool\"},{\"attributes\":{},\"id\":\"1184\",\"type\":\"Selection\"},{\"attributes\":{},\"id\":\"1142\",\"type\":\"WheelZoomTool\"},{\"attributes\":{},\"id\":\"1178\",\"type\":\"BasicTickFormatter\"},{\"attributes\":{\"fill_alpha\":{\"value\":0.8},\"fill_color\":{\"field\":\"color\"},\"line_alpha\":{\"value\":0.8},\"xs\":{\"field\":\"x\"},\"ys\":{\"field\":\"y\"}},\"id\":\"1157\",\"type\":\"Patches\"},{\"attributes\":{},\"id\":\"1125\",\"type\":\"DataRange1d\"},{\"attributes\":{\"callback\":null,\"description\":\"Link Hover Tool\",\"renderers\":[{\"id\":\"1158\"}],\"show_arrow\":false,\"tooltips\":[[\"link_id\",\"@link_id\"],[\"from_node_id\",\"@from_node_id\"],[\"to_node_id\",\"@to_node_id\"],[\"length\",\"@length\"],[\"capacity\",\"@capacity\"],[\"free_speed\",\"@free_speed\"],[\"name\",\"@name\"],[\"facility_type\",\"@facility_type\"],[\"connector\",\"@connector\"],[\"flow\",\"@flow{(0.00)}\"]]},\"id\":\"1160\",\"type\":\"HoverTool\"},{\"attributes\":{},\"id\":\"1182\",\"type\":\"AllLabels\"},{\"attributes\":{\"coordinates\":null,\"group\":null,\"text\":\"network_plot\"},\"id\":\"1155\",\"type\":\"Title\"},{\"attributes\":{},\"id\":\"1141\",\"type\":\"PanTool\"}],\"root_ids\":[\"1124\"]},\"title\":\"Bokeh Application\",\"version\":\"2.4.3\"}};\n  const render_items = [{\"docid\":\"153f31bc-537d-45b0-9399-1753f21ebe09\",\"root_ids\":[\"1124\"],\"roots\":{\"1124\":\"9547f2d6-a3b2-4d7d-ab85-2adaaf33eae1\"}}];\n  root.Bokeh.embed.embed_items_notebook(docs_json, render_items);\n  }\n  if (root.Bokeh !== undefined) {\n    embed_document(root);\n  } else {\n    let attempts = 0;\n    const timer = setInterval(function(root) {\n      if (root.Bokeh !== undefined) {\n        clearInterval(timer);\n        embed_document(root);\n      } else {\n        attempts++;\n        if (attempts > 100) {\n          clearInterval(timer);\n          console.log(\"Bokeh: ERROR: Unable to run BokehJS code because BokehJS library is missing\");\n        }\n      }\n    }, 10, root)\n  }\n})(window);",
      "application/vnd.bokehjs_exec.v0+json": ""
     },
     "metadata": {
      "application/vnd.bokehjs_exec.v0+json": {
       "id": "1124"
      }
     },
     "output_type": "display_data"
    }
   ],
   "source": [
    "# 1. STA without toll \n",
    "assignment = StaticAssignment(network, old_graph)\n",
    "result = assignment.run('dial_b')  \n",
    "show_network(network, flows = result.flows, notebook=True, show_nodes=False, euclidean=True)\n",
    "\n",
    "# 2. Other elements you need: B matrix, here a random number\n",
    "B = 0.05\n",
    "\n",
    "# 3. calculating A based on B, P and D\n",
    "A = old_od[0,1]*B + result.skim"
   ]
  },
  {
   "cell_type": "code",
   "execution_count": 4,
   "metadata": {},
   "outputs": [
    {
     "name": "stdout",
     "output_type": "stream",
     "text": [
      "[[411.46837521]]\n"
     ]
    }
   ],
   "source": [
    "print(A)"
   ]
  },
  {
   "attachments": {},
   "cell_type": "markdown",
   "metadata": {},
   "source": [
    "    Congratulations, you now have every element to start the loop to determine realistic demand via elasticities!"
   ]
  },
  {
   "attachments": {},
   "cell_type": "markdown",
   "metadata": {},
   "source": [
    "4. When you now want to run an elastic assignemt, it is essential to add an additional loop where you determine how much the demand matrix will change depending on toll values and route choice. This can be done by checking each time after an assignment whether or not the change in skim matrix will have a significant effect. To get in this loop, you will first run an assignment with a random toll and determine how much the demand data deviates. You yourself can define what you consider as convergence. Here, we consider a relative change of the Frobenius norm and a maximum number of iterations. "
   ]
  },
  {
   "cell_type": "code",
   "execution_count": 5,
   "metadata": {},
   "outputs": [
    {
     "name": "stdout",
     "output_type": "stream",
     "text": [
      "init passed successfully\n",
      "initial loading starts \n",
      "dial_b ran successfully\n"
     ]
    },
    {
     "data": {
      "application/javascript": "(function(root) {\n  function now() {\n    return new Date();\n  }\n\n  const force = true;\n\n  if (typeof root._bokeh_onload_callbacks === \"undefined\" || force === true) {\n    root._bokeh_onload_callbacks = [];\n    root._bokeh_is_loading = undefined;\n  }\n\nconst JS_MIME_TYPE = 'application/javascript';\n  const HTML_MIME_TYPE = 'text/html';\n  const EXEC_MIME_TYPE = 'application/vnd.bokehjs_exec.v0+json';\n  const CLASS_NAME = 'output_bokeh rendered_html';\n\n  /**\n   * Render data to the DOM node\n   */\n  function render(props, node) {\n    const script = document.createElement(\"script\");\n    node.appendChild(script);\n  }\n\n  /**\n   * Handle when an output is cleared or removed\n   */\n  function handleClearOutput(event, handle) {\n    const cell = handle.cell;\n\n    const id = cell.output_area._bokeh_element_id;\n    const server_id = cell.output_area._bokeh_server_id;\n    // Clean up Bokeh references\n    if (id != null && id in Bokeh.index) {\n      Bokeh.index[id].model.document.clear();\n      delete Bokeh.index[id];\n    }\n\n    if (server_id !== undefined) {\n      // Clean up Bokeh references\n      const cmd_clean = \"from bokeh.io.state import curstate; print(curstate().uuid_to_server['\" + server_id + \"'].get_sessions()[0].document.roots[0]._id)\";\n      cell.notebook.kernel.execute(cmd_clean, {\n        iopub: {\n          output: function(msg) {\n            const id = msg.content.text.trim();\n            if (id in Bokeh.index) {\n              Bokeh.index[id].model.document.clear();\n              delete Bokeh.index[id];\n            }\n          }\n        }\n      });\n      // Destroy server and session\n      const cmd_destroy = \"import bokeh.io.notebook as ion; ion.destroy_server('\" + server_id + \"')\";\n      cell.notebook.kernel.execute(cmd_destroy);\n    }\n  }\n\n  /**\n   * Handle when a new output is added\n   */\n  function handleAddOutput(event, handle) {\n    const output_area = handle.output_area;\n    const output = handle.output;\n\n    // limit handleAddOutput to display_data with EXEC_MIME_TYPE content only\n    if ((output.output_type != \"display_data\") || (!Object.prototype.hasOwnProperty.call(output.data, EXEC_MIME_TYPE))) {\n      return\n    }\n\n    const toinsert = output_area.element.find(\".\" + CLASS_NAME.split(' ')[0]);\n\n    if (output.metadata[EXEC_MIME_TYPE][\"id\"] !== undefined) {\n      toinsert[toinsert.length - 1].firstChild.textContent = output.data[JS_MIME_TYPE];\n      // store reference to embed id on output_area\n      output_area._bokeh_element_id = output.metadata[EXEC_MIME_TYPE][\"id\"];\n    }\n    if (output.metadata[EXEC_MIME_TYPE][\"server_id\"] !== undefined) {\n      const bk_div = document.createElement(\"div\");\n      bk_div.innerHTML = output.data[HTML_MIME_TYPE];\n      const script_attrs = bk_div.children[0].attributes;\n      for (let i = 0; i < script_attrs.length; i++) {\n        toinsert[toinsert.length - 1].firstChild.setAttribute(script_attrs[i].name, script_attrs[i].value);\n        toinsert[toinsert.length - 1].firstChild.textContent = bk_div.children[0].textContent\n      }\n      // store reference to server id on output_area\n      output_area._bokeh_server_id = output.metadata[EXEC_MIME_TYPE][\"server_id\"];\n    }\n  }\n\n  function register_renderer(events, OutputArea) {\n\n    function append_mime(data, metadata, element) {\n      // create a DOM node to render to\n      const toinsert = this.create_output_subarea(\n        metadata,\n        CLASS_NAME,\n        EXEC_MIME_TYPE\n      );\n      this.keyboard_manager.register_events(toinsert);\n      // Render to node\n      const props = {data: data, metadata: metadata[EXEC_MIME_TYPE]};\n      render(props, toinsert[toinsert.length - 1]);\n      element.append(toinsert);\n      return toinsert\n    }\n\n    /* Handle when an output is cleared or removed */\n    events.on('clear_output.CodeCell', handleClearOutput);\n    events.on('delete.Cell', handleClearOutput);\n\n    /* Handle when a new output is added */\n    events.on('output_added.OutputArea', handleAddOutput);\n\n    /**\n     * Register the mime type and append_mime function with output_area\n     */\n    OutputArea.prototype.register_mime_type(EXEC_MIME_TYPE, append_mime, {\n      /* Is output safe? */\n      safe: true,\n      /* Index of renderer in `output_area.display_order` */\n      index: 0\n    });\n  }\n\n  // register the mime type if in Jupyter Notebook environment and previously unregistered\n  if (root.Jupyter !== undefined) {\n    const events = require('base/js/events');\n    const OutputArea = require('notebook/js/outputarea').OutputArea;\n\n    if (OutputArea.prototype.mime_types().indexOf(EXEC_MIME_TYPE) == -1) {\n      register_renderer(events, OutputArea);\n    }\n  }\n  if (typeof (root._bokeh_timeout) === \"undefined\" || force === true) {\n    root._bokeh_timeout = Date.now() + 5000;\n    root._bokeh_failed_load = false;\n  }\n\n  const NB_LOAD_WARNING = {'data': {'text/html':\n     \"<div style='background-color: #fdd'>\\n\"+\n     \"<p>\\n\"+\n     \"BokehJS does not appear to have successfully loaded. If loading BokehJS from CDN, this \\n\"+\n     \"may be due to a slow or bad network connection. Possible fixes:\\n\"+\n     \"</p>\\n\"+\n     \"<ul>\\n\"+\n     \"<li>re-rerun `output_notebook()` to attempt to load from CDN again, or</li>\\n\"+\n     \"<li>use INLINE resources instead, as so:</li>\\n\"+\n     \"</ul>\\n\"+\n     \"<code>\\n\"+\n     \"from bokeh.resources import INLINE\\n\"+\n     \"output_notebook(resources=INLINE)\\n\"+\n     \"</code>\\n\"+\n     \"</div>\"}};\n\n  function display_loaded() {\n    const el = document.getElementById(null);\n    if (el != null) {\n      el.textContent = \"BokehJS is loading...\";\n    }\n    if (root.Bokeh !== undefined) {\n      if (el != null) {\n        el.textContent = \"BokehJS \" + root.Bokeh.version + \" successfully loaded.\";\n      }\n    } else if (Date.now() < root._bokeh_timeout) {\n      setTimeout(display_loaded, 100)\n    }\n  }\n\n  function run_callbacks() {\n    try {\n      root._bokeh_onload_callbacks.forEach(function(callback) {\n        if (callback != null)\n          callback();\n      });\n    } finally {\n      delete root._bokeh_onload_callbacks\n    }\n    console.debug(\"Bokeh: all callbacks have finished\");\n  }\n\n  function load_libs(css_urls, js_urls, callback) {\n    if (css_urls == null) css_urls = [];\n    if (js_urls == null) js_urls = [];\n\n    root._bokeh_onload_callbacks.push(callback);\n    if (root._bokeh_is_loading > 0) {\n      console.debug(\"Bokeh: BokehJS is being loaded, scheduling callback at\", now());\n      return null;\n    }\n    if (js_urls == null || js_urls.length === 0) {\n      run_callbacks();\n      return null;\n    }\n    console.debug(\"Bokeh: BokehJS not loaded, scheduling load and callback at\", now());\n    root._bokeh_is_loading = css_urls.length + js_urls.length;\n\n    function on_load() {\n      root._bokeh_is_loading--;\n      if (root._bokeh_is_loading === 0) {\n        console.debug(\"Bokeh: all BokehJS libraries/stylesheets loaded\");\n        run_callbacks()\n      }\n    }\n\n    function on_error(url) {\n      console.error(\"failed to load \" + url);\n    }\n\n    for (let i = 0; i < css_urls.length; i++) {\n      const url = css_urls[i];\n      const element = document.createElement(\"link\");\n      element.onload = on_load;\n      element.onerror = on_error.bind(null, url);\n      element.rel = \"stylesheet\";\n      element.type = \"text/css\";\n      element.href = url;\n      console.debug(\"Bokeh: injecting link tag for BokehJS stylesheet: \", url);\n      document.body.appendChild(element);\n    }\n\n    for (let i = 0; i < js_urls.length; i++) {\n      const url = js_urls[i];\n      const element = document.createElement('script');\n      element.onload = on_load;\n      element.onerror = on_error.bind(null, url);\n      element.async = false;\n      element.src = url;\n      console.debug(\"Bokeh: injecting script tag for BokehJS library: \", url);\n      document.head.appendChild(element);\n    }\n  };\n\n  function inject_raw_css(css) {\n    const element = document.createElement(\"style\");\n    element.appendChild(document.createTextNode(css));\n    document.body.appendChild(element);\n  }\n\n  const js_urls = [\"https://cdn.bokeh.org/bokeh/release/bokeh-2.4.3.min.js\", \"https://cdn.bokeh.org/bokeh/release/bokeh-gl-2.4.3.min.js\", \"https://cdn.bokeh.org/bokeh/release/bokeh-widgets-2.4.3.min.js\", \"https://cdn.bokeh.org/bokeh/release/bokeh-tables-2.4.3.min.js\", \"https://cdn.bokeh.org/bokeh/release/bokeh-mathjax-2.4.3.min.js\"];\n  const css_urls = [];\n\n  const inline_js = [    function(Bokeh) {\n      Bokeh.set_log_level(\"info\");\n    },\nfunction(Bokeh) {\n    }\n  ];\n\n  function run_inline_js() {\n    if (root.Bokeh !== undefined || force === true) {\n          for (let i = 0; i < inline_js.length; i++) {\n      inline_js[i].call(root, root.Bokeh);\n    }\n} else if (Date.now() < root._bokeh_timeout) {\n      setTimeout(run_inline_js, 100);\n    } else if (!root._bokeh_failed_load) {\n      console.log(\"Bokeh: BokehJS failed to load within specified timeout.\");\n      root._bokeh_failed_load = true;\n    } else if (force !== true) {\n      const cell = $(document.getElementById(null)).parents('.cell').data().cell;\n      cell.output_area.append_execute_result(NB_LOAD_WARNING)\n    }\n  }\n\n  if (root._bokeh_is_loading === 0) {\n    console.debug(\"Bokeh: BokehJS loaded, going straight to plotting\");\n    run_inline_js();\n  } else {\n    load_libs(css_urls, js_urls, function() {\n      console.debug(\"Bokeh: BokehJS plotting callback run at\", now());\n      run_inline_js();\n    });\n  }\n}(window));",
      "application/vnd.bokehjs_load.v0+json": ""
     },
     "metadata": {},
     "output_type": "display_data"
    },
    {
     "data": {
      "text/html": [
       "\n",
       "  <div class=\"bk-root\" id=\"0d5088cd-ae15-437d-a517-047d6df18667\" data-root-id=\"1241\"></div>\n"
      ]
     },
     "metadata": {},
     "output_type": "display_data"
    },
    {
     "data": {
      "application/javascript": "(function(root) {\n  function embed_document(root) {\n  const docs_json = {\"8651eadb-47bd-4e47-926d-70e42adf7d49\":{\"defs\":[],\"roots\":{\"references\":[{\"attributes\":{\"aspect_ratio\":1,\"below\":[{\"id\":\"1250\"}],\"center\":[{\"id\":\"1253\"},{\"id\":\"1257\"}],\"height\":800,\"left\":[{\"id\":\"1254\"}],\"renderers\":[{\"id\":\"1275\"}],\"title\":{\"id\":\"1272\"},\"toolbar\":{\"id\":\"1265\"},\"toolbar_location\":\"below\",\"width\":800,\"x_range\":{\"id\":\"1242\"},\"x_scale\":{\"id\":\"1246\"},\"y_range\":{\"id\":\"1244\"},\"y_scale\":{\"id\":\"1248\"}},\"id\":\"1241\",\"subtype\":\"Figure\",\"type\":\"Plot\"},{\"attributes\":{},\"id\":\"1311\",\"type\":\"UnionRenderers\"},{\"attributes\":{\"fill_alpha\":{\"value\":0.8},\"fill_color\":{\"field\":\"color\"},\"line_alpha\":{\"value\":0.8},\"xs\":{\"field\":\"x\"},\"ys\":{\"field\":\"y\"}},\"id\":\"1274\",\"type\":\"Patches\"},{\"attributes\":{\"overlay\":{\"id\":\"1264\"}},\"id\":\"1260\",\"type\":\"BoxZoomTool\"},{\"attributes\":{},\"id\":\"1242\",\"type\":\"DataRange1d\"},{\"attributes\":{},\"id\":\"1310\",\"type\":\"AllLabels\"},{\"attributes\":{},\"id\":\"1262\",\"type\":\"ResetTool\"},{\"attributes\":{},\"id\":\"1309\",\"type\":\"BasicTickFormatter\"},{\"attributes\":{},\"id\":\"1251\",\"type\":\"BasicTicker\"},{\"attributes\":{},\"id\":\"1248\",\"type\":\"LinearScale\"},{\"attributes\":{},\"id\":\"1261\",\"type\":\"SaveTool\"},{\"attributes\":{},\"id\":\"1312\",\"type\":\"Selection\"},{\"attributes\":{},\"id\":\"1307\",\"type\":\"AllLabels\"},{\"attributes\":{\"coordinates\":null,\"formatter\":{\"id\":\"1306\"},\"group\":null,\"major_label_policy\":{\"id\":\"1307\"},\"ticker\":{\"id\":\"1255\"}},\"id\":\"1254\",\"type\":\"LinearAxis\"},{\"attributes\":{\"coordinates\":null,\"data_source\":{\"id\":\"1273\"},\"glyph\":{\"id\":\"1274\"},\"group\":null,\"hover_glyph\":null,\"view\":{\"id\":\"1276\"}},\"id\":\"1275\",\"type\":\"GlyphRenderer\"},{\"attributes\":{},\"id\":\"1255\",\"type\":\"BasicTicker\"},{\"attributes\":{},\"id\":\"1244\",\"type\":\"DataRange1d\"},{\"attributes\":{\"data\":{\"capacity\":[10000.0,10000.0,500.0,500.0,10000.0,500.0,500.0,10000.0,10000.0,10000.0,10000.0,10000.0],\"color\":[\"#ff5f00\",\" #f2f4f4\",\" #f2f4f4\",\"#ff0000\",\" #f2f4f4\",\" #f2f4f4\",\"#ff0000\",\"#ff5f00\",\" #f2f4f4\",\"#ff5f00\",\"#ff5f00\",\" #f2f4f4\"],\"connector\":[true,true,\"None\",\"None\",true,\"None\",\"None\",true,true,true,true,true],\"facility_type\":[\"None\",\"None\",\"None\",\"None\",\"None\",\"None\",\"None\",\"None\",\"None\",\"None\",\"None\",\"None\"],\"flow\":{\"__ndarray__\":\"AAAAAABAv0AAAAAAAAAAAAAAAAAAAAAAAAAAAABAv0AAAAAAAAAAAAAAAAAAAAAAAAAAAABAv0AAAAAAAEC/QAAAAAAAAAAAAAAAAABAv0AAAAAAAEC/QAAAAAAAAAAA\",\"dtype\":\"float64\",\"order\":\"little\",\"shape\":[12]},\"free_speed\":[200.0,200.0,120,120,200.0,120,120,200.0,200.0,200.0,200.0,200.0],\"from_node_id\":[0,1,2,2,2,3,4,5,6,6,7,7],\"length\":[0.1,0.1,1.118033988749895,1.118033988749895,0.001,1.118033988749895,1.118033988749895,0.001,0.1,0.001,0.1,0.001],\"link_id\":[0,1,2,3,4,5,6,7,8,9,10,11],\"name\":[\"None\",\"None\",\"None\",\"None\",\"None\",\"None\",\"None\",\"None\",\"None\",\"None\",\"None\",\"None\"],\"to_node_id\":[6,7,3,4,6,5,5,7,0,2,1,5],\"x\":[[-1.0,-1.0,-0.9375,-0.9375,-1.0],[3.0,3.0,3.009375,3.009375,3.0],[0.0,1.0,0.9958073725421879,-0.004192627457812105,0.0],[0.0,1.0,1.0279508497187473,0.02795084971874737,0.0],[0.0,-1.0,-0.9990671526341781,0.0009328473658218657,0.0],[1.0,2.0,2.004192627457812,1.0041926274578121,1.0],[1.0,2.0,1.9720491502812527,0.9720491502812526,1.0],[2.0,3.0,3.0062189824388126,2.0062189824388126,2.0],[-1.0,-1.0,-1.009375,-1.009375,-1.0],[-1.0,0.0,-0.006218982438812438,-1.0062189824388124,-1.0],[3.0,3.0,2.9375,2.9375,3.0],[3.0,2.0,1.9990671526341781,2.9990671526341783,3.0]],\"y\":[[2.0,2.1,2.1,2.0,2.0],[2.0,2.1,2.1,2.0,2.0],[2.0,1.5,1.4916147450843757,1.9916147450843757,2.0],[2.0,2.5,2.4440983005625054,1.9440983005625052,2.0],[2.0,2.1,2.1093284736582185,2.0093284736582184,2.0],[1.5,2.0,1.9916147450843757,1.4916147450843757,1.5],[2.5,2.0,1.9440983005625052,2.4440983005625054,2.5],[2.0,2.1,2.0378101756118756,1.9378101756118757,2.0],[2.1,2.0,2.0,2.1,2.1],[2.1,2.0,1.9378101756118757,2.0378101756118756,2.1],[2.1,2.0,2.0,2.1,2.1],[2.1,2.0,2.0093284736582184,2.1093284736582185,2.1]]},\"selected\":{\"id\":\"1312\"},\"selection_policy\":{\"id\":\"1311\"}},\"id\":\"1273\",\"type\":\"ColumnDataSource\"},{\"attributes\":{},\"id\":\"1246\",\"type\":\"LinearScale\"},{\"attributes\":{\"source\":{\"id\":\"1273\"}},\"id\":\"1276\",\"type\":\"CDSView\"},{\"attributes\":{},\"id\":\"1263\",\"type\":\"HelpTool\"},{\"attributes\":{\"axis\":{\"id\":\"1250\"},\"coordinates\":null,\"group\":null,\"ticker\":null},\"id\":\"1253\",\"type\":\"Grid\"},{\"attributes\":{\"tools\":[{\"id\":\"1258\"},{\"id\":\"1259\"},{\"id\":\"1260\"},{\"id\":\"1261\"},{\"id\":\"1262\"},{\"id\":\"1263\"},{\"id\":\"1277\"}]},\"id\":\"1265\",\"type\":\"Toolbar\"},{\"attributes\":{},\"id\":\"1306\",\"type\":\"BasicTickFormatter\"},{\"attributes\":{\"coordinates\":null,\"formatter\":{\"id\":\"1309\"},\"group\":null,\"major_label_policy\":{\"id\":\"1310\"},\"ticker\":{\"id\":\"1251\"}},\"id\":\"1250\",\"type\":\"LinearAxis\"},{\"attributes\":{\"callback\":null,\"description\":\"Link Hover Tool\",\"renderers\":[{\"id\":\"1275\"}],\"show_arrow\":false,\"tooltips\":[[\"link_id\",\"@link_id\"],[\"from_node_id\",\"@from_node_id\"],[\"to_node_id\",\"@to_node_id\"],[\"length\",\"@length\"],[\"capacity\",\"@capacity\"],[\"free_speed\",\"@free_speed\"],[\"name\",\"@name\"],[\"facility_type\",\"@facility_type\"],[\"connector\",\"@connector\"],[\"flow\",\"@flow{(0.00)}\"]]},\"id\":\"1277\",\"type\":\"HoverTool\"},{\"attributes\":{\"bottom_units\":\"screen\",\"coordinates\":null,\"fill_alpha\":0.5,\"fill_color\":\"lightgrey\",\"group\":null,\"left_units\":\"screen\",\"level\":\"overlay\",\"line_alpha\":1.0,\"line_color\":\"black\",\"line_dash\":[4,4],\"line_width\":2,\"right_units\":\"screen\",\"syncable\":false,\"top_units\":\"screen\"},\"id\":\"1264\",\"type\":\"BoxAnnotation\"},{\"attributes\":{\"axis\":{\"id\":\"1254\"},\"coordinates\":null,\"dimension\":1,\"group\":null,\"ticker\":null},\"id\":\"1257\",\"type\":\"Grid\"},{\"attributes\":{\"coordinates\":null,\"group\":null,\"text\":\"network_plot\"},\"id\":\"1272\",\"type\":\"Title\"},{\"attributes\":{},\"id\":\"1258\",\"type\":\"PanTool\"},{\"attributes\":{},\"id\":\"1259\",\"type\":\"WheelZoomTool\"}],\"root_ids\":[\"1241\"]},\"title\":\"Bokeh Application\",\"version\":\"2.4.3\"}};\n  const render_items = [{\"docid\":\"8651eadb-47bd-4e47-926d-70e42adf7d49\",\"root_ids\":[\"1241\"],\"roots\":{\"1241\":\"0d5088cd-ae15-437d-a517-047d6df18667\"}}];\n  root.Bokeh.embed.embed_items_notebook(docs_json, render_items);\n  }\n  if (root.Bokeh !== undefined) {\n    embed_document(root);\n  } else {\n    let attempts = 0;\n    const timer = setInterval(function(root) {\n      if (root.Bokeh !== undefined) {\n        clearInterval(timer);\n        embed_document(root);\n      } else {\n        attempts++;\n        if (attempts > 100) {\n          clearInterval(timer);\n          console.log(\"Bokeh: ERROR: Unable to run BokehJS code because BokehJS library is missing\");\n        }\n      }\n    }, 10, root)\n  }\n})(window);",
      "application/vnd.bokehjs_exec.v0+json": ""
     },
     "metadata": {
      "application/vnd.bokehjs_exec.v0+json": {
       "id": "1241"
      }
     },
     "output_type": "display_data"
    },
    {
     "name": "stdout",
     "output_type": "stream",
     "text": [
      "original OD flow was: 8000.0\n",
      "new OD flow is: 4565.399608612061\n",
      "relative Frobenius change: 0.42932504892349244\n"
     ]
    }
   ],
   "source": [
    "# 1. Create toll object\n",
    "toll_method = 'cordon'\n",
    "toll_link_ids = [2,5] # Link 5 goes from the bottom to the right. \n",
    "toll_value = 300\n",
    "toll_object = create_toll_object(network, toll_method, toll_link_ids, toll_value)\n",
    "\n",
    "# 2. Run STA with toll object\n",
    "assignment2 = StaticAssignment(network,old_graph, toll_object)\n",
    "result2 = assignment2.run('dial_b')\n",
    "print('dial_b ran successfully')\n",
    "show_network(network, flows = result2.flows, notebook=True, show_nodes=False, euclidean=True)\n",
    "\n",
    "# 3. New OD after first iteration\n",
    "skims = result2.skim\n",
    "new_od = np.zeros(4).reshape((2, 2))\n",
    "new_od[0,1] = (A-skims)/B\n",
    "print(\"original OD flow was:\", old_od[0,1])\n",
    "print(\"new OD flow is:\", new_od[0,1])\n",
    "print(\"relative Frobenius change:\", abs((np.linalg.norm(new_od) - np.linalg.norm(old_od))/np.linalg.norm(old_od)))"
   ]
  },
  {
   "cell_type": "code",
   "execution_count": 6,
   "metadata": {},
   "outputs": [
    {
     "name": "stdout",
     "output_type": "stream",
     "text": [
      "started iteration: 1\n",
      "init passed successfully\n",
      "initial loading starts \n",
      "new OD flow is: 7840.412654876709\n",
      "Frobenius norm deviation:  0.7173551774277858\n",
      "started iteration: 2\n",
      "init passed successfully\n",
      "initial loading starts \n",
      "new OD flow is: 4849.098339080811\n",
      "Frobenius norm deviation:  0.38152511193850386\n",
      "started iteration: 3\n",
      "init passed successfully\n",
      "initial loading starts \n",
      "new OD flow is: 7734.448719024658\n",
      "Frobenius norm deviation:  0.595028225492905\n",
      "started iteration: 4\n",
      "init passed successfully\n",
      "initial loading starts \n",
      "new OD flow is: 5028.144664764404\n",
      "Frobenius norm deviation:  0.3499026436885509\n",
      "started iteration: 5\n",
      "init passed successfully\n",
      "initial loading starts \n",
      "new OD flow is: 7657.26411819458\n",
      "Frobenius norm deviation:  0.5228806306736133\n",
      "started iteration: 6\n",
      "init passed successfully\n",
      "initial loading starts \n",
      "new OD flow is: 5154.013500213623\n",
      "Frobenius norm deviation:  0.3269118812335247\n",
      "started iteration: 7\n",
      "init passed successfully\n",
      "initial loading starts \n",
      "new OD flow is: 7597.832126617432\n",
      "Frobenius norm deviation:  0.474158367319472\n",
      "started iteration: 8\n",
      "init passed successfully\n",
      "initial loading starts \n",
      "new OD flow is: 5248.373546600342\n",
      "Frobenius norm deviation:  0.3092274929036992\n",
      "started iteration: 9\n",
      "init passed successfully\n",
      "initial loading starts \n",
      "new OD flow is: 7550.32735824585\n",
      "Frobenius norm deviation:  0.4386032722721516\n",
      "started iteration: 10\n",
      "init passed successfully\n",
      "initial loading starts \n",
      "new OD flow is: 5322.221202850342\n",
      "Frobenius norm deviation:  0.2951006028847415\n",
      "started iteration: 11\n",
      "init passed successfully\n",
      "initial loading starts \n",
      "new OD flow is: 7511.3178062438965\n",
      "Frobenius norm deviation:  0.41131259298677275\n",
      "started iteration: 12\n",
      "init passed successfully\n",
      "initial loading starts \n",
      "new OD flow is: 5381.829051971436\n",
      "Frobenius norm deviation:  0.2835040147685259\n",
      "started iteration: 13\n",
      "init passed successfully\n",
      "initial loading starts \n",
      "new OD flow is: 7478.623104095459\n",
      "Frobenius norm deviation:  0.38960621600493606\n",
      "started iteration: 14\n",
      "init passed successfully\n",
      "initial loading starts \n",
      "new OD flow is: 5431.077709197998\n",
      "Frobenius norm deviation:  0.2737864131401648\n",
      "started iteration: 15\n",
      "init passed successfully\n",
      "initial loading starts \n",
      "new OD flow is: 7450.7782554626465\n",
      "Frobenius norm deviation:  0.37187841058582377\n",
      "started iteration: 16\n",
      "init passed successfully\n",
      "initial loading starts \n",
      "new OD flow is: 5472.514781951904\n",
      "Frobenius norm deviation:  0.26551098498473624\n",
      "started iteration: 17\n",
      "init passed successfully\n",
      "initial loading starts \n",
      "new OD flow is: 7426.75573348999\n",
      "Frobenius norm deviation:  0.3571010823000571\n",
      "started iteration: 18\n",
      "init passed successfully\n",
      "initial loading starts \n",
      "new OD flow is: 5507.892284393311\n",
      "Frobenius norm deviation:  0.25837169256069836\n",
      "started iteration: 19\n",
      "init passed successfully\n",
      "initial loading starts \n",
      "new OD flow is: 7405.809764862061\n",
      "Frobenius norm deviation:  0.3445814446746763\n"
     ]
    }
   ],
   "source": [
    "# 4. Looping/iterating over STA's until convergence, to determine the actual OD graph\n",
    "i = 1 \n",
    "max_iterations = 20\n",
    "while abs((np.linalg.norm(new_od) - np.linalg.norm(old_od))/np.linalg.norm(old_od)) > 0.05 and i < max_iterations:\n",
    "    print(\"started iteration:\", i)\n",
    "    old_od = new_od\n",
    "    old_graph =  od_graph_from_matrix(old_od, centroid_x, centroid_y)\n",
    "    assignment = StaticAssignment(network,old_graph, toll_object)\n",
    "    result = assignment.run('dial_b')\n",
    "    skims = result.skim\n",
    "    new_od = np.zeros(4).reshape((2, 2))\n",
    "    new_od[0,1] = (A-skims)/B\n",
    "    i += 1\n",
    "    print(\"new OD flow is:\", new_od[0,1])\n",
    "    print(\"Frobenius norm deviation: \", abs((np.linalg.norm(new_od) - np.linalg.norm(old_od))/np.linalg.norm(old_od)))\n",
    "    "
   ]
  },
  {
   "attachments": {},
   "cell_type": "markdown",
   "metadata": {},
   "source": [
    "As you can see, the OD does not converge quickly, even after 20 iterations. Therefore, we introduce an MSA step size. If you run the next cell, you see that convergence is already achieved after 3 iterations! "
   ]
  },
  {
   "cell_type": "code",
   "execution_count": 7,
   "metadata": {},
   "outputs": [
    {
     "name": "stdout",
     "output_type": "stream",
     "text": [
      "started iteration: 1\n",
      "init passed successfully\n",
      "initial loading starts \n",
      "new OD flow is: 5538.460521697998\n",
      "Frobenius norm deviation:  0.25214653123065245\n",
      "started iteration: 2\n",
      "init passed successfully\n",
      "initial loading starts \n",
      "new OD flow is: 6462.921772003174\n",
      "Frobenius norm deviation:  0.16691664528137715\n",
      "started iteration: 3\n",
      "init passed successfully\n",
      "initial loading starts \n",
      "new OD flow is: 6531.442979176839\n",
      "Frobenius norm deviation:  0.010602202779320816\n"
     ]
    }
   ],
   "source": [
    "i = 1 \n",
    "max_iterations = 20\n",
    "while abs((np.linalg.norm(new_od) - np.linalg.norm(old_od))/np.linalg.norm(old_od)) > 0.05 and i < max_iterations:\n",
    "    print(\"started iteration:\", i)\n",
    "    old_od = new_od\n",
    "    old_graph =  od_graph_from_matrix(old_od, centroid_x, centroid_y)\n",
    "    assignment = StaticAssignment(network,old_graph, toll_object)\n",
    "    result = assignment.run('dial_b')\n",
    "    skims = result.skim\n",
    "    new_od = np.zeros(4).reshape((2, 2))\n",
    "    new_od[0,1] = old_od[0,1] + ((A-skims)/B-old_od[0,1])*1/i\n",
    "    i += 1\n",
    "    print(\"new OD flow is:\", new_od[0,1])\n",
    "    print(\"Frobenius norm deviation: \", abs((np.linalg.norm(new_od) - np.linalg.norm(old_od))/np.linalg.norm(old_od)))"
   ]
  },
  {
   "attachments": {},
   "cell_type": "markdown",
   "metadata": {},
   "source": [
    "    Congratulations, you have now run an elastic assignment on a tolled toy network!"
   ]
  },
  {
   "attachments": {},
   "cell_type": "markdown",
   "metadata": {},
   "source": [
    "-----------------------------------------------------------------------------------------------------------------------"
   ]
  },
  {
   "attachments": {},
   "cell_type": "markdown",
   "metadata": {},
   "source": [
    "5. The last step is preparing for the Heeds iterations. The outer loop will decide on the best toll value, by ‘randomly’ trying toll values within a given range. To do this, the full network (containing roads, centroids and connectors) should preferably be saved to avoid reloading these files each iteration. In the elastic use-case, only the network remains static and is saved with a given path. The OD however will change here, exactly because of the elasticity matrix. It is not saved, but continuously updated each step of the process. What could be useful is saving the original OD so you do not lose this!\n",
    "\n",
    "Because we are working on a simple toy case, it does not save much time to store the OD-matrix, A-matrix or B-matrix. It is easier to just construct the arbitrarily chosen OD and A and B matrices in the heeds script. When expanding to a realistic case, you should save the matrices (see Elastic_Brussel_STA.ipynb). \n"
   ]
  },
  {
   "cell_type": "code",
   "execution_count": 8,
   "metadata": {},
   "outputs": [
    {
     "name": "stdout",
     "output_type": "stream",
     "text": [
      "network saved at fC:\\Users\\anton\\IP2\\toll_optimization\\case_studies\\toy_network_elastic_demand\\..\\..\\data_map\\HEEDS_input\\network_with_centroids\\elastic_toy\n"
     ]
    }
   ],
   "source": [
    "HERE = os.path.dirname(os.path.realpath(\"__file__\"))\n",
    "HEEDS_data_path = HERE+ os.path.sep+os.pardir+os.path.sep+os.pardir+os.path.sep+'data_map' + os.path.sep + \"HEEDS_input\"\n",
    "network_path = HEEDS_data_path + os.path.sep + 'network_with_centroids' + os.path.sep + \"elastic_toy\"\n",
    "with open(network_path, 'wb') as network_file:\n",
    "    dump(network, network_file)\n",
    "    print(f'network saved at f{network_path}')"
   ]
  },
  {
   "attachments": {},
   "cell_type": "markdown",
   "metadata": {},
   "source": [
    "    Congratulations, you are now ready to go to the next step: HEEDS!"
   ]
  }
 ],
 "metadata": {
  "kernelspec": {
   "display_name": "dyntapyIP2",
   "language": "python",
   "name": "python3"
  },
  "language_info": {
   "codemirror_mode": {
    "name": "ipython",
    "version": 3
   },
   "file_extension": ".py",
   "mimetype": "text/x-python",
   "name": "python",
   "nbconvert_exporter": "python",
   "pygments_lexer": "ipython3",
   "version": "3.9.13"
  },
  "orig_nbformat": 4,
  "vscode": {
   "interpreter": {
    "hash": "9e95d76fc3f9d3fc30dc73a387f46f1f590ca9cd0ef0bb3b46e549844218cbac"
   }
  }
 },
 "nbformat": 4,
 "nbformat_minor": 2
}
