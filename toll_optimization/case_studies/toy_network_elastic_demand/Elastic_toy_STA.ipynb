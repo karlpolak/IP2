{
 "cells": [
  {
   "attachments": {},
   "cell_type": "markdown",
   "metadata": {},
   "source": [
    "# ELASTIC TOY NETWORK STA\n",
    "\n",
    "This file first shows how to run an elastic Static Traffic Assignment in dyntapy. It also shows examples of how to run an elastic assignment with tolls. You will see that there are large pieces of code the same as with the inelastics toy network file."
   ]
  },
  {
   "attachments": {},
   "cell_type": "markdown",
   "metadata": {},
   "source": [
    "1. At first, you import all the necessary packages and files from mostly dyntapy. "
   ]
  },
  {
   "cell_type": "code",
   "execution_count": null,
   "metadata": {},
   "outputs": [],
   "source": [
    "import warnings\n",
    "warnings.filterwarnings('ignore') # hide warnings\n",
    "import os\n",
    "import numpy as np\n",
    "import sys\n",
    "sys.path.append(\"../../..\")\n",
    "\n",
    "from pickle import dump\n",
    "from dyntapy.supply_data import get_toy_network, relabel_graph\n",
    "from dyntapy.demand_data import add_centroids, od_graph_from_matrix\n",
    "from dyntapy.visualization import show_network\n",
    "from dyntapy.assignments import StaticAssignment"
   ]
  },
  {
   "attachments": {},
   "cell_type": "markdown",
   "metadata": {},
   "source": [
    "2. Some toy networks are already made available in the original toolbox, so in the example,two-route is used. The first steps are always the same: \n",
    "\n",
    "- Create or retrieve a network\n",
    "- Create and add centroids to network → adds connectors automatically\n",
    "- Create or load an OD matrix (with the demand) onto the centroids\n",
    "\n",
    "  These steps can also be visualised in the notebooks by fully running the next block of code. There are now links visible (roads and connectors), green centroids and for both elements when hovering with the cursor over the segments there are also some characteristics displayed in a box like the link ID, the capacity, the free-flow speed or demand between each location in the demand plot."
   ]
  },
  {
   "cell_type": "code",
   "execution_count": null,
   "metadata": {},
   "outputs": [],
   "source": [
    "# 1. Retrieve network\n",
    "network = get_toy_network('two-route')\n",
    "\n",
    "# 2. Create and add centroids\n",
    "centroid_x = np.array([-1, 3])\n",
    "centroid_y = np.array([2, 2])\n",
    "network = add_centroids(network, centroid_x, centroid_y, euclidean=True)\n",
    "# also adds connectors automatically\n",
    "network = relabel_graph(network) \n",
    "show_network(network, euclidean=True, notebook= True)\n",
    "\n",
    "# 3. Create OD and load onto centroids\n",
    "old_od = np.zeros(4).reshape((2, 2))\n",
    "old_od[0, 1] = 400\n",
    "old_graph = od_graph_from_matrix(old_od, centroid_x, centroid_y)"
   ]
  },
  {
   "attachments": {},
   "cell_type": "markdown",
   "metadata": {},
   "source": [
    "3. To have an elastic assignment, the inverse demand function approach is used. To calculate the A matrix, first an STA without toll needs to be run to get a price-demand relation. This can be done using the already familiar piece of code running the assignment below. The demand that is put on the network will in the first place remain static, being the original OD graph. \n",
    "\n",
    "   To determine A, you should have three other elements: B (elasticity matrix from literature) and a related price-demand value as P and D. These last ones can be extracted from the previous untolled assignment. The demand D is known and the impedance or P between each origin-destination pair can be calculated via the built-in function to extract the skims. Afterwards you just fill in the inverse demand function to get a value for A."
   ]
  },
  {
   "cell_type": "code",
   "execution_count": null,
   "metadata": {},
   "outputs": [],
   "source": [
    "# 1. STA without toll \n",
    "assignment = StaticAssignment(network, old_graph)\n",
    "result = assignment.run('dial_b')  \n",
    "\n",
    "# 2. Other elements you need: B matrix, here a random number\n",
    "B = 10\n",
    "\n",
    "# 3. calculating A based on B, P and D\n",
    "A = old_od*B + result.skim"
   ]
  },
  {
   "attachments": {},
   "cell_type": "markdown",
   "metadata": {},
   "source": [
    "    Congratulations, you now have every element to start the loop to determine realistic demand via elasticities!"
   ]
  },
  {
   "attachments": {},
   "cell_type": "markdown",
   "metadata": {},
   "source": [
    "4. When you now want to run an elastic assignemt, it is essential to add an additional loop where you determine how much the demand matrix will change depending on toll values and route choice. This can be done by checking each time after an assignment whether or not the change in skim matrix will have a significant effect. To get in this loop, you will first run an assignment with a random toll and determine how much the demand data deviates. A threshold of a specific number of iterations (here 10) or a lower bound on the max deviation per OD pair (here 5) will put a stop to the iterating step over multiple STA's. \n"
   ]
  },
  {
   "cell_type": "code",
   "execution_count": null,
   "metadata": {},
   "outputs": [],
   "source": [
    "# 1. Create toll object\n",
    "toll_method = 'zone'\n",
    "toll_link_ids = [9,10] # Link 9 goes from the bottom to the right, and link 10 goes from the bottom to the top. \n",
    "toll_value = 3\n",
    "toll_object = create_toll_object(g, toll_method, toll_link_ids, toll_value)\n",
    "\n",
    "# 2. Run STA with toll object\n",
    "assignment2 = StaticAssignment(g,od_graph, toll_object)\n",
    "result2 = assignment2.run('dial_b')\n",
    "print('dial_b ran successfully')\n",
    "show_network(g, flows = result2.flows, notebook=True, show_nodes=False, euclidean=True)\n",
    "\n",
    "# 3. First iteration \n",
    "skims = result.skim\n",
    "new_od = np.zeros(4).reshape((2, 2))\n",
    "new_od[0,1] = (A-skims)/B\n",
    "print(new_od[0,1])\n",
    "print(abs((new_od - old_od)))\n",
    "\n",
    "# 4. Looping/iterating over STA's to determine the actual OD graph\n",
    "i = 1 \n",
    "max_iterations = 10\n",
    "max_deviation_per_od = 5\n",
    "while np.max(abs((new_od - old_od))) > max_deviation_per_od and i < max_iterations:\n",
    "    # Perhaps MSA stap\n",
    "    old_od = new_od\n",
    "    old_graph =  od_graph_from_matrix(old_od, centroid_x, centroid_y)\n",
    "    assignment = StaticAssignment(network,old_graph)\n",
    "    result = assignment.run('dial_b')\n",
    "    skims = result.skim\n",
    "    new_od = np.zeros(4).reshape((2, 2))\n",
    "    new_od[0,1] = (A-skims)/B\n",
    "    i += 1\n",
    "    print(abs((new_od - old_od)))\n",
    "    "
   ]
  },
  {
   "attachments": {},
   "cell_type": "markdown",
   "metadata": {},
   "source": [
    "    Congratulations, you have now run an elastic assignment on a tolled toy network!"
   ]
  },
  {
   "attachments": {},
   "cell_type": "markdown",
   "metadata": {},
   "source": [
    "-----------------------------------------------------------------------------------------------------------------------"
   ]
  },
  {
   "attachments": {},
   "cell_type": "markdown",
   "metadata": {},
   "source": [
    "5. The last step is preparing for the Heeds iterations. The outer loop will decide on the best toll value, by ‘randomly’ trying toll values within a given range. To do this, the full network (containing roads, centroids and connectors) should preferably be saved to avoid reloading these files each iteration. In the elastic use-case, only the network remains static and is saved with a given path. The OD however will change here, exactly because of the elasticity matrix. It is not saved, but continuously updated each step of the process. What could be useful is saving the original OD so you do not lose this!\n"
   ]
  },
  {
   "cell_type": "code",
   "execution_count": null,
   "metadata": {},
   "outputs": [],
   "source": [
    "HERE = os.path.dirname(os.path.realpath(\"__file__\"))\n",
    "HEEDS_data_path = HERE+ os.path.sep+os.pardir+os.path.sep+os.pardir+os.path.sep+'data_map' + os.path.sep + \"HEEDS_input\"\n",
    "network_path = HEEDS_data_path + os.path.sep + 'network_with_centroids' + os.path.sep + \"elastic_toy\"\n",
    "with open(network_path, 'wb') as network_file:\n",
    "    dump(network, network_file)\n",
    "    print(f'network saved at f{network_path}')"
   ]
  },
  {
   "attachments": {},
   "cell_type": "markdown",
   "metadata": {},
   "source": [
    "    Congratulations, you are now ready to go to the next step: HEEDS!"
   ]
  }
 ],
 "metadata": {
  "kernelspec": {
   "display_name": "dyntapyIP2",
   "language": "python",
   "name": "python3"
  },
  "language_info": {
   "codemirror_mode": {
    "name": "ipython",
    "version": 3
   },
   "file_extension": ".py",
   "mimetype": "text/x-python",
   "name": "python",
   "nbconvert_exporter": "python",
   "pygments_lexer": "ipython3",
   "version": "3.9.13"
  },
  "orig_nbformat": 4,
  "vscode": {
   "interpreter": {
    "hash": "9e95d76fc3f9d3fc30dc73a387f46f1f590ca9cd0ef0bb3b46e549844218cbac"
   }
  }
 },
 "nbformat": 4,
 "nbformat_minor": 2
}
