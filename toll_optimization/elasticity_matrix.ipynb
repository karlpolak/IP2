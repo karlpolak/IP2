{
 "cells": [
  {
   "attachments": {},
   "cell_type": "markdown",
   "metadata": {},
   "source": [
    "## Elasticity matrix\n",
    "\n",
    "An elasticity matrix between all the aggregated zones is constructed. Elasticities value deviate a standard elasticity, found in literature.\n",
    "\n",
    "The deviations depend on the slices in which zones are situated."
   ]
  },
  {
   "attachments": {},
   "cell_type": "markdown",
   "metadata": {},
   "source": [
    "1. Group zones based on the aggregated slices made in QGIS. In this case specifically, there is one central zone and 6 'pie slices' around it. This is to make a difference between the actual zone of interest (slice 0) and all others providing demand."
   ]
  },
  {
   "cell_type": "code",
   "execution_count": null,
   "metadata": {},
   "outputs": [],
   "source": [
    "import warnings\n",
    "warnings.filterwarnings('ignore') # hide warnings\n",
    "import geopandas as gpd \n",
    "import numpy as np\n",
    "\n",
    "city = 'BRUSSEL'\n",
    "radius = '40'\n",
    "combined_shapefile = gpd.read_file(f'data_map/QGIS/{city}_{radius}_10_aggr_comb.shp')\n",
    "# split shapefile into pie slices:\n",
    "slice_0 = gpd.read_file(f'data_map/QGIS/slices/slice_0.shp')\n",
    "slice_1 = gpd.read_file(f'data_map/QGIS/slices/slice_1.shp')\n",
    "slice_2 = gpd.read_file(f'data_map/QGIS/slices/slice_2.shp')\n",
    "slice_3 = gpd.read_file(f'data_map/QGIS/slices/slice_3.shp')\n",
    "slice_4 = gpd.read_file(f'data_map/QGIS/slices/slice_4.shp')\n",
    "slice_5 = gpd.read_file(f'data_map/QGIS/slices/slice_5.shp')\n",
    "slice_6 = gpd.read_file(f'data_map/QGIS/slices/slice_6.shp')\n",
    "slices = [slice_0, slice_1, slice_2, slice_3, slice_4, slice_5, slice_6]\n",
    "\n",
    "# initialize slice list\n",
    "slice_list = [0 for i in range(len(combined_shapefile))]\n",
    "i = 1\n",
    "\n",
    "for slice in slices[1:]:\n",
    "    clusters = slice['cluster'].values\n",
    "    for cluster in combined_shapefile['cluster']:\n",
    "        if cluster in clusters:\n",
    "            print(cluster)\n",
    "            slice_list[cluster] = i\n",
    "    i += 1\n",
    "\n",
    "combined_shapefile['slice'] = slice_list\n",
    "combined_shapefile.to_file(f'data_map/QGIS/{city}_{radius}_10_aggr_comb.shp')"
   ]
  },
  {
   "attachments": {},
   "cell_type": "markdown",
   "metadata": {},
   "source": [
    "2. Initialise elasticity matrix."
   ]
  },
  {
   "cell_type": "code",
   "execution_count": null,
   "metadata": {},
   "outputs": [],
   "source": [
    "# initialize elasticity value matrix with ones \n",
    "standard_elasticity = 1\n",
    "\n",
    "standard_elasticity_matrix = [[standard_elasticity for i in range(len(slices))] for j in range(len(slices))]\n",
    "standard_elasticity_matrix"
   ]
  },
  {
   "attachments": {},
   "cell_type": "markdown",
   "metadata": {},
   "source": [
    "3. Index all values in the elasticity matrix based on relations between slices (elasticities found in literature, these should normally be thoroughly researched for specific use-cases). Be aware that this is at the moment hardcoded, but it can be improved to have a more flexible style later on."
   ]
  },
  {
   "cell_type": "code",
   "execution_count": null,
   "metadata": {},
   "outputs": [],
   "source": [
    "# indexing: standard_elasticity_matrix[row][column]\n",
    "# e.g. standard_elasticity_matrix[0][4] means row 0, column 4. Interpretation: from slice 0 to slice 4\n",
    "\n",
    "to_own = 0.18\n",
    "to_neighbour = 0.18\n",
    "to_others = 0.15\n",
    "to_opposite = 0.15\n",
    "to_Brussels = 0.22\n",
    "from_Brussels = 0.22\n",
    "in_Brussels = 0.25\n",
    "\n",
    "\n",
    "# from 0 to 0\n",
    "standard_elasticity_matrix[0][0] *= in_Brussels\n",
    "\n",
    "# from i to i\n",
    "# from i to Brussels\n",
    "# from Brussels to i\n",
    "for i in range(1,7):\n",
    "    standard_elasticity_matrix[i][i] *= to_own\n",
    "    standard_elasticity_matrix[0][i] *= from_Brussels\n",
    "    standard_elasticity_matrix[i][0] *= to_Brussels\n",
    "\n",
    "\n",
    "# from 1 to neighbouring slices\n",
    "standard_elasticity_matrix[1][2] *= to_neighbour\n",
    "standard_elasticity_matrix[1][6] *= to_neighbour\n",
    "# from 1 to opposite slice\n",
    "standard_elasticity_matrix[1][4] *= to_opposite\n",
    "# from 1 to other slices\n",
    "standard_elasticity_matrix[1][3] *= to_others\n",
    "standard_elasticity_matrix[1][5] *= to_others\n",
    "\n",
    "\n",
    "# from 2 to neighbouring slices\n",
    "standard_elasticity_matrix[2][1] *= to_neighbour\n",
    "standard_elasticity_matrix[2][3] *= to_neighbour\n",
    "# from 2 to opposite slice\n",
    "standard_elasticity_matrix[2][5] *= to_opposite\n",
    "# from 2 to other slices\n",
    "standard_elasticity_matrix[2][4] *= to_others\n",
    "standard_elasticity_matrix[2][6] *= to_others\n",
    "\n",
    "\n",
    "# from 3 to neighbouring slices\n",
    "standard_elasticity_matrix[3][2] *= to_neighbour\n",
    "standard_elasticity_matrix[3][4] *= to_neighbour\n",
    "# from 3 to opposite slice\n",
    "standard_elasticity_matrix[3][6] *= to_opposite\n",
    "# from 3 to other slices\n",
    "standard_elasticity_matrix[3][1] *= to_others\n",
    "standard_elasticity_matrix[3][5] *= to_others\n",
    "\n",
    "\n",
    "# from 4 to neighbouring slices\n",
    "standard_elasticity_matrix[4][3] *= to_neighbour\n",
    "standard_elasticity_matrix[4][5] *= to_neighbour\n",
    "# from 4 to opposite slice\n",
    "standard_elasticity_matrix[4][1] *= to_opposite\n",
    "# from 4 to other slices\n",
    "standard_elasticity_matrix[4][2] *= to_others\n",
    "standard_elasticity_matrix[4][6] *= to_others\n",
    "\n",
    "\n",
    "# from 5 to neighbouring slices\n",
    "standard_elasticity_matrix[5][4] *= to_neighbour\n",
    "standard_elasticity_matrix[5][6] *= to_neighbour\n",
    "# from 5 to opposite slice\n",
    "standard_elasticity_matrix[5][2] *= to_opposite\n",
    "# from 5 to other slices\n",
    "standard_elasticity_matrix[5][1] *= to_others\n",
    "standard_elasticity_matrix[5][3] *= to_others\n",
    "\n",
    "# from 6 to neighbouring slices\n",
    "standard_elasticity_matrix[6][5] *= to_neighbour\n",
    "standard_elasticity_matrix[6][1] *= to_neighbour\n",
    "# from 6 to opposite slice\n",
    "standard_elasticity_matrix[6][3] *= to_opposite\n",
    "# from 6 to other slices\n",
    "standard_elasticity_matrix[6][2] *= to_others\n",
    "standard_elasticity_matrix[6][4] *= to_others\n",
    "\n",
    "# round results up to 3 \n",
    "slice_elasticity_matrix =  [[round(standard_elasticity_matrix[i][j], 3) for i in range(len(slices))] for j in range(len(slices))]\n",
    "\n",
    "slice_elasticity_matrix\n"
   ]
  },
  {
   "attachments": {},
   "cell_type": "markdown",
   "metadata": {},
   "source": [
    "4. Make a zone elasticity matrix (600x600) using the slice elasticity matrix (7x7)."
   ]
  },
  {
   "cell_type": "code",
   "execution_count": null,
   "metadata": {},
   "outputs": [],
   "source": [
    "combined_shapefile = gpd.read_file(f'data_map/QGIS/{city}_{radius}_10_aggr_comb.shp')\n",
    "zone_elasticity_matrix = np.zeros((len(combined_shapefile), len(combined_shapefile)))\n",
    "\n",
    "# Loop through all pairs of observations and fill in the matrix with the corresponding slice value\n",
    "for i in range(len(combined_shapefile)):\n",
    "    for j in range(len(combined_shapefile)):\n",
    "        k = combined_shapefile.iloc[i]['slice']\n",
    "        l = combined_shapefile.iloc[j]['slice']\n",
    "        zone_elasticity_matrix[i][j] = slice_elasticity_matrix[k][l]"
   ]
  },
  {
   "attachments": {},
   "cell_type": "markdown",
   "metadata": {},
   "source": [
    "5. Determine the useful path to the elasticity matrix. This is for ease of use later on."
   ]
  },
  {
   "cell_type": "code",
   "execution_count": null,
   "metadata": {},
   "outputs": [],
   "source": [
    "elasticity_path = f\"data_map/STA/elasticity/Brussel_{radius}\"\n",
    "np.savetxt(elasticity_path,zone_elasticity_matrix)"
   ]
  },
  {
   "attachments": {},
   "cell_type": "markdown",
   "metadata": {},
   "source": [
    "    Congratulations, you now have made your elasticity matrix B as a building block to perform elastic assignments!"
   ]
  }
 ],
 "metadata": {
  "kernelspec": {
   "display_name": "dyntapy",
   "language": "python",
   "name": "python3"
  },
  "language_info": {
   "codemirror_mode": {
    "name": "ipython",
    "version": 3
   },
   "file_extension": ".py",
   "mimetype": "text/x-python",
   "name": "python",
   "nbconvert_exporter": "python",
   "pygments_lexer": "ipython3",
   "version": "3.9.13"
  },
  "orig_nbformat": 4
 },
 "nbformat": 4,
 "nbformat_minor": 2
}
