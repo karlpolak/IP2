{
 "cells": [
  {
   "attachments": {},
   "cell_type": "markdown",
   "metadata": {},
   "source": [
    "This file exports the links and nodes to qgis, such that we can perform some processing on it to obtain the links inside a zone or cordon to toll. "
   ]
  },
  {
   "cell_type": "code",
   "execution_count": null,
   "metadata": {},
   "outputs": [],
   "source": [
    "import os\n",
    "import geopandas as gpd\n",
    "import numpy as np\n",
    "import sys\n",
    "import warnings\n",
    "warnings.filterwarnings('ignore') # hide warnings\n",
    "sys.path.append(\"..\")\n",
    "from pyproj import Proj, transform\n",
    "from pickle import load \n",
    "from shapely.geometry import Point, LineString"
   ]
  },
  {
   "attachments": {},
   "cell_type": "markdown",
   "metadata": {},
   "source": [
    "Change the data paths and the crs for the qgis layer according to your needs. "
   ]
  },
  {
   "cell_type": "code",
   "execution_count": null,
   "metadata": {},
   "outputs": [],
   "source": [
    "layer_crs = 'epsg:31370'\n",
    "\n",
    "data_path = os.path.dirname(os.path.realpath(\"__file__\")) + os.path.sep + 'data_map'\n",
    "# Input = network: \n",
    "HEEDS_input_path = data_path + os.path.sep + \"HEEDS_input\" + os.path.sep\n",
    "network_path = HEEDS_input_path + \"network_with_centroids\" + os.path.sep + \"elastic_BRUSSEL_40\"\n",
    "x_centroids_path = HEEDS_input_path + \"elastic\"\n",
    "y_centroids_path = HEEDS_input_path + \"elastic\" \n",
    "# Output:\n",
    "node_shapefile_path =  data_path + os.path.sep + 'QGIS' + os.path.sep + \"nodes_BRUSSEL_40.shp\"\n",
    "link_shapefile_path =  data_path + os.path.sep + 'QGIS' + os.path.sep + \"links_BRUSSEL_40.shp\""
   ]
  },
  {
   "attachments": {},
   "cell_type": "markdown",
   "metadata": {},
   "source": [
    "4. What we need to export to QGIS:\n",
    "\n",
    "- All intersection nodes, with attributes: x coordinate, y coordinate and node_id. \n",
    "- All non connector links, with attributes: link_id, from_node_id and to_node_id. \n"
   ]
  },
  {
   "cell_type": "code",
   "execution_count": null,
   "metadata": {},
   "outputs": [],
   "source": [
    "# Load required files \n",
    "with open(network_path, 'rb') as network_file:\n",
    "    network = load(network_file)\n",
    "x_centroids = np.loadtxt(x_centroids_path)\n",
    "y_centroids = np.loadtxt(y_centroids_path)\n",
    "\n",
    "# Remove centroids \n",
    "nr_of_centroids = len(x_centroids)\n",
    "intersection_nodes = list(network.nodes.data())[nr_of_centroids:]\n",
    "\n",
    "# Remove connectors\n",
    "edge_data = [(_, _, data) for _, _, data in network.edges.data()]\n",
    "sorted_edges = sorted(edge_data, key=lambda t: t[2][\"link_id\"])\n",
    "link_types = np.array([np.int8(d.get(\"link_type\", 0)) for (_, _, d) in sorted_edges], dtype=np.int8)\n",
    "connector_ids = []\n",
    "for i in range(len(link_types)):\n",
    "    if link_types[i] == -1 or link_types[i] == 1:\n",
    "        connector_ids.append(i)\n",
    "for i in reversed(connector_ids):\n",
    "    del sorted_edges[i]"
   ]
  },
  {
   "cell_type": "code",
   "execution_count": null,
   "metadata": {},
   "outputs": [],
   "source": [
    "node_ids = []\n",
    "x_coord = []\n",
    "y_coord = []\n",
    "for _, data in intersection_nodes:\n",
    "    node_ids.append(data['node_id'])\n",
    "    x_coord.append(data['x_coord'])\n",
    "    y_coord.append(data['y_coord'])\n",
    "x_coord, y_coord = transform(Proj(init='epsg:4326'),Proj(init=layer_crs),x_coord,y_coord)\n",
    "\n",
    "link_ids = []\n",
    "from_node_ids = []\n",
    "to_node_ids = []\n",
    "for _, _, data in sorted_edges:\n",
    "    link_ids.append(data['link_id'])\n",
    "    from_node_ids.append(data['from_node_id'])\n",
    "    to_node_ids.append(data['to_node_id'])"
   ]
  },
  {
   "cell_type": "code",
   "execution_count": null,
   "metadata": {},
   "outputs": [],
   "source": [
    "# Create Point shapefile for the nodes \n",
    "nodes = []\n",
    "\n",
    "# Iterate over the node lists and add each node to the dictionary\n",
    "for node_id, x, y in zip(node_ids, x_coord, y_coord):\n",
    "    nodes.append({'node_id': node_id, 'x': x, 'y': y})\n",
    "\n",
    "points = [Point(node['x'], node['y']) for node in nodes]\n",
    "\n",
    "nodes_shapefile = gpd.GeoDataFrame(nodes, geometry=points)\n",
    "nodes_shapefile.crs = {'init': layer_crs}\n",
    "nodes_shapefile.to_file(node_shapefile_path)"
   ]
  },
  {
   "cell_type": "code",
   "execution_count": null,
   "metadata": {},
   "outputs": [],
   "source": [
    "# Create Line shapefile for the links \n",
    "links = []\n",
    "lines = []\n",
    "\n",
    "for link_id, from_id, to_id in zip(link_ids, from_node_ids, to_node_ids):\n",
    "    links.append({'link_id': link_id, 'from_node_id': from_id, 'to_node_id': to_id})\n",
    "    from_node = [node for node in nodes if node['node_id'] == from_id][0]\n",
    "    to_node = [node for node in nodes if node['node_id'] == to_id][0]\n",
    "    line = LineString([(from_node['x'], from_node['y']), (to_node['x'], to_node['y'])])\n",
    "    lines.append(line)\n",
    "\n",
    "links_shapefile = gpd.GeoDataFrame(links, geometry=lines)\n",
    "links_shapefile.crs = {'init': layer_crs}\n",
    "links_shapefile.to_file(link_shapefile_path)"
   ]
  },
  {
   "attachments": {},
   "cell_type": "markdown",
   "metadata": {},
   "source": [
    "    Congratulations, you have been able to export everything you need to QGIS, needed to find accurate cordon- or zone-based tolling schemes!\n",
    "There you can create a desired polygon and use tools to select links that cross the polygon (cordon) or links that lie within the polygon (zone)"
   ]
  }
 ],
 "metadata": {
  "kernelspec": {
   "display_name": "dyntapyIP2",
   "language": "python",
   "name": "python3"
  },
  "language_info": {
   "codemirror_mode": {
    "name": "ipython",
    "version": 3
   },
   "file_extension": ".py",
   "mimetype": "text/x-python",
   "name": "python",
   "nbconvert_exporter": "python",
   "pygments_lexer": "ipython3",
   "version": "3.9.13"
  },
  "orig_nbformat": 4
 },
 "nbformat": 4,
 "nbformat_minor": 2
}
