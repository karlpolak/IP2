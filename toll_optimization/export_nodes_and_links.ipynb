{
 "cells": [
  {
   "attachments": {},
   "cell_type": "markdown",
   "metadata": {},
   "source": [
    "# Export nodes and links - using QGIS"
   ]
  },
  {
   "attachments": {},
   "cell_type": "markdown",
   "metadata": {},
   "source": [
    "This file exports the links and nodes to QGIS, such that you can perform some processing on it to obtain the links inside a zone or cordon to toll. \n",
    "\n",
    "Notice that the nodes (centroids) and links (connectors) related to loading the demand onto the network, are not required in QGIS. Nevertheless, they HAVE TO BE added to the network first, as they change the IDs of our links and nodes! In every STA assignment that you will do, the first C node IDs are always reserved for centroids, with C the number of centroids. Also the first C link IDs are reserved for source connectors. Sunk connectors are also present, but it seems that they do not have a fixed order in the list of IDs. "
   ]
  },
  {
   "attachments": {},
   "cell_type": "markdown",
   "metadata": {},
   "source": [
    "1. At first, you import all the necessary packages and files. "
   ]
  },
  {
   "cell_type": "code",
   "execution_count": null,
   "metadata": {},
   "outputs": [],
   "source": [
    "import os\n",
    "import geopandas as gpd\n",
    "import numpy as np\n",
    "import sys\n",
    "import warnings\n",
    "warnings.filterwarnings('ignore') # hide warnings\n",
    "sys.path.append(\"..\")\n",
    "from dyntapy.supply_data import road_network_from_place, relabel_graph\n",
    "from dyntapy.demand_data import add_centroids\n",
    "from dyntapy.visualization import show_network\n",
    "from pyproj import Proj, transform\n",
    "from shapely.geometry import Point, LineString"
   ]
  },
  {
   "attachments": {},
   "cell_type": "markdown",
   "metadata": {},
   "source": [
    "2. Get the correct file pathes for all the elements you will need. As explained in the introduction, this will be QGIS data map, the zoning shapefile and both the link and node shapefile."
   ]
  },
  {
   "cell_type": "code",
   "execution_count": null,
   "metadata": {},
   "outputs": [],
   "source": [
    "QGIS_path = os.path.dirname(os.path.realpath(\"__file__\")) + os.path.sep + 'data_map' + os.path.sep + 'QGIS'\n",
    "zoning_path = QGIS_path + os.path.sep + 'BRUSSEL_40_10_aggr_comb.shp'\n",
    "node_shapefile_path = QGIS_path + os.path.sep + \"nodes_BRUSSEL_40.shp\"\n",
    "link_shapefile_path = QGIS_path + os.path.sep + \"links_BRUSSEL_40.shp\""
   ]
  },
  {
   "attachments": {},
   "cell_type": "markdown",
   "metadata": {},
   "source": [
    "3. The next steps are always the same:\n",
    "\n",
    "- Create or retrieve a network\n",
    "- Create and add centroids to network → adds connectors automatically\n",
    "\n",
    "  One of the important steps that you should not forget is projecting everything in the correct coordinate reference system (CRS). Especially when zones are aggregated using QGIS, this is something that you should be aware of. \n",
    "\n",
    "  Also mind the fact that you are using zones and performing changes on them. Be mindful of which file is which; where are the zones aggregated and where not?"
   ]
  },
  {
   "cell_type": "code",
   "execution_count": null,
   "metadata": {},
   "outputs": [],
   "source": [
    "# This code block retrieves a network \n",
    "network = road_network_from_place(\"Brussels\", buffer_dist_close=40000)\n",
    "network = relabel_graph(network)\n",
    "\n",
    "# This code block adds centroids to the network\n",
    "zoning = gpd.read_file(zoning_path)\n",
    "\n",
    "zone_numbers = zoning[\"ZONENUMMER\"]\n",
    "x_lamb = zoning[\"X_LAMB\"]\n",
    "x_lamb = x_lamb.to_numpy()\n",
    "y_lamb = zoning[\"Y_LAMB\"]\n",
    "y_lamb = y_lamb.to_numpy()\n",
    "\n",
    "# Project to correct CRS. \n",
    "x_centroids, y_centroids = transform(Proj(init=zoning.crs),Proj(init='epsg:4326'),x_lamb,y_lamb)\n",
    "\n",
    "# Add the centroids to the network. Relabelling the graph is required (see demo for reason why)\n",
    "network = add_centroids(network, x_centroids,y_centroids,k=1, method='link')\n",
    "network = relabel_graph(network)\n",
    "# show_network(network, notebook=True)"
   ]
  },
  {
   "attachments": {},
   "cell_type": "markdown",
   "metadata": {},
   "source": [
    "4. What we need to export to QGIS:\n",
    "\n",
    "- All intersection nodes, with attributes: x coordinate, y coordinate and node_id. \n",
    "- All non connector links, with attributes: link_id, from_node_id and to_node_id. "
   ]
  },
  {
   "cell_type": "code",
   "execution_count": null,
   "metadata": {},
   "outputs": [],
   "source": [
    "# Remove centroids \n",
    "nr_of_centroids = len(x_centroids)\n",
    "intersection_nodes = list(network.nodes.data())[nr_of_centroids:]\n",
    "\n",
    "# Remove connectors\n",
    "edge_data = [(_, _, data) for _, _, data in network.edges.data()]\n",
    "sorted_edges = sorted(edge_data, key=lambda t: t[2][\"link_id\"])\n",
    "link_types = np.array([np.int8(d.get(\"link_type\", 0)) for (_, _, d) in sorted_edges], dtype=np.int8)\n",
    "connector_ids = []\n",
    "for i in range(len(link_types)):\n",
    "    if link_types[i] == -1 or link_types[i] == 1:\n",
    "        connector_ids.append(i)\n",
    "for i in reversed(connector_ids):\n",
    "    del sorted_edges[i]\n",
    "\n",
    "print(len(intersection_nodes)) # This print should be equal to the number of nodes that was printed above, under the cell block where we retrieve the network. \n",
    "print(len(sorted_edges)) # This print should be equal to the number of links that was printed above, under the cell block where we retrieve the network. "
   ]
  },
  {
   "cell_type": "code",
   "execution_count": null,
   "metadata": {},
   "outputs": [],
   "source": [
    "node_ids = []\n",
    "x_coord = []\n",
    "y_coord = []\n",
    "for _, data in intersection_nodes:\n",
    "    node_ids.append(data['node_id'])\n",
    "    x_coord.append(data['x_coord'])\n",
    "    y_coord.append(data['y_coord'])\n",
    "x_coord, y_coord = transform(Proj(init='epsg:4326'),Proj(init=zoning.crs),x_coord,y_coord)\n",
    "\n",
    "link_ids = []\n",
    "from_node_ids = []\n",
    "to_node_ids = []\n",
    "for _, _, data in sorted_edges:\n",
    "    link_ids.append(data['link_id'])\n",
    "    from_node_ids.append(data['from_node_id'])\n",
    "    to_node_ids.append(data['to_node_id'])"
   ]
  },
  {
   "cell_type": "code",
   "execution_count": null,
   "metadata": {},
   "outputs": [],
   "source": [
    "# Create Point shapefile for the nodes \n",
    "nodes = []\n",
    "\n",
    "# Iterate over the node lists and add each node to the dictionary\n",
    "for node_id, x, y in zip(node_ids, x_coord, y_coord):\n",
    "    nodes.append({'node_id': node_id, 'x': x, 'y': y})\n",
    "\n",
    "points = [Point(node['x'], node['y']) for node in nodes]\n",
    "\n",
    "nodes_shapefile = gpd.GeoDataFrame(nodes, geometry=points)\n",
    "nodes_shapefile.crs = {'init': zoning.crs}\n",
    "nodes_shapefile.to_file(node_shapefile_path)\n"
   ]
  },
  {
   "cell_type": "code",
   "execution_count": null,
   "metadata": {},
   "outputs": [],
   "source": [
    "# Create Line shapefile for the links \n",
    "links = []\n",
    "lines = []\n",
    "\n",
    "for link_id, from_id, to_id in zip(link_ids, from_node_ids, to_node_ids):\n",
    "    links.append({'link_id': link_id, 'from_node_id': from_id, 'to_node_id': to_id})\n",
    "    from_node = [node for node in nodes if node['node_id'] == from_id][0]\n",
    "    to_node = [node for node in nodes if node['node_id'] == to_id][0]\n",
    "    line = LineString([(from_node['x'], from_node['y']), (to_node['x'], to_node['y'])])\n",
    "    lines.append(line)\n",
    "\n",
    "links_shapefile = gpd.GeoDataFrame(links, geometry=lines)\n",
    "links_shapefile.crs = {'init': zoning.crs}\n",
    "links_shapefile.to_file(link_shapefile_path)"
   ]
  },
  {
   "attachments": {},
   "cell_type": "markdown",
   "metadata": {},
   "source": [
    "    Congratulations, you have been able to export everything you need to QGIS, needed to find accurate cordon- or zone-based tolling schemes!"
   ]
  }
 ],
 "metadata": {
  "kernelspec": {
   "display_name": "dyntapyIP2",
   "language": "python",
   "name": "python3"
  },
  "language_info": {
   "codemirror_mode": {
    "name": "ipython",
    "version": 3
   },
   "file_extension": ".py",
   "mimetype": "text/x-python",
   "name": "python",
   "nbconvert_exporter": "python",
   "pygments_lexer": "ipython3",
   "version": "3.9.13"
  },
  "orig_nbformat": 4
 },
 "nbformat": 4,
 "nbformat_minor": 2
}
