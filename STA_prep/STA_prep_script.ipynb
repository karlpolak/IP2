{
 "cells": [
  {
   "cell_type": "code",
   "execution_count": null,
   "metadata": {},
   "outputs": [],
   "source": [
    "import STA\n",
    "place = \"BRUSSEL\" # CAPS\n",
    "buffer_N = 35\n",
    "buffer_D = buffer_N\n",
    "buffer_transit = 45\n",
    "D_sup=1 # kms, use in the range 0-1 (res:0.1) if you want to include some boundary zones\n",
    "time_of_day = 9\n",
    "ext = 0 # 0 for only internal, 1 for taking external demand w/o transit, 2 for external with transit\n",
    "STA.STA_initial_setup(place, buffer_D,buffer_N,buffer_transit, D_sup, time_of_day, ext)\n"
   ]
  }
 ],
 "metadata": {
  "kernelspec": {
   "display_name": "Python 3.9.13 ('dyntapy')",
   "language": "python",
   "name": "python3"
  },
  "language_info": {
   "codemirror_mode": {
    "name": "ipython",
    "version": 3
   },
   "file_extension": ".py",
   "mimetype": "text/x-python",
   "name": "python",
   "nbconvert_exporter": "python",
   "pygments_lexer": "ipython3",
   "version": "3.9.13"
  },
  "orig_nbformat": 4,
  "vscode": {
   "interpreter": {
    "hash": "d6f8d2479e3cb972d7d32129f6b3d6173253b26a3e35e24507c8792e54fbb854"
   }
  }
 },
 "nbformat": 4,
 "nbformat_minor": 2
}
