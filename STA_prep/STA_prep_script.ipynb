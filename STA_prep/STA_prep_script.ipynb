{
 "cells": [
  {
   "cell_type": "code",
   "execution_count": 5,
   "metadata": {},
   "outputs": [
    {
     "name": "stdout",
     "output_type": "stream",
     "text": [
      "shapefile has been found as shapefile_data/BRUSSEL_25_10\n",
      "osmfile has been found as network_data/BRUSSEL_25.osm\n",
      "full_od_matrix has been found as od_matrix_data/full_matrices/full_belgium_od_matrix_9.txt\n",
      "reduced_od_matrix has been found as od_matrix_data/BRUSSEL_25_9_.xlsx\n",
      "All three/four files have been saved (if not already present): osm file for network, reduced shapefile, reduced OD Matrix in excel\n"
     ]
    }
   ],
   "source": [
    "import STA\n",
    "place = \"BRUSSEL\" # CAPS\n",
    "buffer_N = 40\n",
    "buffer_D = buffer_N\n",
    "buffer_transit = 25\n",
    "D_sup=1 # kms, use in the range 0-1 (res:0.1) if you want to include some boundary zones\n",
    "time_of_day = 9\n",
    "ext = 0 # 0 for only internal, 1 for taking external demand w/o transit, 2 for external with transit\n",
    "STA.STA_initial_setup(place, buffer_D,buffer_N,buffer_transit, D_sup, time_of_day, ext)\n"
   ]
  }
 ],
 "metadata": {
  "kernelspec": {
   "display_name": "Python 3.9.13 ('dyntapy': conda)",
   "language": "python",
   "name": "python3"
  },
  "language_info": {
   "codemirror_mode": {
    "name": "ipython",
    "version": 3
   },
   "file_extension": ".py",
   "mimetype": "text/x-python",
   "name": "python",
   "nbconvert_exporter": "python",
   "pygments_lexer": "ipython3",
   "version": "3.9.13"
  },
  "orig_nbformat": 4,
  "vscode": {
   "interpreter": {
    "hash": "33c1dbca894d8e507bb19ed2e29ce9cbb8d51ed396f70378c2202a4a7a4d784b"
   }
  }
 },
 "nbformat": 4,
 "nbformat_minor": 2
}
