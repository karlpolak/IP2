{
 "cells": [
  {
   "cell_type": "code",
   "execution_count": null,
   "metadata": {},
   "outputs": [],
   "source": [
    "import STA\n",
    "place = \"BRUSSEL\" # CAPS\n",
    "buffer_N = 3\n",
    "buffer_D = buffer_N\n",
    "buffer_transit = 45\n",
    "D_sup=1 # kms, use in the range 0-1 (res:0.1) if you want to include some boundary zones\n",
    "time_of_day = 9\n",
    "ext = 2 # 0 for only internal, 1 for taking external demand w/o transit, 2 for external with transit\n",
    "STA.STA_initial_setup(place, buffer_D,buffer_N,buffer_transit, D_sup, time_of_day, ext)\n"
   ]
  }
 ],
 "metadata": {
  "kernelspec": {
   "display_name": "Python 3.9.13 ('dyntapy')",
   "language": "python",
   "name": "python3"
  },
  "language_info": {
   "name": "python",
   "version": "3.9.13"
  },
  "orig_nbformat": 4,
  "vscode": {
   "interpreter": {
    "hash": "33c1dbca894d8e507bb19ed2e29ce9cbb8d51ed396f70378c2202a4a7a4d784b"
   }
  }
 },
 "nbformat": 4,
 "nbformat_minor": 2
}
