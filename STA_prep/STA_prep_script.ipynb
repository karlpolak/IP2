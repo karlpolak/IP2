{
 "cells": [
  {
   "cell_type": "code",
   "execution_count": 4,
   "metadata": {},
   "outputs": [
    {
     "name": "stdout",
     "output_type": "stream",
     "text": [
      "shapefile has been found as shapefile_data\\BRUSSEL_10_10\n",
      "osmfile has been found as network_data\\BRUSSEL_10.osm\n",
      "full_od_matrix has been found as od_matrix_data\\full_matrices\\full_belgium_od_matrix_9.txt\n",
      "Demand successfully extracted for city='BRUSSEL'\n",
      "reduced_od_matrix_ext_tr has been saved as od_matrix_data_ext_tr\\BRUSSEL_ext_tr_10_9_10.xlsx\n",
      "All three/four files have been saved (if not already present): osm file for network, reduced shapefile, reduced OD Matrix in excel\n"
     ]
    }
   ],
   "source": [
    "import STA\n",
    "place = \"BRUSSEL\" # CAPS\n",
    "buffer_N = 10\n",
    "buffer_D = buffer_N\n",
    "buffer_transit = 25\n",
    "D_sup=1 # kms, use in the range 0-1 (res:0.1) if you want to include some boundary zones\n",
    "time_of_day = 9\n",
    "ext = 2 # 0 for only internal, 1 for taking external demand w/o transit, 2 for external with transit\n",
    "STA.STA_initial_setup(place, buffer_D,buffer_N,buffer_transit, D_sup, time_of_day, ext)\n"
   ]
  }
 ],
 "metadata": {
  "kernelspec": {
   "display_name": "Python 3.10.4 64-bit",
   "language": "python",
   "name": "python3"
  },
  "language_info": {
   "codemirror_mode": {
    "name": "ipython",
    "version": 3
   },
   "file_extension": ".py",
   "mimetype": "text/x-python",
   "name": "python",
   "nbconvert_exporter": "python",
   "pygments_lexer": "ipython3",
   "version": "3.10.4"
  },
  "orig_nbformat": 4,
  "vscode": {
   "interpreter": {
    "hash": "cbc30c21729020b2c579b121c3a0cc33347dadeb23c7f538b317ed88d6fd945f"
   }
  }
 },
 "nbformat": 4,
 "nbformat_minor": 2
}
