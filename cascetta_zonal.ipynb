{
 "cells": [
  {
   "cell_type": "code",
   "execution_count": 1,
   "metadata": {},
   "outputs": [],
   "source": [
    "import warnings\n",
    "warnings.filterwarnings('ignore') # hide warnings\n",
    "import numpy as np\n",
    "import sys\n",
    "sys.path.append(\"..\")\n",
    "\n",
    "from dyntapy.supply_data import get_toy_network, relabel_graph\n",
    "from dyntapy.demand_data import add_centroids, od_graph_from_matrix\n",
    "from dyntapy.assignments import StaticAssignment\n",
    "from dyntapy.visualization import show_network, show_demand"
   ]
  },
  {
   "cell_type": "code",
   "execution_count": 2,
   "metadata": {},
   "outputs": [],
   "source": [
    "g = get_toy_network('cascetta')\n",
    "\n",
    "centroid_x = np.array([2+np.sqrt(2), 5, np.sqrt(2)])\n",
    "centroid_y = np.array([-0.5, np.sqrt(2), np.sqrt(2)])\n",
    "g = add_centroids(g, centroid_x, centroid_y, euclidean=True)\n",
    "# also adds connectors automatically\n",
    "g = relabel_graph(g)  # adding link and node ids, connectors and centroids\n",
    "# are the first elements\n",
    "show_network(g, euclidean=True)\n",
    "od_matrix = np.zeros(9).reshape((3, 3))\n",
    "od_matrix[0, 1] = 100\n",
    "od_matrix[2, 1] = 100\n",
    "od_graph = od_graph_from_matrix(od_matrix, centroid_x, centroid_y)\n",
    "show_demand(od_graph, euclidean=True, notebook=True)"
   ]
  },
  {
   "cell_type": "code",
   "execution_count": 3,
   "metadata": {},
   "outputs": [
    {
     "name": "stdout",
     "output_type": "stream",
     "text": [
      "init passed successfully\n"
     ]
    },
    {
     "data": {
      "application/javascript": "(function(root) {\n  function now() {\n    return new Date();\n  }\n\n  const force = true;\n\n  if (typeof root._bokeh_onload_callbacks === \"undefined\" || force === true) {\n    root._bokeh_onload_callbacks = [];\n    root._bokeh_is_loading = undefined;\n  }\n\nconst JS_MIME_TYPE = 'application/javascript';\n  const HTML_MIME_TYPE = 'text/html';\n  const EXEC_MIME_TYPE = 'application/vnd.bokehjs_exec.v0+json';\n  const CLASS_NAME = 'output_bokeh rendered_html';\n\n  /**\n   * Render data to the DOM node\n   */\n  function render(props, node) {\n    const script = document.createElement(\"script\");\n    node.appendChild(script);\n  }\n\n  /**\n   * Handle when an output is cleared or removed\n   */\n  function handleClearOutput(event, handle) {\n    const cell = handle.cell;\n\n    const id = cell.output_area._bokeh_element_id;\n    const server_id = cell.output_area._bokeh_server_id;\n    // Clean up Bokeh references\n    if (id != null && id in Bokeh.index) {\n      Bokeh.index[id].model.document.clear();\n      delete Bokeh.index[id];\n    }\n\n    if (server_id !== undefined) {\n      // Clean up Bokeh references\n      const cmd_clean = \"from bokeh.io.state import curstate; print(curstate().uuid_to_server['\" + server_id + \"'].get_sessions()[0].document.roots[0]._id)\";\n      cell.notebook.kernel.execute(cmd_clean, {\n        iopub: {\n          output: function(msg) {\n            const id = msg.content.text.trim();\n            if (id in Bokeh.index) {\n              Bokeh.index[id].model.document.clear();\n              delete Bokeh.index[id];\n            }\n          }\n        }\n      });\n      // Destroy server and session\n      const cmd_destroy = \"import bokeh.io.notebook as ion; ion.destroy_server('\" + server_id + \"')\";\n      cell.notebook.kernel.execute(cmd_destroy);\n    }\n  }\n\n  /**\n   * Handle when a new output is added\n   */\n  function handleAddOutput(event, handle) {\n    const output_area = handle.output_area;\n    const output = handle.output;\n\n    // limit handleAddOutput to display_data with EXEC_MIME_TYPE content only\n    if ((output.output_type != \"display_data\") || (!Object.prototype.hasOwnProperty.call(output.data, EXEC_MIME_TYPE))) {\n      return\n    }\n\n    const toinsert = output_area.element.find(\".\" + CLASS_NAME.split(' ')[0]);\n\n    if (output.metadata[EXEC_MIME_TYPE][\"id\"] !== undefined) {\n      toinsert[toinsert.length - 1].firstChild.textContent = output.data[JS_MIME_TYPE];\n      // store reference to embed id on output_area\n      output_area._bokeh_element_id = output.metadata[EXEC_MIME_TYPE][\"id\"];\n    }\n    if (output.metadata[EXEC_MIME_TYPE][\"server_id\"] !== undefined) {\n      const bk_div = document.createElement(\"div\");\n      bk_div.innerHTML = output.data[HTML_MIME_TYPE];\n      const script_attrs = bk_div.children[0].attributes;\n      for (let i = 0; i < script_attrs.length; i++) {\n        toinsert[toinsert.length - 1].firstChild.setAttribute(script_attrs[i].name, script_attrs[i].value);\n        toinsert[toinsert.length - 1].firstChild.textContent = bk_div.children[0].textContent\n      }\n      // store reference to server id on output_area\n      output_area._bokeh_server_id = output.metadata[EXEC_MIME_TYPE][\"server_id\"];\n    }\n  }\n\n  function register_renderer(events, OutputArea) {\n\n    function append_mime(data, metadata, element) {\n      // create a DOM node to render to\n      const toinsert = this.create_output_subarea(\n        metadata,\n        CLASS_NAME,\n        EXEC_MIME_TYPE\n      );\n      this.keyboard_manager.register_events(toinsert);\n      // Render to node\n      const props = {data: data, metadata: metadata[EXEC_MIME_TYPE]};\n      render(props, toinsert[toinsert.length - 1]);\n      element.append(toinsert);\n      return toinsert\n    }\n\n    /* Handle when an output is cleared or removed */\n    events.on('clear_output.CodeCell', handleClearOutput);\n    events.on('delete.Cell', handleClearOutput);\n\n    /* Handle when a new output is added */\n    events.on('output_added.OutputArea', handleAddOutput);\n\n    /**\n     * Register the mime type and append_mime function with output_area\n     */\n    OutputArea.prototype.register_mime_type(EXEC_MIME_TYPE, append_mime, {\n      /* Is output safe? */\n      safe: true,\n      /* Index of renderer in `output_area.display_order` */\n      index: 0\n    });\n  }\n\n  // register the mime type if in Jupyter Notebook environment and previously unregistered\n  if (root.Jupyter !== undefined) {\n    const events = require('base/js/events');\n    const OutputArea = require('notebook/js/outputarea').OutputArea;\n\n    if (OutputArea.prototype.mime_types().indexOf(EXEC_MIME_TYPE) == -1) {\n      register_renderer(events, OutputArea);\n    }\n  }\n  if (typeof (root._bokeh_timeout) === \"undefined\" || force === true) {\n    root._bokeh_timeout = Date.now() + 5000;\n    root._bokeh_failed_load = false;\n  }\n\n  const NB_LOAD_WARNING = {'data': {'text/html':\n     \"<div style='background-color: #fdd'>\\n\"+\n     \"<p>\\n\"+\n     \"BokehJS does not appear to have successfully loaded. If loading BokehJS from CDN, this \\n\"+\n     \"may be due to a slow or bad network connection. Possible fixes:\\n\"+\n     \"</p>\\n\"+\n     \"<ul>\\n\"+\n     \"<li>re-rerun `output_notebook()` to attempt to load from CDN again, or</li>\\n\"+\n     \"<li>use INLINE resources instead, as so:</li>\\n\"+\n     \"</ul>\\n\"+\n     \"<code>\\n\"+\n     \"from bokeh.resources import INLINE\\n\"+\n     \"output_notebook(resources=INLINE)\\n\"+\n     \"</code>\\n\"+\n     \"</div>\"}};\n\n  function display_loaded() {\n    const el = document.getElementById(null);\n    if (el != null) {\n      el.textContent = \"BokehJS is loading...\";\n    }\n    if (root.Bokeh !== undefined) {\n      if (el != null) {\n        el.textContent = \"BokehJS \" + root.Bokeh.version + \" successfully loaded.\";\n      }\n    } else if (Date.now() < root._bokeh_timeout) {\n      setTimeout(display_loaded, 100)\n    }\n  }\n\n  function run_callbacks() {\n    try {\n      root._bokeh_onload_callbacks.forEach(function(callback) {\n        if (callback != null)\n          callback();\n      });\n    } finally {\n      delete root._bokeh_onload_callbacks\n    }\n    console.debug(\"Bokeh: all callbacks have finished\");\n  }\n\n  function load_libs(css_urls, js_urls, callback) {\n    if (css_urls == null) css_urls = [];\n    if (js_urls == null) js_urls = [];\n\n    root._bokeh_onload_callbacks.push(callback);\n    if (root._bokeh_is_loading > 0) {\n      console.debug(\"Bokeh: BokehJS is being loaded, scheduling callback at\", now());\n      return null;\n    }\n    if (js_urls == null || js_urls.length === 0) {\n      run_callbacks();\n      return null;\n    }\n    console.debug(\"Bokeh: BokehJS not loaded, scheduling load and callback at\", now());\n    root._bokeh_is_loading = css_urls.length + js_urls.length;\n\n    function on_load() {\n      root._bokeh_is_loading--;\n      if (root._bokeh_is_loading === 0) {\n        console.debug(\"Bokeh: all BokehJS libraries/stylesheets loaded\");\n        run_callbacks()\n      }\n    }\n\n    function on_error(url) {\n      console.error(\"failed to load \" + url);\n    }\n\n    for (let i = 0; i < css_urls.length; i++) {\n      const url = css_urls[i];\n      const element = document.createElement(\"link\");\n      element.onload = on_load;\n      element.onerror = on_error.bind(null, url);\n      element.rel = \"stylesheet\";\n      element.type = \"text/css\";\n      element.href = url;\n      console.debug(\"Bokeh: injecting link tag for BokehJS stylesheet: \", url);\n      document.body.appendChild(element);\n    }\n\n    for (let i = 0; i < js_urls.length; i++) {\n      const url = js_urls[i];\n      const element = document.createElement('script');\n      element.onload = on_load;\n      element.onerror = on_error.bind(null, url);\n      element.async = false;\n      element.src = url;\n      console.debug(\"Bokeh: injecting script tag for BokehJS library: \", url);\n      document.head.appendChild(element);\n    }\n  };\n\n  function inject_raw_css(css) {\n    const element = document.createElement(\"style\");\n    element.appendChild(document.createTextNode(css));\n    document.body.appendChild(element);\n  }\n\n  const js_urls = [\"https://cdn.bokeh.org/bokeh/release/bokeh-2.4.3.min.js\", \"https://cdn.bokeh.org/bokeh/release/bokeh-gl-2.4.3.min.js\", \"https://cdn.bokeh.org/bokeh/release/bokeh-widgets-2.4.3.min.js\", \"https://cdn.bokeh.org/bokeh/release/bokeh-tables-2.4.3.min.js\", \"https://cdn.bokeh.org/bokeh/release/bokeh-mathjax-2.4.3.min.js\"];\n  const css_urls = [];\n\n  const inline_js = [    function(Bokeh) {\n      Bokeh.set_log_level(\"info\");\n    },\nfunction(Bokeh) {\n    }\n  ];\n\n  function run_inline_js() {\n    if (root.Bokeh !== undefined || force === true) {\n          for (let i = 0; i < inline_js.length; i++) {\n      inline_js[i].call(root, root.Bokeh);\n    }\n} else if (Date.now() < root._bokeh_timeout) {\n      setTimeout(run_inline_js, 100);\n    } else if (!root._bokeh_failed_load) {\n      console.log(\"Bokeh: BokehJS failed to load within specified timeout.\");\n      root._bokeh_failed_load = true;\n    } else if (force !== true) {\n      const cell = $(document.getElementById(null)).parents('.cell').data().cell;\n      cell.output_area.append_execute_result(NB_LOAD_WARNING)\n    }\n  }\n\n  if (root._bokeh_is_loading === 0) {\n    console.debug(\"Bokeh: BokehJS loaded, going straight to plotting\");\n    run_inline_js();\n  } else {\n    load_libs(css_urls, js_urls, function() {\n      console.debug(\"Bokeh: BokehJS plotting callback run at\", now());\n      run_inline_js();\n    });\n  }\n}(window));",
      "application/vnd.bokehjs_load.v0+json": ""
     },
     "metadata": {},
     "output_type": "display_data"
    },
    {
     "data": {
      "text/html": [
       "\n",
       "  <div class=\"bk-root\" id=\"ecaf000e-4746-4ec8-8a64-93f642c80bb6\" data-root-id=\"1421\"></div>\n"
      ]
     },
     "metadata": {},
     "output_type": "display_data"
    },
    {
     "data": {
      "application/javascript": "(function(root) {\n  function embed_document(root) {\n  const docs_json = {\"97262ac4-3837-4051-9648-03e55581dd67\":{\"defs\":[],\"roots\":{\"references\":[{\"attributes\":{\"aspect_ratio\":1,\"below\":[{\"id\":\"1430\"}],\"center\":[{\"id\":\"1433\"},{\"id\":\"1437\"}],\"height\":800,\"left\":[{\"id\":\"1434\"}],\"renderers\":[{\"id\":\"1455\"}],\"title\":{\"id\":\"1452\"},\"toolbar\":{\"id\":\"1445\"},\"toolbar_location\":\"below\",\"width\":800,\"x_range\":{\"id\":\"1422\"},\"x_scale\":{\"id\":\"1426\"},\"y_range\":{\"id\":\"1424\"},\"y_scale\":{\"id\":\"1428\"}},\"id\":\"1421\",\"subtype\":\"Figure\",\"type\":\"Plot\"},{\"attributes\":{},\"id\":\"1439\",\"type\":\"WheelZoomTool\"},{\"attributes\":{\"tools\":[{\"id\":\"1438\"},{\"id\":\"1439\"},{\"id\":\"1440\"},{\"id\":\"1441\"},{\"id\":\"1442\"},{\"id\":\"1443\"},{\"id\":\"1457\"}]},\"id\":\"1445\",\"type\":\"Toolbar\"},{\"attributes\":{\"coordinates\":null,\"group\":null,\"text\":\"network_plot\"},\"id\":\"1452\",\"type\":\"Title\"},{\"attributes\":{},\"id\":\"1463\",\"type\":\"AllLabels\"},{\"attributes\":{\"bottom_units\":\"screen\",\"coordinates\":null,\"fill_alpha\":0.5,\"fill_color\":\"lightgrey\",\"group\":null,\"left_units\":\"screen\",\"level\":\"overlay\",\"line_alpha\":1.0,\"line_color\":\"black\",\"line_dash\":[4,4],\"line_width\":2,\"right_units\":\"screen\",\"syncable\":false,\"top_units\":\"screen\"},\"id\":\"1444\",\"type\":\"BoxAnnotation\"},{\"attributes\":{},\"id\":\"1428\",\"type\":\"LinearScale\"},{\"attributes\":{},\"id\":\"1465\",\"type\":\"BasicTickFormatter\"},{\"attributes\":{\"data\":{\"capacity\":[10000.0,10000.0,10000.0,2000.0,2000.0,10000.0,500.0,2000.0,2000.0,500.0,500.0,2000.0,10000.0,500.0,2000.0,10000.0,10000.0,10000.0,10000.0,10000.0,10000.0,10000.0],\"color\":[\"#0eff00\",\" #f2f4f4\",\"#0eff00\",\" #f2f4f4\",\"#25ff00\",\" #f2f4f4\",\" #f2f4f4\",\" #f2f4f4\",\" #f2f4f4\",\"#d7ff00\",\" #f2f4f4\",\" #f2f4f4\",\" #f2f4f4\",\" #f2f4f4\",\" #f2f4f4\",\"#14ff00\",\" #f2f4f4\",\"#0eff00\",\"#14ff00\",\" #f2f4f4\",\" #f2f4f4\",\"#0eff00\"],\"connector\":[true,true,true,\"None\",\"None\",true,\"None\",\"None\",\"None\",\"None\",\"None\",\"None\",true,\"None\",\"None\",true,true,true,true,true,true,true],\"facility_type\":[\"None\",\"None\",\"None\",\"None\",\"None\",\"None\",\"None\",\"None\",\"None\",\"None\",\"None\",\"None\",\"None\",\"None\",\"None\",\"None\",\"None\",\"None\",\"None\",\"None\",\"None\",\"None\"],\"flow\":{\"__ndarray__\":\"AAAAAAAAWUAAAAAAAAAAAAAAAAAAAFlAAAAAAAAAAAAAAAAAAABZQAAAAAAAAAAAAAAAAAAAAAAAAAAAAAAAAAAAAAAAAAAAAAAAAAAAaUAAAAAAAAAAAAAAAAAAAAAAAAAAAAAAAAAAAAAAAAAAAAAAAAAAAAAAAAAAAAAAaUAAAAAAAAAAAAAAAAAAAFlAAAAAAAAAaUAAAAAAAAAAAAAAAAAAAAAAAAAAAAAAWUA=\",\"dtype\":\"float64\",\"order\":\"little\",\"shape\":[22]},\"free_speed\":[200.0,200.0,200.0,80,80,200.0,120,80,80,120,120,80,200.0,120,80,200.0,200.0,200.0,200.0,200.0,200.0,200.0],\"from_node_id\":[0,1,2,3,3,3,4,4,4,5,5,5,5,6,6,6,7,7,8,8,9,9],\"length\":[0.1,0.1,0.1,2.0,2.0,0.0005857864376269049,2.8284271247461903,2.0,2.0,2.0,2.8284271247461903,2.0,0.0005,2.0,2.0,0.00017157287525381015,0.1,0.0005,0.1,0.00017157287525381015,0.1,0.0005857864376269049],\"link_id\":[0,1,2,3,4,5,6,7,8,9,10,11,12,13,14,15,16,17,18,19,20,21],\"name\":[\"None\",\"None\",\"None\",\"None\",\"None\",\"None\",\"None\",\"None\",\"None\",\"None\",\"None\",\"None\",\"None\",\"None\",\"None\",\"None\",\"None\",\"None\",\"None\",\"None\",\"None\",\"None\"],\"to_node_id\":[7,8,9,4,5,9,5,6,3,6,4,3,7,5,4,8,0,5,1,6,2,3],\"x\":[[3.414213562373095,3.414213562373095,3.4703915475673766,3.4703915475673766,3.414213562373095],[5.0,5.0,5.0129641504294495,5.0129641504294495,5.0],[1.4142135623730951,1.4142135623730951,1.4703915475673766,1.4703915475673766,1.4142135623730951],[2.0,3.414213562373095,3.423380601054081,2.009167038680986,2.0],[2.0,3.414213562373095,3.374489728088821,1.9602761657157262,2.0],[2.0,1.4142135623730951,1.4163951219079585,2.002181559534863,2.0],[3.414213562373095,3.414213562373095,3.4012494119436454,3.4012494119436454,3.414213562373095],[3.414213562373095,4.82842712474619,4.819260086065204,3.405046523692109,3.414213562373095],[3.414213562373095,2.0,1.9908329613190137,3.405046523692109,3.414213562373095],[3.414213562373095,4.82842712474619,4.889540715952765,3.47532715357967,3.414213562373095],[3.414213562373095,3.414213562373095,3.4271777128025445,3.4271777128025445,3.414213562373095],[3.414213562373095,2.0,2.009167038680986,3.423380601054081,3.414213562373095],[3.414213562373095,3.414213562373095,3.4012494119436454,3.4012494119436454,3.414213562373095],[4.82842712474619,3.414213562373095,3.405046523692109,4.819260086065204,4.82842712474619],[4.82842712474619,3.414213562373095,3.423380601054081,4.837594163427176,4.82842712474619],[4.82842712474619,5.0,5.043521061805231,4.871948186551421,4.82842712474619],[3.414213562373095,3.414213562373095,3.4012494119436454,3.4012494119436454,3.414213562373095],[3.414213562373095,3.414213562373095,3.4703915475673766,3.4703915475673766,3.414213562373095],[5.0,5.0,4.913572330470337,4.913572330470337,5.0],[5.0,4.82842712474619,4.821898965475405,4.993471840729216,5.0],[1.4142135623730951,1.4142135623730951,1.4012494119436456,1.4012494119436456,1.4142135623730951],[1.4142135623730951,2.0,1.9905465753489258,1.404760137722021,1.4142135623730951]],\"y\":[[-0.5,-0.4,-0.4,-0.5,-0.5],[1.4142135623730951,1.5142135623730952,1.5142135623730952,1.4142135623730951,1.4142135623730951],[1.4142135623730951,1.5142135623730952,1.5142135623730952,1.4142135623730951,1.4142135623730951],[1.4142135623730951,2.8284271247461903,2.819260086065204,1.4050465236921088,1.4142135623730951],[1.4142135623730951,0.0,-0.03972383428427385,1.3744897280888213,1.4142135623730951],[1.4142135623730951,1.5142135623730952,1.526992842257081,1.426992842257081,1.4142135623730951],[2.8284271247461903,0.0,0.0,2.8284271247461903,2.8284271247461903],[2.8284271247461903,1.4142135623730951,1.4050465236921088,2.819260086065204,2.8284271247461903],[2.8284271247461903,1.4142135623730951,1.4233806010540815,2.8375941634271764,2.8284271247461903],[0.0,1.4142135623730951,1.35309997116652,-0.06111359120657515,0.0],[0.0,2.8284271247461903,2.8284271247461903,0.0,0.0],[0.0,1.4142135623730951,1.4233806010540815,0.009167038680986271,0.0],[0.0,-0.4,-0.4,0.0,0.0],[1.4142135623730951,0.0,0.009167038680986271,1.4233806010540815,1.4142135623730951],[1.4142135623730951,2.8284271247461903,2.8375941634271764,1.4233806010540815,1.4142135623730951],[1.4142135623730951,1.5142135623730952,1.4395432252928728,1.3395432252928727,1.4142135623730951],[-0.4,-0.5,-0.5,-0.4,-0.4],[-0.4,0.0,0.0,-0.4,-0.4],[1.5142135623730952,1.4142135623730951,1.4142135623730951,1.5142135623730952,1.5142135623730952],[1.5142135623730952,1.4142135623730951,1.4254141129351285,1.5254141129351286,1.5142135623730952],[1.5142135623730952,1.4142135623730951,1.4142135623730951,1.5142135623730952,1.5142135623730952],[1.5142135623730952,1.4142135623730951,1.3588366828758234,1.4588366828758235,1.5142135623730952]]},\"selected\":{\"id\":\"1468\"},\"selection_policy\":{\"id\":\"1467\"}},\"id\":\"1453\",\"type\":\"ColumnDataSource\"},{\"attributes\":{},\"id\":\"1462\",\"type\":\"BasicTickFormatter\"},{\"attributes\":{\"axis\":{\"id\":\"1430\"},\"coordinates\":null,\"group\":null,\"ticker\":null},\"id\":\"1433\",\"type\":\"Grid\"},{\"attributes\":{\"coordinates\":null,\"formatter\":{\"id\":\"1462\"},\"group\":null,\"major_label_policy\":{\"id\":\"1463\"},\"ticker\":{\"id\":\"1435\"}},\"id\":\"1434\",\"type\":\"LinearAxis\"},{\"attributes\":{\"callback\":null,\"description\":\"Link Hover Tool\",\"renderers\":[{\"id\":\"1455\"}],\"show_arrow\":false,\"tooltips\":[[\"link_id\",\"@link_id\"],[\"from_node_id\",\"@from_node_id\"],[\"to_node_id\",\"@to_node_id\"],[\"length\",\"@length\"],[\"capacity\",\"@capacity\"],[\"free_speed\",\"@free_speed\"],[\"name\",\"@name\"],[\"facility_type\",\"@facility_type\"],[\"connector\",\"@connector\"],[\"flow\",\"@flow{(0.00)}\"]]},\"id\":\"1457\",\"type\":\"HoverTool\"},{\"attributes\":{},\"id\":\"1426\",\"type\":\"LinearScale\"},{\"attributes\":{},\"id\":\"1466\",\"type\":\"AllLabels\"},{\"attributes\":{},\"id\":\"1435\",\"type\":\"BasicTicker\"},{\"attributes\":{\"coordinates\":null,\"formatter\":{\"id\":\"1465\"},\"group\":null,\"major_label_policy\":{\"id\":\"1466\"},\"ticker\":{\"id\":\"1431\"}},\"id\":\"1430\",\"type\":\"LinearAxis\"},{\"attributes\":{},\"id\":\"1468\",\"type\":\"Selection\"},{\"attributes\":{},\"id\":\"1467\",\"type\":\"UnionRenderers\"},{\"attributes\":{},\"id\":\"1431\",\"type\":\"BasicTicker\"},{\"attributes\":{\"source\":{\"id\":\"1453\"}},\"id\":\"1456\",\"type\":\"CDSView\"},{\"attributes\":{\"overlay\":{\"id\":\"1444\"}},\"id\":\"1440\",\"type\":\"BoxZoomTool\"},{\"attributes\":{},\"id\":\"1424\",\"type\":\"DataRange1d\"},{\"attributes\":{},\"id\":\"1443\",\"type\":\"HelpTool\"},{\"attributes\":{\"fill_alpha\":{\"value\":0.8},\"fill_color\":{\"field\":\"color\"},\"line_alpha\":{\"value\":0.8},\"xs\":{\"field\":\"x\"},\"ys\":{\"field\":\"y\"}},\"id\":\"1454\",\"type\":\"Patches\"},{\"attributes\":{},\"id\":\"1442\",\"type\":\"ResetTool\"},{\"attributes\":{},\"id\":\"1422\",\"type\":\"DataRange1d\"},{\"attributes\":{},\"id\":\"1441\",\"type\":\"SaveTool\"},{\"attributes\":{\"axis\":{\"id\":\"1434\"},\"coordinates\":null,\"dimension\":1,\"group\":null,\"ticker\":null},\"id\":\"1437\",\"type\":\"Grid\"},{\"attributes\":{\"coordinates\":null,\"data_source\":{\"id\":\"1453\"},\"glyph\":{\"id\":\"1454\"},\"group\":null,\"hover_glyph\":null,\"view\":{\"id\":\"1456\"}},\"id\":\"1455\",\"type\":\"GlyphRenderer\"},{\"attributes\":{},\"id\":\"1438\",\"type\":\"PanTool\"}],\"root_ids\":[\"1421\"]},\"title\":\"Bokeh Application\",\"version\":\"2.4.3\"}};\n  const render_items = [{\"docid\":\"97262ac4-3837-4051-9648-03e55581dd67\",\"root_ids\":[\"1421\"],\"roots\":{\"1421\":\"ecaf000e-4746-4ec8-8a64-93f642c80bb6\"}}];\n  root.Bokeh.embed.embed_items_notebook(docs_json, render_items);\n  }\n  if (root.Bokeh !== undefined) {\n    embed_document(root);\n  } else {\n    let attempts = 0;\n    const timer = setInterval(function(root) {\n      if (root.Bokeh !== undefined) {\n        clearInterval(timer);\n        embed_document(root);\n      } else {\n        attempts++;\n        if (attempts > 100) {\n          clearInterval(timer);\n          console.log(\"Bokeh: ERROR: Unable to run BokehJS code because BokehJS library is missing\");\n        }\n      }\n    }, 10, root)\n  }\n})(window);",
      "application/vnd.bokehjs_exec.v0+json": ""
     },
     "metadata": {
      "application/vnd.bokehjs_exec.v0+json": {
       "id": "1421"
      }
     },
     "output_type": "display_data"
    },
    {
     "name": "stdout",
     "output_type": "stream",
     "text": [
      "dial_b ran successfully\n"
     ]
    }
   ],
   "source": [
    "zone_tolling = True\n",
    "tolls = 0.05\n",
    "assignment = StaticAssignment(g,od_graph, tolls, zone_tolling)\n",
    "result = assignment.run('dial_b')\n",
    "show_network(g, flows = result.flows, notebook=True, show_nodes=False, euclidean=True)\n",
    "print('dial_b ran successfully')"
   ]
  },
  {
   "cell_type": "code",
   "execution_count": 4,
   "metadata": {},
   "outputs": [
    {
     "name": "stdout",
     "output_type": "stream",
     "text": [
      "[5.50000010e-03 5.50000010e-03 5.50000010e-03 1.25000000e-01\n",
      " 1.25000024e-01 3.22182530e-05 1.64991580e-01 1.25000000e-01\n",
      " 1.25000000e-01 1.16730668e-01 1.64991580e-01 1.25000000e-01\n",
      " 2.75000014e-05 1.16666668e-01 1.25000000e-01 9.43650797e-06\n",
      " 5.50000010e-03 2.75000014e-05 5.50000011e-03 9.43650795e-06\n",
      " 5.50000010e-03 3.22182530e-05]\n"
     ]
    }
   ],
   "source": [
    "print(result.link_costs)"
   ]
  },
  {
   "cell_type": "code",
   "execution_count": 5,
   "metadata": {},
   "outputs": [
    {
     "name": "stdout",
     "output_type": "stream",
     "text": [
      "init passed successfully\n"
     ]
    }
   ],
   "source": [
    "tolls = 0\n",
    "assignment = StaticAssignment(g,od_graph, tolls)\n",
    "result = assignment.run('dial_b')"
   ]
  },
  {
   "cell_type": "code",
   "execution_count": 6,
   "metadata": {},
   "outputs": [
    {
     "name": "stdout",
     "output_type": "stream",
     "text": [
      "[5.00000024e-04 5.00000024e-04 5.00000024e-04 2.50000004e-02\n",
      " 2.50000238e-02 2.92893219e-06 2.35702265e-02 2.50000004e-02\n",
      " 2.50000004e-02 1.67306675e-02 2.35702265e-02 2.50000004e-02\n",
      " 2.50000016e-06 1.66666675e-02 2.50000004e-02 8.57864357e-07\n",
      " 5.00000024e-04 2.50000017e-06 5.00000036e-04 8.57864336e-07\n",
      " 5.00000024e-04 2.92893219e-06]\n"
     ]
    }
   ],
   "source": [
    "print(result.link_costs)"
   ]
  },
  {
   "cell_type": "code",
   "execution_count": 7,
   "metadata": {},
   "outputs": [
    {
     "name": "stdout",
     "output_type": "stream",
     "text": [
      "init passed successfully\n"
     ]
    }
   ],
   "source": [
    "zone_tolling = True\n",
    "tolls = 200\n",
    "assignment = StaticAssignment(g,od_graph, tolls, zone_tolling)\n",
    "result = assignment.run('dial_b')"
   ]
  },
  {
   "cell_type": "code",
   "execution_count": 8,
   "metadata": {},
   "outputs": [
    {
     "name": "stdout",
     "output_type": "stream",
     "text": [
      "[2.00005003e+01 2.00005003e+01 2.00005003e+01 4.00025000e+02\n",
      " 4.00025000e+02 1.17160212e-01 5.65708985e+02 4.00025000e+02\n",
      " 4.00025000e+02 4.00016731e+02 5.65708985e+02 4.00025000e+02\n",
      " 1.00002505e-01 4.00016667e+02 4.00025000e+02 3.43154323e-02\n",
      " 2.00005003e+01 1.00002505e-01 2.00005003e+01 3.43154323e-02\n",
      " 2.00005003e+01 1.17160212e-01]\n"
     ]
    }
   ],
   "source": [
    "print(result.link_costs)"
   ]
  }
 ],
 "metadata": {
  "kernelspec": {
   "display_name": "Python 3.9.13 ('dyntapyIP2')",
   "language": "python",
   "name": "python3"
  },
  "language_info": {
   "codemirror_mode": {
    "name": "ipython",
    "version": 3
   },
   "file_extension": ".py",
   "mimetype": "text/x-python",
   "name": "python",
   "nbconvert_exporter": "python",
   "pygments_lexer": "ipython3",
   "version": "3.9.13"
  },
  "orig_nbformat": 4,
  "vscode": {
   "interpreter": {
    "hash": "9e95d76fc3f9d3fc30dc73a387f46f1f590ca9cd0ef0bb3b46e549844218cbac"
   }
  }
 },
 "nbformat": 4,
 "nbformat_minor": 2
}
