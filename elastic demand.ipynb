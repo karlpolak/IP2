{
 "cells": [
  {
   "cell_type": "code",
   "execution_count": null,
   "metadata": {},
   "outputs": [],
   "source": [
    "import warnings\n",
    "warnings.filterwarnings('ignore') # hide warnings\n",
    "import os\n",
    "import numpy as np\n",
    "import sys\n",
    "sys.path.append(\"..\")\n",
    "from pickle import dump\n",
    "from dyntapy.supply_data import get_toy_network, relabel_graph\n",
    "from dyntapy.demand_data import add_centroids, od_graph_from_matrix\n",
    "from dyntapy.visualization import show_network, show_demand"
   ]
  },
  {
   "cell_type": "code",
   "execution_count": null,
   "metadata": {},
   "outputs": [],
   "source": [
    "# Get network\n",
    "network = get_toy_network('two-route')\n",
    "centroid_x = np.array([-1, 3])\n",
    "centroid_y = np.array([2, 2])\n",
    "network = add_centroids(network, centroid_x, centroid_y, euclidean=True)\n",
    "network = relabel_graph(network) "
   ]
  },
  {
   "cell_type": "code",
   "execution_count": null,
   "metadata": {},
   "outputs": [],
   "source": [
    "# Initial OD to start iterating\n",
    "old_od = np.zeros(4).reshape((2, 2))\n",
    "old_od[0, 1] = 400\n",
    "old_graph = od_graph_from_matrix(old_od, centroid_x, centroid_y)\n",
    "show_network(network, euclidean=True, notebook= True)\n",
    "tolls = np.zeros(g.number_of_edges())"
   ]
  },
  {
   "cell_type": "code",
   "execution_count": null,
   "metadata": {},
   "outputs": [],
   "source": [
    "# A matrix\n",
    "\n",
    "# B matrix"
   ]
  },
  {
   "cell_type": "code",
   "execution_count": null,
   "metadata": {},
   "outputs": [],
   "source": [
    "i = 0\n",
    "while (new_od - old_od) < 0.05:\n",
    "    if i > 0:\n",
    "        # Perhaps MSA stap\n",
    "        old_od = new_od\n",
    "        old_graph =  od_graph_from_matrix(old_od, centroid_x, centroid_y)\n",
    "    assignment = StaticAssignment(g,old_graph, tolls)\n",
    "    result = assignment.run('dial_b')\n",
    "    skims = result.skim\n",
    "    \n",
    "    new_od = (A-skims)/B\n",
    "    \n",
    "    \n",
    "    i += i + 1"
   ]
  },
  {
   "cell_type": "code",
   "execution_count": null,
   "metadata": {},
   "outputs": [],
   "source": [
    "print(old_od)"
   ]
  },
  {
   "cell_type": "code",
   "execution_count": null,
   "metadata": {},
   "outputs": [],
   "source": [
    "print(new_od)"
   ]
  }
 ],
 "metadata": {
  "kernelspec": {
   "display_name": "dyntapyIP2",
   "language": "python",
   "name": "python3"
  },
  "language_info": {
   "name": "python",
   "version": "3.9.13 | packaged by conda-forge | (main, May 27 2022, 16:50:36) [MSC v.1929 64 bit (AMD64)]"
  },
  "orig_nbformat": 4,
  "vscode": {
   "interpreter": {
    "hash": "9e95d76fc3f9d3fc30dc73a387f46f1f590ca9cd0ef0bb3b46e549844218cbac"
   }
  }
 },
 "nbformat": 4,
 "nbformat_minor": 2
}
