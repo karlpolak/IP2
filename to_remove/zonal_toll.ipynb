{
 "cells": [
  {
   "cell_type": "code",
   "execution_count": 1,
   "metadata": {},
   "outputs": [],
   "source": [
    "import warnings\n",
    "warnings.filterwarnings('ignore') # hide warnings\n",
    "import os\n",
    "import pandas as pd\n",
    "import geopandas as gpd\n",
    "import numpy as np\n",
    "from dyntapy.supply_data import road_network_from_place, relabel_graph\n",
    "from dyntapy.demand_data import add_centroids, od_graph_from_matrix\n",
    "from dyntapy.assignments import StaticAssignment\n",
    "from dyntapy.visualization import show_network\n",
    "from pyproj import Proj, transform"
   ]
  },
  {
   "cell_type": "code",
   "execution_count": 2,
   "metadata": {},
   "outputs": [
    {
     "name": "stdout",
     "output_type": "stream",
     "text": [
      "composing\n",
      "retrieved network graph for Brussels, with 9548 nodes and 17306 edges after processing\n"
     ]
    }
   ],
   "source": [
    "# Creating the network for Brussels. \n",
    "\n",
    "# fill in these parameters \n",
    "# IMPORTANT: Use the same parameter values for the buffer as was done in STA_prep_script!\n",
    "ext = 0  # 0 or 2\n",
    "buffer = 40\n",
    "city = 'BRUSSEL'\n",
    "\n",
    "\n",
    "network = road_network_from_place(\"Brussels\", buffer_dist_close=buffer*1000)\n",
    "network = relabel_graph(network)"
   ]
  },
  {
   "cell_type": "code",
   "execution_count": 3,
   "metadata": {},
   "outputs": [
    {
     "name": "stdout",
     "output_type": "stream",
     "text": [
      "zoning path: C:\\Users\\anton\\IP2\\STA_prep\\shapefile_data\\BRUSSEL_40_10\\BRUSSEL_40_10.shp\n",
      "od path (if ext = 2): C:\\Users\\anton\\IP2\\STA_prep\\od_matrix_data_ext_tr\\BRUSSEL_ext_tr_40_9_10.xlsx\n",
      "od path (if ext = 0): C:\\Users\\anton\\IP2\\STA_prep\\od_matrix_data\\BRUSSEL_40_9_.xlsx\n"
     ]
    }
   ],
   "source": [
    "# string checks\n",
    "HERE = os.path.dirname(os.path.realpath(\"__file__\"))\n",
    "data_path = HERE + os.path.sep +'STA_prep'\n",
    "\n",
    "zoning_path = data_path + os.path.sep + \"shapefile_data\" + os.path.sep + city + \"_\" + str(buffer) + \"_10\" + os.path.sep + city + \"_\" + str(buffer) + \"_10.shp\"\n",
    "od_path2 = data_path + os.path.sep + \"od_matrix_data_ext_tr\" + os.path.sep + city + \"_ext_tr_\" + str(buffer) + \"_9_10.xlsx\"\n",
    "od_path0 = data_path + os.path.sep + \"od_matrix_data\" + os.path.sep + city + \"_\" + str(buffer) + \"_9_.xlsx\"\n",
    "\n",
    "print('zoning path: ' + zoning_path)\n",
    "print('od path (if ext = 2): ' + od_path2)\n",
    "print('od path (if ext = 0): ' + od_path0)"
   ]
  },
  {
   "cell_type": "code",
   "execution_count": 4,
   "metadata": {},
   "outputs": [],
   "source": [
    "# Read in the zoning file\n",
    "HERE = os.path.dirname(os.path.realpath(\"__file__\"))\n",
    "data_path = HERE + os.path.sep +'STA_prep'\n",
    "zoning_path = data_path + os.path.sep + \"shapefile_data\" + os.path.sep + city + \"_\" + str(buffer) + \"_10\" + os.path.sep + city + \"_\" + str(buffer) + \"_10.shp\"\n",
    "zoning = gpd.read_file(zoning_path) # Everything is now stored in a geopandas dataframe. \n",
    "\n",
    "# Retrieve zone number, x_centroid (LON) and y_centroid (LAT) from each zone. \n",
    "zone_numbers = zoning[\"ZONENUMMER\"]\n",
    "x_lamb = zoning[\"X_LAMB\"]\n",
    "x_lamb = x_lamb.to_numpy()\n",
    "y_lamb = zoning[\"Y_LAMB\"]\n",
    "y_lamb = y_lamb.to_numpy()\n",
    "\n",
    "# Project to correct CRS. \n",
    "inProj = Proj(init='epsg:31370')\n",
    "outProj = Proj(init='epsg:4326')\n",
    "x_centroids, y_centroids = transform(inProj,outProj,x_lamb,y_lamb)\n",
    "\n",
    "# Add the centroids to the network. Relabelling the graph is required (see demo for reason why)\n",
    "connector_type = 'link'\n",
    "network = add_centroids(network, x_centroids,y_centroids,k=1, method=connector_type)\n",
    "network = relabel_graph(network)"
   ]
  },
  {
   "cell_type": "code",
   "execution_count": 5,
   "metadata": {},
   "outputs": [],
   "source": [
    "# Read in the od matrix \n",
    "if ext == 2:\n",
    "    od_path = data_path + os.path.sep + \"od_matrix_data_ext_tr\" + os.path.sep + city + \"_ext_tr_\" + str(buffer) + \"_9_10.xlsx\"\n",
    "if ext == 0:\n",
    "    od_path = data_path + os.path.sep + \"od_matrix_data\" + os.path.sep + city + \"_\" + str(buffer) + \"_9_.xlsx\"\n",
    "\n",
    "od = pd.read_excel(od_path)\n",
    "od_array = od.to_numpy() # The OD matrix is now stored in a numpy array\n",
    "\n",
    "# Create OD graph and plot demand\n",
    "od_graph = od_graph_from_matrix(od_array,x_centroids,y_centroids) \n",
    "# demand plot is useless since there are too many OD-pairs "
   ]
  },
  {
   "cell_type": "code",
   "execution_count": 6,
   "metadata": {},
   "outputs": [
    {
     "name": "stdout",
     "output_type": "stream",
     "text": [
      "init passed successfully\n",
      "initial loading starts \n",
      "initial loading passed successfully\n"
     ]
    },
    {
     "ename": "AssertionError",
     "evalue": "",
     "output_type": "error",
     "traceback": [
      "\u001b[1;31m---------------------------------------------------------------------------\u001b[0m",
      "\u001b[1;31mAssertionError\u001b[0m                            Traceback (most recent call last)",
      "\u001b[1;32mc:\\Users\\anton\\IP2\\zonal_toll.ipynb Cell 6\u001b[0m in \u001b[0;36m6\n\u001b[0;32m      <a href='vscode-notebook-cell:/c%3A/Users/anton/IP2/zonal_toll.ipynb#W5sZmlsZQ%3D%3D?line=3'>4</a>\u001b[0m zone_toll_value \u001b[39m=\u001b[39m \u001b[39m0.05\u001b[39m\n\u001b[0;32m      <a href='vscode-notebook-cell:/c%3A/Users/anton/IP2/zonal_toll.ipynb#W5sZmlsZQ%3D%3D?line=4'>5</a>\u001b[0m assignment \u001b[39m=\u001b[39m StaticAssignment(network,od_graph, zone_toll_value, zone_tolling)\n\u001b[1;32m----> <a href='vscode-notebook-cell:/c%3A/Users/anton/IP2/zonal_toll.ipynb#W5sZmlsZQ%3D%3D?line=5'>6</a>\u001b[0m result \u001b[39m=\u001b[39m assignment\u001b[39m.\u001b[39mrun(\u001b[39m'\u001b[39m\u001b[39mdial_b\u001b[39m\u001b[39m'\u001b[39m)\n",
      "File \u001b[1;32mc:\\Users\\anton\\IP2\\dyntapy\\assignments.py:295\u001b[0m, in \u001b[0;36mStaticAssignment.run\u001b[1;34m(self, method, store_iterations, **kwargs)\u001b[0m\n\u001b[0;32m    292\u001b[0m \u001b[39m# assignment needs to return at least link_cost and flows, ideally also\u001b[39;00m\n\u001b[0;32m    293\u001b[0m \u001b[39m# multi-commodity (origin, destination or origin-destination)\u001b[39;00m\n\u001b[0;32m    294\u001b[0m \u001b[39mif\u001b[39;00m method \u001b[39m==\u001b[39m \u001b[39m\"\u001b[39m\u001b[39mdial_b\u001b[39m\u001b[39m\"\u001b[39m:\n\u001b[1;32m--> 295\u001b[0m     costs, origin_flows, gap_definition, gap \u001b[39m=\u001b[39m dial_b(\n\u001b[0;32m    296\u001b[0m         \u001b[39mself\u001b[39;49m\u001b[39m.\u001b[39;49minternal_network, \u001b[39mself\u001b[39;49m\u001b[39m.\u001b[39;49minternal_demand, store_iterations, \u001b[39mself\u001b[39;49m\u001b[39m.\u001b[39;49mtolls, \u001b[39mself\u001b[39;49m\u001b[39m.\u001b[39;49mzonal\n\u001b[0;32m    297\u001b[0m     )\n\u001b[0;32m    298\u001b[0m     flows \u001b[39m=\u001b[39m np\u001b[39m.\u001b[39msum(origin_flows, axis\u001b[39m=\u001b[39m\u001b[39m0\u001b[39m)\n\u001b[0;32m    299\u001b[0m     result \u001b[39m=\u001b[39m StaticResult(\n\u001b[0;32m    300\u001b[0m         costs,\n\u001b[0;32m    301\u001b[0m         flows,\n\u001b[1;32m   (...)\u001b[0m\n\u001b[0;32m    307\u001b[0m         origin_flows\u001b[39m=\u001b[39morigin_flows,\n\u001b[0;32m    308\u001b[0m     )\n",
      "File \u001b[1;32mc:\\Users\\anton\\IP2\\dyntapy\\sta\\equilibrate_bush.py:220\u001b[0m, in \u001b[0;36m__get_delta_flow_and_cost\u001b[1;34m()\u001b[0m\n\u001b[0;32m    218\u001b[0m \u001b[39melse\u001b[39;00m:\n\u001b[0;32m    219\u001b[0m     delta_f \u001b[39m=\u001b[39m \u001b[39m-\u001b[39mmin_path_flow\n\u001b[1;32m--> 220\u001b[0m \u001b[39massert\u001b[39;00m min_path_flow \u001b[39m>\u001b[39m\u001b[39m=\u001b[39m \u001b[39m0\u001b[39m\n\u001b[0;32m    221\u001b[0m \u001b[39mif\u001b[39;00m (max_path_derivative \u001b[39m+\u001b[39m min_path_derivative) \u001b[39m<\u001b[39m\u001b[39m=\u001b[39m \u001b[39m0\u001b[39m:\n\u001b[0;32m    222\u001b[0m     \u001b[39mif\u001b[39;00m min_path_cost \u001b[39m<\u001b[39m max_path_cost:\n",
      "\u001b[1;31mAssertionError\u001b[0m: "
     ]
    }
   ],
   "source": [
    "# The network, zoning file and od matrix have been correctly loaded and linked by now. \n",
    "# This means that we can now run an assignment on the real demand! \n",
    "zone_tolling = True\n",
    "zone_toll_value = 0.05\n",
    "assignment = StaticAssignment(network,od_graph, zone_toll_value, zone_tolling)\n",
    "result = assignment.run('dial_b')\n"
   ]
  },
  {
   "cell_type": "code",
   "execution_count": 7,
   "metadata": {},
   "outputs": [
    {
     "name": "stdout",
     "output_type": "stream",
     "text": [
      "init passed successfully\n",
      "initial loading starts \n",
      "initial loading passed successfully\n"
     ]
    },
    {
     "ename": "AssertionError",
     "evalue": "",
     "output_type": "error",
     "traceback": [
      "\u001b[1;31m---------------------------------------------------------------------------\u001b[0m",
      "\u001b[1;31mAssertionError\u001b[0m                            Traceback (most recent call last)",
      "\u001b[1;32mc:\\Users\\anton\\IP2\\zonal_toll.ipynb Cell 7\u001b[0m in \u001b[0;36m7\n\u001b[0;32m      <a href='vscode-notebook-cell:/c%3A/Users/anton/IP2/zonal_toll.ipynb#W6sZmlsZQ%3D%3D?line=4'>5</a>\u001b[0m cordon_tolls[\u001b[39m10\u001b[39m]\n\u001b[0;32m      <a href='vscode-notebook-cell:/c%3A/Users/anton/IP2/zonal_toll.ipynb#W6sZmlsZQ%3D%3D?line=5'>6</a>\u001b[0m assignment \u001b[39m=\u001b[39m StaticAssignment(network,od_graph, cordon_toll_value)\n\u001b[1;32m----> <a href='vscode-notebook-cell:/c%3A/Users/anton/IP2/zonal_toll.ipynb#W6sZmlsZQ%3D%3D?line=6'>7</a>\u001b[0m result \u001b[39m=\u001b[39m assignment\u001b[39m.\u001b[39mrun(\u001b[39m\"\u001b[39m\u001b[39mdial_b\u001b[39m\u001b[39m\"\u001b[39m)\n",
      "File \u001b[1;32mc:\\Users\\anton\\IP2\\dyntapy\\assignments.py:295\u001b[0m, in \u001b[0;36mStaticAssignment.run\u001b[1;34m(self, method, store_iterations, **kwargs)\u001b[0m\n\u001b[0;32m    292\u001b[0m \u001b[39m# assignment needs to return at least link_cost and flows, ideally also\u001b[39;00m\n\u001b[0;32m    293\u001b[0m \u001b[39m# multi-commodity (origin, destination or origin-destination)\u001b[39;00m\n\u001b[0;32m    294\u001b[0m \u001b[39mif\u001b[39;00m method \u001b[39m==\u001b[39m \u001b[39m\"\u001b[39m\u001b[39mdial_b\u001b[39m\u001b[39m\"\u001b[39m:\n\u001b[1;32m--> 295\u001b[0m     costs, origin_flows, gap_definition, gap \u001b[39m=\u001b[39m dial_b(\n\u001b[0;32m    296\u001b[0m         \u001b[39mself\u001b[39;49m\u001b[39m.\u001b[39;49minternal_network, \u001b[39mself\u001b[39;49m\u001b[39m.\u001b[39;49minternal_demand, store_iterations, \u001b[39mself\u001b[39;49m\u001b[39m.\u001b[39;49mtolls, \u001b[39mself\u001b[39;49m\u001b[39m.\u001b[39;49mzonal\n\u001b[0;32m    297\u001b[0m     )\n\u001b[0;32m    298\u001b[0m     flows \u001b[39m=\u001b[39m np\u001b[39m.\u001b[39msum(origin_flows, axis\u001b[39m=\u001b[39m\u001b[39m0\u001b[39m)\n\u001b[0;32m    299\u001b[0m     result \u001b[39m=\u001b[39m StaticResult(\n\u001b[0;32m    300\u001b[0m         costs,\n\u001b[0;32m    301\u001b[0m         flows,\n\u001b[1;32m   (...)\u001b[0m\n\u001b[0;32m    307\u001b[0m         origin_flows\u001b[39m=\u001b[39morigin_flows,\n\u001b[0;32m    308\u001b[0m     )\n",
      "File \u001b[1;32mc:\\Users\\anton\\IP2\\dyntapy\\sta\\equilibrate_bush.py:220\u001b[0m, in \u001b[0;36m__get_delta_flow_and_cost\u001b[1;34m()\u001b[0m\n\u001b[0;32m    218\u001b[0m \u001b[39melse\u001b[39;00m:\n\u001b[0;32m    219\u001b[0m     delta_f \u001b[39m=\u001b[39m \u001b[39m-\u001b[39mmin_path_flow\n\u001b[1;32m--> 220\u001b[0m \u001b[39massert\u001b[39;00m min_path_flow \u001b[39m>\u001b[39m\u001b[39m=\u001b[39m \u001b[39m0\u001b[39m\n\u001b[0;32m    221\u001b[0m \u001b[39mif\u001b[39;00m (max_path_derivative \u001b[39m+\u001b[39m min_path_derivative) \u001b[39m<\u001b[39m\u001b[39m=\u001b[39m \u001b[39m0\u001b[39m:\n\u001b[0;32m    222\u001b[0m     \u001b[39mif\u001b[39;00m min_path_cost \u001b[39m<\u001b[39m max_path_cost:\n",
      "\u001b[1;31mAssertionError\u001b[0m: "
     ]
    }
   ],
   "source": [
    "# The network, zoning file and od matrix have been correctly loaded and linked by now. \n",
    "# This means that we can now run an assignment on the real demand! \n",
    "cordon_toll_value = 20\n",
    "cordon_tolls = np.zeros(network.number_of_edges())\n",
    "cordon_tolls[10]\n",
    "assignment = StaticAssignment(network,od_graph, cordon_toll_value)\n",
    "result = assignment.run(\"dial_b\")"
   ]
  }
 ],
 "metadata": {
  "kernelspec": {
   "display_name": "dyntapyIP2",
   "language": "python",
   "name": "python3"
  },
  "language_info": {
   "codemirror_mode": {
    "name": "ipython",
    "version": 3
   },
   "file_extension": ".py",
   "mimetype": "text/x-python",
   "name": "python",
   "nbconvert_exporter": "python",
   "pygments_lexer": "ipython3",
   "version": "3.9.13"
  },
  "orig_nbformat": 4
 },
 "nbformat": 4,
 "nbformat_minor": 2
}
