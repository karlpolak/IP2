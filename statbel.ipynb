{
 "cells": [
  {
   "cell_type": "code",
   "execution_count": 1,
   "metadata": {},
   "outputs": [],
   "source": [
    "# ITS course Seppe Vilain\n",
    "def map_zones_onto_extra_info_statbel(infoFile):\n",
    "    print('Start with {}'.format(infoFile))\n",
    "    # store contents of csv reading in variable 'information'\n",
    "    information = pd.read_csv(str(pathlib.Path(__file__).parent)+'/statbel_data/{}.csv'.format(infoFile))\n",
    "    print(information.head())\n",
    "    info_stasec = 'CD_SECTOR'\n",
    "    # give the actual zones to map --> TO ADD\n",
    "    mapping = pd.read_csv(str(pathlib.Path(__file__).parent)+'/statbel_data/KULZone_StatZone.csv')\n",
    "    print(mapping.head())\n",
    "    mappingZone = 'ZONENUMMER'\n",
    "    mappingStasec = 'CS01012021'\n",
    "    mappingColumn = []\n",
    "    print('information length = {}'.format(len(information)))\n",
    "    print('mapp length = {}'.format(len(mapping)))\n",
    "    for i in range(len(information)):\n",
    "        print('{} of {} done\\t\\t {}%\\t\\t {} left\\t\\t'.format(i+1, len(information), round((i+1)/len(information)*100,3),len(mapping)))\n",
    "        info = information.iloc[i]\n",
    "        if len(mapping) == 0:\n",
    "            mappingColumn.append(None)\n",
    "        else:\n",
    "            for j in range(len(mapping)):\n",
    "                statZone = mapping.iloc[j]\n",
    "                if info[info_stasec] == statZone[mappingStasec]:\n",
    "                    mappingColumn.append(statZone[mappingZone])\n",
    "                    mapping = mapping.drop(j)\n",
    "                    mapping.dropna(inplace=True)\n",
    "                    mapping.reset_index(drop=True, inplace=True)    \n",
    "                    break\n",
    "                if j == len(mapping)-1:\n",
    "                    mappingColumn.append(None)\n",
    "        print('last item = {}'.format(mappingColumn[-1]))   \n",
    "    information[mappingZone] = mappingColumn\n",
    "    information.to_csv(str(pathlib.Path(__file__).parent)+'/statbel_data/{}.csv'.format(infoFile))\n",
    "    print(information.head())\n",
    "    print('Done\\n')"
   ]
  }
 ],
 "metadata": {
  "kernelspec": {
   "display_name": "dyntapy",
   "language": "python",
   "name": "python3"
  },
  "language_info": {
   "codemirror_mode": {
    "name": "ipython",
    "version": 3
   },
   "file_extension": ".py",
   "mimetype": "text/x-python",
   "name": "python",
   "nbconvert_exporter": "python",
   "pygments_lexer": "ipython3",
   "version": "3.9.13"
  },
  "orig_nbformat": 4
 },
 "nbformat": 4,
 "nbformat_minor": 2
}
