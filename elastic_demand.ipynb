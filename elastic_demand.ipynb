{
 "cells": [
  {
   "cell_type": "code",
   "execution_count": null,
   "metadata": {},
   "outputs": [],
   "source": [
    "import warnings\n",
    "warnings.filterwarnings('ignore') # hide warnings\n",
    "import os\n",
    "import numpy as np\n",
    "import sys\n",
    "sys.path.append(\"..\")\n",
    "from dyntapy.supply_data import get_toy_network, relabel_graph\n",
    "from dyntapy.demand_data import add_centroids, od_graph_from_matrix\n",
    "from dyntapy.visualization import show_network\n",
    "from dyntapy.assignments import StaticAssignment"
   ]
  },
  {
   "cell_type": "code",
   "execution_count": null,
   "metadata": {},
   "outputs": [],
   "source": [
    "# Get network\n",
    "network = get_toy_network('two-route')\n",
    "centroid_x = np.array([-1, 3])\n",
    "centroid_y = np.array([2, 2])\n",
    "network = add_centroids(network, centroid_x, centroid_y, euclidean=True)\n",
    "network = relabel_graph(network) \n",
    "# show_network(network, euclidean=True, notebook= True)\n"
   ]
  },
  {
   "cell_type": "code",
   "execution_count": null,
   "metadata": {},
   "outputs": [],
   "source": [
    "# Initial OD to start iterating\n",
    "old_od = np.zeros(4).reshape((2, 2))\n",
    "old_od[0, 1] = 400\n",
    "\n",
    "old_graph = od_graph_from_matrix(old_od, centroid_x, centroid_y)\n",
    "tolls = np.zeros(network.number_of_edges())\n",
    "\n",
    "assignment = StaticAssignment(network,old_graph, tolls)\n",
    "result = assignment.run('dial_b')   "
   ]
  },
  {
   "cell_type": "code",
   "execution_count": null,
   "metadata": {},
   "outputs": [],
   "source": [
    "# A matrix\n",
    "A = 0.05971545\n",
    "# B matrix\n",
    "B = 10"
   ]
  },
  {
   "cell_type": "code",
   "execution_count": null,
   "metadata": {},
   "outputs": [],
   "source": [
    "# First iteration\n",
    "assignment = StaticAssignment(network,old_graph, tolls)\n",
    "result = assignment.run('dial_b')    \n",
    "skims = result.skim\n",
    "new_od = np.zeros(4).reshape((2, 2))\n",
    "new_od[0,1] = (A-skims)/B\n",
    "print(new_od[0,1])\n",
    "print(abs((new_od - old_od)))\n",
    "\n",
    "i = 1 \n",
    "max_iterations = 10\n",
    "max_deviation_per_od = 5\n",
    "while np.max(abs((new_od - old_od))) > max_deviation_per_od and i < max_iterations:\n",
    "    # Perhaps MSA stap\n",
    "    old_od = new_od\n",
    "    old_graph =  od_graph_from_matrix(old_od, centroid_x, centroid_y)\n",
    "    assignment = StaticAssignment(network,old_graph, tolls)\n",
    "    result = assignment.run('dial_b')\n",
    "    skims = result.skim\n",
    "    new_od = np.zeros(4).reshape((2, 2))\n",
    "    new_od[0,1] = (A-skims)/B\n",
    "    i += 1\n",
    "    print(abs((new_od - old_od)))\n",
    "    "
   ]
  }
 ],
 "metadata": {
  "kernelspec": {
   "display_name": "dyntapyIP2",
   "language": "python",
   "name": "python3"
  },
  "language_info": {
   "codemirror_mode": {
    "name": "ipython",
    "version": 3
   },
   "file_extension": ".py",
   "mimetype": "text/x-python",
   "name": "python",
   "nbconvert_exporter": "python",
   "pygments_lexer": "ipython3",
   "version": "3.9.13"
  },
  "orig_nbformat": 4,
  "vscode": {
   "interpreter": {
    "hash": "9e95d76fc3f9d3fc30dc73a387f46f1f590ca9cd0ef0bb3b46e549844218cbac"
   }
  }
 },
 "nbformat": 4,
 "nbformat_minor": 2
}
