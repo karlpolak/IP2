{
 "cells": [
  {
   "cell_type": "code",
   "execution_count": null,
   "metadata": {},
   "outputs": [],
   "source": [
    "import os\n",
    "import pandas as pd\n",
    "import geopandas as gpd\n",
    "import networkx as nx\n",
    "import numpy as np\n",
    "from numpy import transpose\n",
    "from dyntapy.supply_data import road_network_from_place, relabel_graph\n",
    "from dyntapy.demand_data import parse_demand, generate_od_xy, add_centroids, get_centroid_grid_coords, auto_configured_centroids, od_graph_from_matrix\n",
    "from dyntapy.assignments import StaticAssignment\n",
    "from dyntapy.visualization import show_network, show_demand, show_link_od_flows\n",
    "from dyntapy.results import get_selected_link_analysis, get_od_flows"
   ]
  },
  {
   "cell_type": "code",
   "execution_count": null,
   "metadata": {},
   "outputs": [],
   "source": [
    "# read in the network --> ???? DOESN'T WORK YET, i don't know how to read it in.\n",
    "# Also, the netw object should be of type DiGraph \n",
    "HERE = os.path.dirname(os.path.realpath(\"__file__\"))\n",
    "data_path = HERE + os.path.sep +'STA_prep'\n",
    "network_path = data_path + os.path.sep + \"network_data\" + os.path.sep + \"BRUSSEL_3.osm\"\n",
    "print(network_path)\n",
    "with open(network_path, 'r') as network_file:\n",
    "    netw = network_file\n",
    "    print(netw)\n",
    "#show_network(netw, notebook=True)"
   ]
  },
  {
   "cell_type": "code",
   "execution_count": null,
   "metadata": {},
   "outputs": [],
   "source": [
    "# read in the zoning file\n",
    "zoning_path = data_path + os.path.sep + \"shapefile_data\" + os.path.sep + \"BRUSSEL_3_10\" + os.path.sep + \"BRUSSEL_3_10.shp\"\n",
    "zoning = gpd.read_file(zoning_path)\n",
    "print(zoning.head())\n",
    "zone_numbers = zoning[\"ZONENUMMER\"]\n",
    "x_centroids = zoning[\"centroid_x\"]\n",
    "y_centroids = zoning[\"centroid_y\"]"
   ]
  },
  {
   "cell_type": "code",
   "execution_count": null,
   "metadata": {},
   "outputs": [],
   "source": [
    "# read in the od matrix \n",
    "od_path = data_path + os.path.sep + \"od_matrix_data_ext_tr\" + os.path.sep + \"BRUSSEL_ext_tr_3_9_10.xlsx\"\n",
    "od = pd.read_excel(od_path)\n",
    "od_array = od.to_numpy()\n",
    "length = len(od_array)\n",
    "origin_column = [i for i in zone_numbers for j in zone_numbers]\n",
    "destination_column = [j for i in zone_numbers for j in zone_numbers]\n",
    "flow_column = [od_array[i,j] for i in range(0,length) for j in range(0,length)]\n",
    "origin_name = \"origin\"\n",
    "destination_name = \"destination\"\n",
    "flow_name = \"flow\"\n",
    "od_frame = pd.DataFrame(transpose([origin_column, destination_column, flow_column]),columns=[origin_name, destination_name, flow_name])\n",
    "print(od_frame.head())"
   ]
  },
  {
   "cell_type": "code",
   "execution_count": null,
   "metadata": {},
   "outputs": [],
   "source": [
    "od_graph = od_graph_from_matrix(od_array,x_centroids,y_centroids)\n",
    "\n",
    "#Can't use show_network or show_demand, errors occur \n",
    "#show_demand(od_graph, notebook=True)\n",
    "#show_network(od_graph, notebook=True)\n",
    "\n",
    "# Volgens visualization.py 678-685 zou dit toch moeten werken? "
   ]
  },
  {
   "cell_type": "code",
   "execution_count": null,
   "metadata": {},
   "outputs": [],
   "source": [
    "# Once all 3 files are correctly laoded, we can run an assignment. \n",
    "tolls = np.zeros(netw.number_of_edges())\n",
    "assignment = StaticAssignment(netw,od_graph, tolls)\n",
    "methods = ['dial_b']\n",
    "for method in methods:\n",
    "    result = assignment.run(method)\n",
    "    show_network(netw, flows = result.flows, notebook=True, show_nodes=False)\n",
    "    print(f'{method=} ran successfully')\n",
    "# all static assignments return a result object that follows the same structure, see\n",
    "# below\n",
    "print(result.__dict__.keys())"
   ]
  }
 ],
 "metadata": {
  "kernelspec": {
   "display_name": "Python 3.9.13 ('dyntapy')",
   "language": "python",
   "name": "python3"
  },
  "language_info": {
   "codemirror_mode": {
    "name": "ipython",
    "version": 3
   },
   "file_extension": ".py",
   "mimetype": "text/x-python",
   "name": "python",
   "nbconvert_exporter": "python",
   "pygments_lexer": "ipython3",
   "version": "3.9.13"
  },
  "orig_nbformat": 4,
  "vscode": {
   "interpreter": {
    "hash": "d6f8d2479e3cb972d7d32129f6b3d6173253b26a3e35e24507c8792e54fbb854"
   }
  }
 },
 "nbformat": 4,
 "nbformat_minor": 2
}
