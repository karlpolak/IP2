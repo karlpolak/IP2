{
 "cells": [
  {
   "cell_type": "code",
   "execution_count": null,
   "metadata": {},
   "outputs": [],
   "source": [
    "import warnings\n",
    "warnings.filterwarnings('ignore') # hide warnings\n",
    "import os\n",
    "import pandas as pd\n",
    "import geopandas as gpd\n",
    "import numpy as np\n",
    "from dyntapy.supply_data import road_network_from_place, relabel_graph\n",
    "from dyntapy.demand_data import add_centroids, od_graph_from_matrix\n",
    "from dyntapy.assignments import StaticAssignment\n",
    "from dyntapy.visualization import show_network\n",
    "from pyproj import Proj, transform"
   ]
  },
  {
   "cell_type": "code",
   "execution_count": null,
   "metadata": {},
   "outputs": [],
   "source": [
    "# Creating the network for Brussels. \n",
    "# IMPORTANT: Use the same parameter values for the buffer as was done in STA_prep_script!\n",
    "network = road_network_from_place(\"Brussels\", buffer_dist_close=4000)\n",
    "network = relabel_graph(network)\n",
    "show_network(network,notebook=True)\n"
   ]
  },
  {
   "cell_type": "code",
   "execution_count": null,
   "metadata": {},
   "outputs": [],
   "source": [
    "# Read in the zoning file\n",
    "HERE = os.path.dirname(os.path.realpath(\"__file__\"))\n",
    "data_path = HERE + os.path.sep +'STA_prep'\n",
    "zoning_path = data_path + os.path.sep + \"shapefile_data\" + os.path.sep + \"BRUSSEL_3_10\" + os.path.sep + \"BRUSSEL_3_10.shp\"\n",
    "zoning = gpd.read_file(zoning_path) # Everything is now stored in a geopandas dataframe. \n",
    "\n",
    "# Retrieve zone number, x_centroid (LON) and y_centroid (LAT) from each zone. \n",
    "zone_numbers = zoning[\"ZONENUMMER\"]\n",
    "x_lamb = zoning[\"X_LAMB\"]\n",
    "x_lamb = x_lamb.to_numpy()\n",
    "y_lamb = zoning[\"Y_LAMB\"]\n",
    "y_lamb = y_lamb.to_numpy()\n",
    "\n",
    "# Project to correct CRS. \n",
    "inProj = Proj(init='epsg:31370')\n",
    "outProj = Proj(init='epsg:4326')\n",
    "x_centroids, y_centroids = transform(inProj,outProj,x_lamb,y_lamb)\n",
    "\n",
    "# Add the centroids to the network. Relabelling the graph is required (see demo for reason why)\n",
    "connector_type = 'link'\n",
    "network = add_centroids(network, x_centroids,y_centroids,k=1, method=connector_type)\n",
    "network = relabel_graph(network)\n",
    "show_network(network, notebook = true)"
   ]
  },
  {
   "cell_type": "code",
   "execution_count": null,
   "metadata": {},
   "outputs": [],
   "source": [
    "# Read in the od matrix \n",
    "od_path = data_path + os.path.sep + \"od_matrix_data_ext_tr\" + os.path.sep + \"BRUSSEL_ext_tr_3_9_10.xlsx\"\n",
    "od = pd.read_excel(od_path)\n",
    "od_array = od.to_numpy() # The OD matrix is now stored in a numpy array\n",
    "\n",
    "# Create OD graph and plot demand\n",
    "od_graph = od_graph_from_matrix(od_array,x_centroids,y_centroids) \n",
    "# demand plot is useless since there are too many OD-pairs "
   ]
  },
  {
   "cell_type": "code",
   "execution_count": null,
   "metadata": {},
   "outputs": [],
   "source": [
    "# The network, zoning file and od matrix have been correctly loaded and linked by now. \n",
    "# This means that we can now run an assignment on the real demand! \n",
    "tolls = np.zeros(network.number_of_edges())\n",
    "assignment = StaticAssignment(network,od_graph, tolls)\n",
    "methods = ['dial_b']\n",
    "for method in methods:\n",
    "    result = assignment.run(method)\n",
    "    show_network(network, flows = result.flows, notebook=True, show_nodes=False)\n",
    "    print(f'{method=} ran successfully')\n",
    "# all static assignments return a result object that follows the same structure, see\n",
    "# below\n",
    "print(result.__dict__.keys())"
   ]
  },
  {
   "cell_type": "code",
   "execution_count": null,
   "metadata": {},
   "outputs": [],
   "source": [
    "veh_hours = result.link_costs * result.flows\n",
    "objective = sum(veh_hours)\n",
    "print(objective)"
   ]
  }
 ],
 "metadata": {
  "kernelspec": {
   "display_name": "Python 3.9.13 ('dyntapy')",
   "language": "python",
   "name": "python3"
  },
  "language_info": {
   "codemirror_mode": {
    "name": "ipython",
    "version": 3
   },
   "file_extension": ".py",
   "mimetype": "text/x-python",
   "name": "python",
   "nbconvert_exporter": "python",
   "pygments_lexer": "ipython3",
   "version": "3.9.13"
  },
  "orig_nbformat": 4,
  "vscode": {
   "interpreter": {
    "hash": "d6f8d2479e3cb972d7d32129f6b3d6173253b26a3e35e24507c8792e54fbb854"
   }
  }
 },
 "nbformat": 4,
 "nbformat_minor": 2
}
