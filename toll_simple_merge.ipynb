{
 "cells": [
  {
   "cell_type": "code",
   "execution_count": 23,
   "metadata": {},
   "outputs": [],
   "source": [
    "import warnings\n",
    "warnings.filterwarnings('ignore') # hide warnings\n",
    "from pickle import dump, load\n",
    "import os\n",
    "\n",
    "import sys\n",
    "sys.path.append(\"..\")\n",
    "\n",
    "from dyntapy.supply_data import get_toy_network, relabel_graph\n",
    "from dyntapy.demand_data import add_centroids, auto_configured_centroids, od_graph_from_matrix\n",
    "from dyntapy.assignments import StaticAssignment\n",
    "from dyntapy.visualization import show_network, show_demand, show_link_od_flows\n",
    "from dyntapy.results import get_selected_link_analysis, get_od_flows\n",
    "\n",
    "import numpy as np\n",
    "\n",
    "# first we download a road network graph using OSMNX, and clean up some of the data. We rename some attributes\n",
    "# from OpenStreetMap to comply with GMNS (https://github.com/zephyr-data-specs/GMNS) and \n",
    "# provide a very rough estimate of capacities.\n",
    "\n",
    "g = get_toy_network('simple_merge')"
   ]
  },
  {
   "cell_type": "code",
   "execution_count": 24,
   "metadata": {},
   "outputs": [],
   "source": [
    "centroid_x = np.array([2, 2, 6])\n",
    "centroid_y = np.array([1, 2, 1.5])\n",
    "g = add_centroids(g, centroid_x, centroid_y, euclidean=True)\n",
    "# also adds connectors automatically\n",
    "g = relabel_graph(g)  # adding link and node ids, connectors and centroids\n",
    "# are the first elements\n",
    "show_network(g, euclidean=True)\n",
    "od_matrix = np.zeros(9).reshape((3, 3))\n",
    "od_matrix[0, 2] = 500\n",
    "od_matrix[1, 2] = 500\n",
    "od_graph = od_graph_from_matrix(od_matrix, centroid_x, centroid_y)\n",
    "show_demand(od_graph, euclidean=True)"
   ]
  },
  {
   "cell_type": "code",
   "execution_count": 26,
   "metadata": {},
   "outputs": [
    {
     "ename": "TypeError",
     "evalue": "__init__() takes 3 positional arguments but 4 were given",
     "output_type": "error",
     "traceback": [
      "\u001b[0;31m---------------------------------------------------------------------------\u001b[0m",
      "\u001b[0;31mTypeError\u001b[0m                                 Traceback (most recent call last)",
      "Cell \u001b[0;32mIn [26], line 3\u001b[0m\n\u001b[1;32m      1\u001b[0m tolls \u001b[39m=\u001b[39m np\u001b[39m.\u001b[39mempty(g\u001b[39m.\u001b[39mnumber_of_edges(), dtype\u001b[39m=\u001b[39mnp\u001b[39m.\u001b[39mfloat64)\n\u001b[0;32m----> 3\u001b[0m assignment \u001b[39m=\u001b[39m StaticAssignment(g,od_graph, tolls) \u001b[39m# TODO tolls meegeven\u001b[39;00m\n\u001b[1;32m      4\u001b[0m methods \u001b[39m=\u001b[39m [\u001b[39m'\u001b[39m\u001b[39mdial_b\u001b[39m\u001b[39m'\u001b[39m]\n\u001b[1;32m      5\u001b[0m \u001b[39mfor\u001b[39;00m method \u001b[39min\u001b[39;00m methods:\n",
      "\u001b[0;31mTypeError\u001b[0m: __init__() takes 3 positional arguments but 4 were given"
     ]
    }
   ],
   "source": [
    "tolls = np.empty(g.number_of_edges(), dtype=np.float64)\n",
    "\n",
    "assignment = StaticAssignment(g,od_graph, tolls) # TODO fix tolls\n",
    "methods = ['dial_b']\n",
    "for method in methods:\n",
    "    result = assignment.run(method)\n",
    "    show_network(g, flows = result.flows, notebook=True, show_nodes=False, euclidean=True)\n",
    "    print(f'{method=} ran successfully')\n",
    "# all static assignments return a result object that follows the same structure, see\n",
    "# below\n",
    "print(result.__dict__.keys())"
   ]
  },
  {
   "cell_type": "code",
   "execution_count": null,
   "metadata": {},
   "outputs": [],
   "source": []
  }
 ],
 "metadata": {
  "kernelspec": {
   "display_name": "Python 3.9.13 ('dyntapy')",
   "language": "python",
   "name": "python3"
  },
  "language_info": {
   "codemirror_mode": {
    "name": "ipython",
    "version": 3
   },
   "file_extension": ".py",
   "mimetype": "text/x-python",
   "name": "python",
   "nbconvert_exporter": "python",
   "pygments_lexer": "ipython3",
   "version": "3.9.13"
  },
  "orig_nbformat": 4,
  "vscode": {
   "interpreter": {
    "hash": "33c1dbca894d8e507bb19ed2e29ce9cbb8d51ed396f70378c2202a4a7a4d784b"
   }
  }
 },
 "nbformat": 4,
 "nbformat_minor": 2
}
