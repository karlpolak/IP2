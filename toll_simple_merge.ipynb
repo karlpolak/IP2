{
 "cells": [
  {
   "cell_type": "code",
   "execution_count": null,
   "metadata": {},
   "outputs": [],
   "source": [
    "import warnings\n",
    "warnings.filterwarnings('ignore') # hide warnings\n",
    "import numpy as np\n",
    "import sys\n",
    "sys.path.append(\"..\")\n",
    "\n",
    "from dyntapy.supply_data import get_toy_network, relabel_graph\n",
    "from dyntapy.demand_data import add_centroids, od_graph_from_matrix\n",
    "from dyntapy.assignments import StaticAssignment\n",
    "from dyntapy.visualization import show_network, show_demand"
   ]
  },
  {
   "cell_type": "code",
   "execution_count": null,
   "metadata": {},
   "outputs": [],
   "source": [
    "g = get_toy_network('cascetta')\n",
    "\n",
    "centroid_x = np.array([2+np.sqrt(2), 5, np.sqrt(2)])\n",
    "centroid_y = np.array([-0.5, np.sqrt(2), np.sqrt(2)])\n",
    "g = add_centroids(g, centroid_x, centroid_y, euclidean=True)\n",
    "# also adds connectors automatically\n",
    "g = relabel_graph(g)  # adding link and node ids, connectors and centroids\n",
    "# are the first elements\n",
    "show_network(g, euclidean=True)\n",
    "od_matrix = np.zeros(9).reshape((3, 3))\n",
    "od_matrix[0, 1] = 100\n",
    "od_matrix[2, 1] = 100\n",
    "od_graph = od_graph_from_matrix(od_matrix, centroid_x, centroid_y)\n",
    "show_demand(od_graph, euclidean=True)"
   ]
  },
  {
   "cell_type": "code",
   "execution_count": null,
   "metadata": {},
   "outputs": [],
   "source": [
    "tolls = np.zeros(g.number_of_edges())\n",
    "assignment = StaticAssignment(g,od_graph, tolls) # TODO fix tolls\n",
    "methods = ['dial_b']\n",
    "for method in methods:\n",
    "    result = assignment.run(method)\n",
    "    show_network(g, flows = result.flows, notebook=True, show_nodes=False, euclidean=True)\n",
    "    print(f'{method=} ran successfully')\n",
    "# all static assignments return a result object that follows the same structure, see\n",
    "# below\n",
    "print(result.link_costs)"
   ]
  },
  {
   "cell_type": "code",
   "execution_count": null,
   "metadata": {},
   "outputs": [],
   "source": [
    "tolls2 = np.array([0,0,0,0,0,0,0,0,0,0,0,0,0,0,0,0,0,0,0,0,0,0])\n",
    "tolls2[9] = 10\n",
    "assignment2 = StaticAssignment(g,od_graph, tolls2) # TODO fix tolls\n",
    "methods = ['dial_b']\n",
    "for method in methods:\n",
    "    result2 = assignment2.run(method)\n",
    "    show_network(g, flows = result2.flows, notebook=True, show_nodes=False, euclidean=True)\n",
    "    print(f'{method=} ran successfully')\n",
    "# all static assignments return a result object that follows the same structure, see\n",
    "# below\n",
    "print(result2.link_costs)"
   ]
  }
 ],
 "metadata": {
  "kernelspec": {
   "display_name": "Python 3.9.13 ('dyntapy')",
   "language": "python",
   "name": "python3"
  },
  "language_info": {
   "codemirror_mode": {
    "name": "ipython",
    "version": 3
   },
   "file_extension": ".py",
   "mimetype": "text/x-python",
   "name": "python",
   "nbconvert_exporter": "python",
   "pygments_lexer": "ipython3",
   "version": "3.9.13"
  },
  "orig_nbformat": 4,
  "vscode": {
   "interpreter": {
    "hash": "d6f8d2479e3cb972d7d32129f6b3d6173253b26a3e35e24507c8792e54fbb854"
   }
  }
 },
 "nbformat": 4,
 "nbformat_minor": 2
}
