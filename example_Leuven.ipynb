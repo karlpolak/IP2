{
 "cells": [
  {
   "cell_type": "code",
   "execution_count": null,
   "metadata": {},
   "outputs": [],
   "source": [
    "# You can ignore this code block. It specifies the required imports and retrieves the needed files. \n",
    "\n",
    "import warnings\n",
    "import os\n",
    "import pandas as pd\n",
    "import geopandas as gpd\n",
    "import numpy as np\n",
    "from pickle import load\n",
    "from dyntapy.assignments import StaticAssignment\n",
    "from dyntapy.visualization import show_network, show_demand\n",
    "warnings.filterwarnings('ignore') # hide warnings\n",
    "ext = 2\n",
    "buffer = 2\n",
    "city = 'LEUVEN'\n",
    "buffer = str(buffer) \n",
    "HERE = os.path.dirname(os.path.realpath(\"__file__\"))\n",
    "HEEDS_data_path = HERE + os.path.sep +'HEEDS_prep'\n",
    "network_path = HEEDS_data_path + os.path.sep + 'network_centroids_data' + os.path.sep + city + \"_\" + buffer + '_centroids'\n",
    "graph_path = HEEDS_data_path + os.path.sep + \"od_graph_data\" + os.path.sep + city + \"_ext_tr_\" + buffer + \"_9_10\"\n",
    "with open(network_path, 'rb') as network_file:\n",
    "    network = load(network_file)\n",
    "    print(f'network loaded from f{network_path}')\n",
    "with open(graph_path, 'rb') as od:\n",
    "    od_graph = load(od)\n",
    "    print(f'network loaded from f{graph_path}')\n"
   ]
  },
  {
   "cell_type": "code",
   "execution_count": null,
   "metadata": {},
   "outputs": [],
   "source": [
    "# This code block shows the network. \n",
    "show_network(network,notebook=True)"
   ]
  },
  {
   "cell_type": "code",
   "execution_count": null,
   "metadata": {},
   "outputs": [],
   "source": [
    "# This code block shows the OD-graph. \n",
    "show_demand(od_graph,notebook=True)"
   ]
  },
  {
   "cell_type": "code",
   "execution_count": null,
   "metadata": {},
   "outputs": [],
   "source": [
    "# A traffic assignment is done on the loaded files. \n",
    "tolls = np.zeros(network.number_of_edges())\n",
    "assignment = StaticAssignment(network,od_graph, tolls)\n",
    "method = 'dial_b'\n",
    "result = assignment.run(method)\n",
    "print(f'{method=} ran successfully')\n",
    "show_network(network, notebook=True, flows = result.flows, show_nodes=False)"
   ]
  },
  {
   "cell_type": "code",
   "execution_count": null,
   "metadata": {},
   "outputs": [],
   "source": [
    "# Now, you should look at the plot above and chose a link that you would like to toll.\n",
    "# For example the street of your residence. Then, chose a toll value. \n",
    "\n",
    "toll_id = # FILL IN THE LINK NUMBER HERE\n",
    "toll_value =  # FILL IN THE TOLL VALUE HERE (toll is defined in hours here, so 0.10 is 6 minutes)\n",
    "\n",
    "tolls[toll_id] = toll_value\n",
    "assignment2 = StaticAssignment(network,od_graph, tolls)\n",
    "result2 = assignment.run(method)\n",
    "print(f'{method=} ran successfully')\n",
    "show_network(network, notebook=True, flows = result2.flows, show_nodes=False)"
   ]
  }
 ],
 "metadata": {
  "kernelspec": {
   "display_name": "Python 3.9.13 ('dyntapyIP2')",
   "language": "python",
   "name": "python3"
  },
  "language_info": {
   "codemirror_mode": {
    "name": "ipython",
    "version": 3
   },
   "file_extension": ".py",
   "mimetype": "text/x-python",
   "name": "python",
   "nbconvert_exporter": "python",
   "pygments_lexer": "ipython3",
   "version": "3.9.13"
  },
  "orig_nbformat": 4,
  "vscode": {
   "interpreter": {
    "hash": "9e95d76fc3f9d3fc30dc73a387f46f1f590ca9cd0ef0bb3b46e549844218cbac"
   }
  }
 },
 "nbformat": 4,
 "nbformat_minor": 2
}
